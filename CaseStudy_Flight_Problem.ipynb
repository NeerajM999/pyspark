{
 "cells": [
  {
   "cell_type": "markdown",
   "metadata": {},
   "source": [
    "A solution to problem stated in this post - \n",
    "https://medium.com/bluekiri/check-your-pyspark-abilities-by-solving-this-quick-challenge-86f563a343dd"
   ]
  },
  {
   "cell_type": "code",
   "execution_count": 6,
   "metadata": {},
   "outputs": [
    {
     "data": {
      "text/html": [
       "<div>\n",
       "<style scoped>\n",
       "    .dataframe tbody tr th:only-of-type {\n",
       "        vertical-align: middle;\n",
       "    }\n",
       "\n",
       "    .dataframe tbody tr th {\n",
       "        vertical-align: top;\n",
       "    }\n",
       "\n",
       "    .dataframe thead th {\n",
       "        text-align: right;\n",
       "    }\n",
       "</style>\n",
       "<table border=\"1\" class=\"dataframe\">\n",
       "  <thead>\n",
       "    <tr style=\"text-align: right;\">\n",
       "      <th></th>\n",
       "      <th>origin</th>\n",
       "      <th>destination</th>\n",
       "      <th>internal_flight_ids</th>\n",
       "    </tr>\n",
       "  </thead>\n",
       "  <tbody>\n",
       "    <tr>\n",
       "      <th>0</th>\n",
       "      <td>PMI</td>\n",
       "      <td>OPO</td>\n",
       "      <td>[2, 1]</td>\n",
       "    </tr>\n",
       "    <tr>\n",
       "      <th>1</th>\n",
       "      <td>ATH</td>\n",
       "      <td>BCN</td>\n",
       "      <td>[3]</td>\n",
       "    </tr>\n",
       "    <tr>\n",
       "      <th>2</th>\n",
       "      <td>JFK</td>\n",
       "      <td>MAD</td>\n",
       "      <td>[5, 4, 6]</td>\n",
       "    </tr>\n",
       "    <tr>\n",
       "      <th>3</th>\n",
       "      <td>HND</td>\n",
       "      <td>LAX</td>\n",
       "      <td>[8, 9, 7, 0]</td>\n",
       "    </tr>\n",
       "  </tbody>\n",
       "</table>\n",
       "</div>"
      ],
      "text/plain": [
       "  origin destination internal_flight_ids\n",
       "0    PMI         OPO              [2, 1]\n",
       "1    ATH         BCN                 [3]\n",
       "2    JFK         MAD           [5, 4, 6]\n",
       "3    HND         LAX        [8, 9, 7, 0]"
      ]
     },
     "execution_count": 6,
     "metadata": {},
     "output_type": "execute_result"
    }
   ],
   "source": [
    "import pandas as pd\n",
    "\n",
    "# create dataset for internal flights\n",
    "trips = pd.DataFrame({\n",
    "    \"origin\": [\n",
    "        \"PMI\",\n",
    "        \"ATH\",\n",
    "        \"JFK\",\n",
    "        \"HND\"\n",
    "    ],\n",
    "    \"destination\": [\n",
    "        \"OPO\",\n",
    "        \"BCN\",\n",
    "        \"MAD\",\n",
    "        \"LAX\"\n",
    "    ],\n",
    "    \"internal_flight_ids\": [\n",
    "        [2, 1],\n",
    "        [3],\n",
    "        [5, 4, 6],\n",
    "        [8, 9, 7, 0]\n",
    "    ]    \n",
    "})\n",
    "\n",
    "trips"
   ]
  },
  {
   "cell_type": "code",
   "execution_count": 7,
   "metadata": {},
   "outputs": [
    {
     "data": {
      "text/html": [
       "<div>\n",
       "<style scoped>\n",
       "    .dataframe tbody tr th:only-of-type {\n",
       "        vertical-align: middle;\n",
       "    }\n",
       "\n",
       "    .dataframe tbody tr th {\n",
       "        vertical-align: top;\n",
       "    }\n",
       "\n",
       "    .dataframe thead th {\n",
       "        text-align: right;\n",
       "    }\n",
       "</style>\n",
       "<table border=\"1\" class=\"dataframe\">\n",
       "  <thead>\n",
       "    <tr style=\"text-align: right;\">\n",
       "      <th></th>\n",
       "      <th>internal_flight_id</th>\n",
       "      <th>public_flight_number</th>\n",
       "    </tr>\n",
       "  </thead>\n",
       "  <tbody>\n",
       "    <tr>\n",
       "      <th>0</th>\n",
       "      <td>0</td>\n",
       "      <td>FR5763</td>\n",
       "    </tr>\n",
       "    <tr>\n",
       "      <th>1</th>\n",
       "      <td>1</td>\n",
       "      <td>UT9586</td>\n",
       "    </tr>\n",
       "    <tr>\n",
       "      <th>2</th>\n",
       "      <td>2</td>\n",
       "      <td>B4325</td>\n",
       "    </tr>\n",
       "    <tr>\n",
       "      <th>3</th>\n",
       "      <td>3</td>\n",
       "      <td>RW35675</td>\n",
       "    </tr>\n",
       "    <tr>\n",
       "      <th>4</th>\n",
       "      <td>4</td>\n",
       "      <td>LP656</td>\n",
       "    </tr>\n",
       "    <tr>\n",
       "      <th>5</th>\n",
       "      <td>5</td>\n",
       "      <td>NB4321</td>\n",
       "    </tr>\n",
       "    <tr>\n",
       "      <th>6</th>\n",
       "      <td>6</td>\n",
       "      <td>CX4599</td>\n",
       "    </tr>\n",
       "    <tr>\n",
       "      <th>7</th>\n",
       "      <td>7</td>\n",
       "      <td>AZ8844</td>\n",
       "    </tr>\n",
       "    <tr>\n",
       "      <th>8</th>\n",
       "      <td>8</td>\n",
       "      <td>KH8851</td>\n",
       "    </tr>\n",
       "    <tr>\n",
       "      <th>9</th>\n",
       "      <td>9</td>\n",
       "      <td>OP8777</td>\n",
       "    </tr>\n",
       "  </tbody>\n",
       "</table>\n",
       "</div>"
      ],
      "text/plain": [
       "   internal_flight_id public_flight_number\n",
       "0                   0               FR5763\n",
       "1                   1               UT9586\n",
       "2                   2                B4325\n",
       "3                   3              RW35675\n",
       "4                   4                LP656\n",
       "5                   5               NB4321\n",
       "6                   6               CX4599\n",
       "7                   7               AZ8844\n",
       "8                   8               KH8851\n",
       "9                   9               OP8777"
      ]
     },
     "execution_count": 7,
     "metadata": {},
     "output_type": "execute_result"
    }
   ],
   "source": [
    "# create dataset with public and internal flights reference information\n",
    "flights = pd.DataFrame({\n",
    "    \"internal_flight_id\": [\n",
    "        0, 1, 2, 3, 4, 5, 6, 7, 8, 9\n",
    "    ],\n",
    "    \"public_flight_number\": [\n",
    "        \"FR5763\", \"UT9586\", \"B4325\", \"RW35675\", \"LP656\",\n",
    "        \"NB4321\", \"CX4599\", \"AZ8844\", \"KH8851\", \"OP8777\"\n",
    "    ]\n",
    "})\n",
    "flights"
   ]
  },
  {
   "cell_type": "code",
   "execution_count": 8,
   "metadata": {},
   "outputs": [
    {
     "name": "stdout",
     "output_type": "stream",
     "text": [
      "+------+-----------+-------------------+\n",
      "|origin|destination|internal_flight_ids|\n",
      "+------+-----------+-------------------+\n",
      "|   PMI|        OPO|             [2, 1]|\n",
      "|   ATH|        BCN|                [3]|\n",
      "|   JFK|        MAD|          [5, 4, 6]|\n",
      "|   HND|        LAX|       [8, 9, 7, 0]|\n",
      "+------+-----------+-------------------+\n",
      "\n"
     ]
    }
   ],
   "source": [
    "# convert into spark dataframe\n",
    "tripsDF = spark.createDataFrame(trips)\n",
    "tripsDF.show(10)"
   ]
  },
  {
   "cell_type": "code",
   "execution_count": 9,
   "metadata": {},
   "outputs": [
    {
     "name": "stdout",
     "output_type": "stream",
     "text": [
      "+------------------+--------------------+\n",
      "|internal_flight_id|public_flight_number|\n",
      "+------------------+--------------------+\n",
      "|                 0|              FR5763|\n",
      "|                 1|              UT9586|\n",
      "|                 2|               B4325|\n",
      "|                 3|             RW35675|\n",
      "|                 4|               LP656|\n",
      "+------------------+--------------------+\n",
      "only showing top 5 rows\n",
      "\n"
     ]
    }
   ],
   "source": [
    "# same for flights\n",
    "flightDF = spark.createDataFrame(flights)\n",
    "flightDF.show(5)"
   ]
  },
  {
   "cell_type": "code",
   "execution_count": 13,
   "metadata": {},
   "outputs": [],
   "source": [
    "tripsDF.createOrReplaceTempView(\"trips_table\")\n",
    "flightDF.createOrReplaceTempView(\"flights_table\")"
   ]
  },
  {
   "cell_type": "code",
   "execution_count": 22,
   "metadata": {},
   "outputs": [
    {
     "name": "stdout",
     "output_type": "stream",
     "text": [
      "+------+-----------+-------------------+-----------+\n",
      "|origin|destination|internal_flight_ids|      rowid|\n",
      "+------+-----------+-------------------+-----------+\n",
      "|   PMI|        OPO|             [2, 1]|          0|\n",
      "|   ATH|        BCN|                [3]| 8589934592|\n",
      "|   JFK|        MAD|          [5, 4, 6]|17179869184|\n",
      "|   HND|        LAX|       [8, 9, 7, 0]|25769803776|\n",
      "+------+-----------+-------------------+-----------+\n",
      "\n"
     ]
    }
   ],
   "source": [
    "from pyspark.sql.functions import col, explode, posexplode, monotonically_increasing_id, collect_list\n",
    "from pyspark.sql.window import Window\n",
    "\n",
    "t = tripsDF.withColumn(\"rowid\", monotonically_increasing_id())\n",
    "t.show()\n"
   ]
  },
  {
   "cell_type": "code",
   "execution_count": 30,
   "metadata": {},
   "outputs": [
    {
     "name": "stdout",
     "output_type": "stream",
     "text": [
      "+-----------+------------------+\n",
      "|      rowid|internal_flight_id|\n",
      "+-----------+------------------+\n",
      "|          0|                 2|\n",
      "|          0|                 1|\n",
      "| 8589934592|                 3|\n",
      "|17179869184|                 5|\n",
      "|17179869184|                 4|\n",
      "|17179869184|                 6|\n",
      "|25769803776|                 8|\n",
      "|25769803776|                 9|\n",
      "|25769803776|                 7|\n",
      "|25769803776|                 0|\n",
      "+-----------+------------------+\n",
      "\n"
     ]
    }
   ],
   "source": [
    "exploded = t.select(\"rowid\", explode(col(\"internal_flight_ids\")).alias(\"internal_flight_id\"))\n",
    "exploded.show()"
   ]
  },
  {
   "cell_type": "code",
   "execution_count": 33,
   "metadata": {},
   "outputs": [
    {
     "name": "stdout",
     "output_type": "stream",
     "text": [
      "+------------------+-----------+--------------------+\n",
      "|internal_flight_id|      rowid|public_flight_number|\n",
      "+------------------+-----------+--------------------+\n",
      "|                 0|25769803776|              FR5763|\n",
      "|                 7|25769803776|              AZ8844|\n",
      "|                 6|17179869184|              CX4599|\n",
      "|                 9|25769803776|              OP8777|\n",
      "|                 5|17179869184|              NB4321|\n",
      "|                 1|          0|              UT9586|\n",
      "|                 3| 8589934592|             RW35675|\n",
      "|                 8|25769803776|              KH8851|\n",
      "|                 2|          0|               B4325|\n",
      "|                 4|17179869184|               LP656|\n",
      "+------------------+-----------+--------------------+\n",
      "\n"
     ]
    }
   ],
   "source": [
    "# join exploded with flights data\n",
    "exploded_with_flight_number = exploded.join(flightDF, on=\"internal_flight_id\")\n",
    "exploded_with_flight_number.show()"
   ]
  },
  {
   "cell_type": "code",
   "execution_count": 38,
   "metadata": {},
   "outputs": [
    {
     "name": "stdout",
     "output_type": "stream",
     "text": [
      "+-----------+----------------------------------+\n",
      "|rowid      |collect_list(public_flight_number)|\n",
      "+-----------+----------------------------------+\n",
      "|8589934592 |[RW35675]                         |\n",
      "|0          |[UT9586, B4325]                   |\n",
      "|25769803776|[FR5763, AZ8844, OP8777, KH8851]  |\n",
      "|17179869184|[CX4599, NB4321, LP656]           |\n",
      "+-----------+----------------------------------+\n",
      "\n"
     ]
    }
   ],
   "source": [
    "# group and collect the list of flights\n",
    "collected_flights = exploded_with_flight_number.groupBy(\"rowid\")\\\n",
    "    .agg(collect_list(\"public_flight_number\"))\\\n",
    "    .alias(\"public_fligh_number\")\n",
    "\n",
    "collected_flights.show(5, False)"
   ]
  },
  {
   "cell_type": "code",
   "execution_count": 39,
   "metadata": {},
   "outputs": [
    {
     "name": "stdout",
     "output_type": "stream",
     "text": [
      "+------+-----------+-------------------+----------------------------------+\n",
      "|origin|destination|internal_flight_ids|collect_list(public_flight_number)|\n",
      "+------+-----------+-------------------+----------------------------------+\n",
      "|   ATH|        BCN|                [3]|                         [RW35675]|\n",
      "|   PMI|        OPO|             [2, 1]|                   [UT9586, B4325]|\n",
      "|   HND|        LAX|       [8, 9, 7, 0]|              [FR5763, AZ8844, ...|\n",
      "|   JFK|        MAD|          [5, 4, 6]|              [CX4599, NB4321, ...|\n",
      "+------+-----------+-------------------+----------------------------------+\n",
      "\n"
     ]
    }
   ],
   "source": [
    "# notice the order of flights is wrong in last column; this is because of explode funtion runs in parallel in spark\n",
    "t.join(collected_flights, on=\"rowid\").drop(\"rowid\").show()"
   ]
  },
  {
   "cell_type": "markdown",
   "metadata": {},
   "source": [
    "## Correct Solution is "
   ]
  },
  {
   "cell_type": "code",
   "execution_count": 40,
   "metadata": {},
   "outputs": [
    {
     "name": "stdout",
     "output_type": "stream",
     "text": [
      "+------+-----------+-------------------+-----------+\n",
      "|origin|destination|internal_flight_ids|      rowid|\n",
      "+------+-----------+-------------------+-----------+\n",
      "|   PMI|        OPO|             [2, 1]|          0|\n",
      "|   ATH|        BCN|                [3]| 8589934592|\n",
      "|   JFK|        MAD|          [5, 4, 6]|17179869184|\n",
      "|   HND|        LAX|       [8, 9, 7, 0]|25769803776|\n",
      "+------+-----------+-------------------+-----------+\n",
      "\n"
     ]
    }
   ],
   "source": [
    "# correct solution is using posexplode\n",
    "tt = tripsDF.withColumn(\"rowid\", monotonically_increasing_id())\n",
    "tt.show()"
   ]
  },
  {
   "cell_type": "code",
   "execution_count": 42,
   "metadata": {},
   "outputs": [
    {
     "name": "stdout",
     "output_type": "stream",
     "text": [
      "+-----------+--------+------------------+\n",
      "|      rowid|position|internal_flight_id|\n",
      "+-----------+--------+------------------+\n",
      "|          0|       0|                 2|\n",
      "|          0|       1|                 1|\n",
      "| 8589934592|       0|                 3|\n",
      "|17179869184|       0|                 5|\n",
      "|17179869184|       1|                 4|\n",
      "|17179869184|       2|                 6|\n",
      "|25769803776|       0|                 8|\n",
      "|25769803776|       1|                 9|\n",
      "|25769803776|       2|                 7|\n",
      "|25769803776|       3|                 0|\n",
      "+-----------+--------+------------------+\n",
      "\n"
     ]
    }
   ],
   "source": [
    "# next posexplode the internal_flight_ids\n",
    "exploded_flights = tt.select(\"rowid\", posexplode(\"internal_flight_ids\"))\\\n",
    "    .withColumnRenamed(\"pos\", \"position\")\\\n",
    "    .withColumnRenamed(\"col\", \"internal_flight_id\")\n",
    "\n",
    "exploded_flights.show()"
   ]
  },
  {
   "cell_type": "code",
   "execution_count": 44,
   "metadata": {},
   "outputs": [
    {
     "name": "stdout",
     "output_type": "stream",
     "text": [
      "+------------------+-----------+--------+--------------------+\n",
      "|internal_flight_id|      rowid|position|public_flight_number|\n",
      "+------------------+-----------+--------+--------------------+\n",
      "|                 0|25769803776|       3|              FR5763|\n",
      "|                 7|25769803776|       2|              AZ8844|\n",
      "|                 6|17179869184|       2|              CX4599|\n",
      "|                 9|25769803776|       1|              OP8777|\n",
      "|                 5|17179869184|       0|              NB4321|\n",
      "|                 1|          0|       1|              UT9586|\n",
      "|                 3| 8589934592|       0|             RW35675|\n",
      "|                 8|25769803776|       0|              KH8851|\n",
      "|                 2|          0|       0|               B4325|\n",
      "|                 4|17179869184|       1|               LP656|\n",
      "+------------------+-----------+--------+--------------------+\n",
      "\n"
     ]
    }
   ],
   "source": [
    "# now map it with flights data\n",
    "exploded_with_flights = exploded_flights.join(flightDF, on=\"internal_flight_id\")\n",
    "exploded_with_flights.show()"
   ]
  },
  {
   "cell_type": "code",
   "execution_count": 46,
   "metadata": {},
   "outputs": [
    {
     "name": "stdout",
     "output_type": "stream",
     "text": [
      "+-----------+--------------------------------+\n",
      "|rowid      |public_flight_numbers           |\n",
      "+-----------+--------------------------------+\n",
      "|8589934592 |[RW35675]                       |\n",
      "|0          |[B4325, UT9586]                 |\n",
      "|0          |[B4325, UT9586]                 |\n",
      "|25769803776|[KH8851, OP8777, AZ8844, FR5763]|\n",
      "|25769803776|[KH8851, OP8777, AZ8844, FR5763]|\n",
      "|25769803776|[KH8851, OP8777, AZ8844, FR5763]|\n",
      "|25769803776|[KH8851, OP8777, AZ8844, FR5763]|\n",
      "|17179869184|[NB4321, LP656, CX4599]         |\n",
      "|17179869184|[NB4321, LP656, CX4599]         |\n",
      "|17179869184|[NB4321, LP656, CX4599]         |\n",
      "+-----------+--------------------------------+\n",
      "\n"
     ]
    }
   ],
   "source": [
    "# next group and collect list order by position\n",
    "collected = exploded_with_flights\\\n",
    "    .withColumn(\"public_flight_numbers\", collect_list(\"public_flight_number\")\\\n",
    "    .over(Window \\\n",
    "         .partitionBy(\"rowid\")\\\n",
    "         .orderBy(\"position\")\\\n",
    "         .rowsBetween(Window.unboundedPreceding, Window.unboundedFollowing)))\\\n",
    "    .select(\"rowid\", \"public_flight_numbers\")\n",
    "\n",
    "collected.show(10, False)\n",
    "    "
   ]
  },
  {
   "cell_type": "code",
   "execution_count": 52,
   "metadata": {},
   "outputs": [
    {
     "name": "stdout",
     "output_type": "stream",
     "text": [
      "+------+-----------+-------------------+--------------------------------+\n",
      "|origin|destination|internal_flight_ids|public_flight_numbers           |\n",
      "+------+-----------+-------------------+--------------------------------+\n",
      "|ATH   |BCN        |[3]                |[RW35675]                       |\n",
      "|PMI   |OPO        |[2, 1]             |[B4325, UT9586]                 |\n",
      "|HND   |LAX        |[8, 9, 7, 0]       |[KH8851, OP8777, AZ8844, FR5763]|\n",
      "|JFK   |MAD        |[5, 4, 6]          |[NB4321, LP656, CX4599]         |\n",
      "+------+-----------+-------------------+--------------------------------+\n",
      "\n"
     ]
    }
   ],
   "source": [
    "# remove duplicates and combine it with actual trips data\n",
    "final = collected.dropDuplicates()\\\n",
    "    .join(tt, on=\"rowid\")\\\n",
    "    .drop(\"rowid\")\\\n",
    "    .select(\"origin\", \"destination\", \"internal_flight_ids\", \"public_flight_numbers\")\n",
    "\n",
    "final.show(truncate=False)"
   ]
  },
  {
   "cell_type": "code",
   "execution_count": 65,
   "metadata": {},
   "outputs": [],
   "source": [
    "#final.rdd.map(lambda x: [flightDF['public_flight_number'] for i in x if i == flightDF['internal_flight_id'] ]).take(2)"
   ]
  },
  {
   "cell_type": "markdown",
   "metadata": {},
   "source": []
  },
  {
   "cell_type": "code",
   "execution_count": null,
   "metadata": {},
   "outputs": [],
   "source": []
  }
 ],
 "metadata": {
  "kernelspec": {
   "display_name": "Python 3",
   "language": "python",
   "name": "python3"
  },
  "language_info": {
   "codemirror_mode": {
    "name": "ipython",
    "version": 3
   },
   "file_extension": ".py",
   "mimetype": "text/x-python",
   "name": "python",
   "nbconvert_exporter": "python",
   "pygments_lexer": "ipython3",
   "version": "3.7.1"
  }
 },
 "nbformat": 4,
 "nbformat_minor": 2
}
