{
 "cells": [
  {
   "cell_type": "markdown",
   "metadata": {},
   "source": [
    "## Learn pySpark using jupyter"
   ]
  },
  {
   "cell_type": "code",
   "execution_count": null,
   "metadata": {},
   "outputs": [],
   "source": [
    "myRDD = sc.parallelize([('Ross', 19), ('Joey', 18), ('Rachel', 17)])"
   ]
  },
  {
   "cell_type": "code",
   "execution_count": 4,
   "metadata": {},
   "outputs": [
    {
     "data": {
      "text/plain": [
       "[('Ross', 19), ('Joey', 18), ('Rachel', 17)]"
      ]
     },
     "execution_count": 4,
     "metadata": {},
     "output_type": "execute_result"
    }
   ],
   "source": [
    "myRDD.take(3)"
   ]
  },
  {
   "cell_type": "code",
   "execution_count": 8,
   "metadata": {},
   "outputs": [],
   "source": [
    "df = spark.read.json(\"file:///Users/Neeraj/Documents/Proj/Spark/data/flight-data/json/2015-summary.json\")"
   ]
  },
  {
   "cell_type": "code",
   "execution_count": 10,
   "metadata": {},
   "outputs": [],
   "source": [
    "df.createOrReplaceTempView(\"some_sql_view\")"
   ]
  },
  {
   "cell_type": "code",
   "execution_count": 11,
   "metadata": {},
   "outputs": [
    {
     "data": {
      "text/plain": [
       "12"
      ]
     },
     "execution_count": 11,
     "metadata": {},
     "output_type": "execute_result"
    }
   ],
   "source": [
    "spark.sql(\"\"\"\n",
    "SELECT DEST_COUNTRY_NAME, sum(count)\n",
    "FROM some_sql_view GROUP BY DEST_COUNTRY_NAME\n",
    "\"\"\")\\\n",
    "  .where(\"DEST_COUNTRY_NAME like 'S%'\").where(\"`sum(count)` > 10\")\\\n",
    "  .count()"
   ]
  },
  {
   "cell_type": "code",
   "execution_count": 30,
   "metadata": {
    "scrolled": true
   },
   "outputs": [
    {
     "name": "stdout",
     "output_type": "stream",
     "text": [
      "+------+\n",
      "|number|\n",
      "+------+\n",
      "|    10|\n",
      "|    11|\n",
      "|    12|\n",
      "|    13|\n",
      "|    14|\n",
      "+------+\n",
      "only showing top 5 rows\n",
      "\n"
     ]
    }
   ],
   "source": [
    "myrange = spark.range(10,30).toDF(\"number\")\n",
    "myrange.show(5)"
   ]
  },
  {
   "cell_type": "code",
   "execution_count": 31,
   "metadata": {
    "scrolled": true
   },
   "outputs": [
    {
     "name": "stdout",
     "output_type": "stream",
     "text": [
      "+------+\n",
      "|number|\n",
      "+------+\n",
      "|    10|\n",
      "|    12|\n",
      "|    14|\n",
      "|    16|\n",
      "|    18|\n",
      "+------+\n",
      "only showing top 5 rows\n",
      "\n"
     ]
    }
   ],
   "source": [
    "divby2 = myrange.where(\"number%2 = 0\")\n",
    "divby2.show(5)"
   ]
  },
  {
   "cell_type": "code",
   "execution_count": 32,
   "metadata": {},
   "outputs": [
    {
     "data": {
      "text/plain": [
       "[Row((number + 1)=11),\n",
       " Row((number + 1)=12),\n",
       " Row((number + 1)=13),\n",
       " Row((number + 1)=14),\n",
       " Row((number + 1)=15),\n",
       " Row((number + 1)=16),\n",
       " Row((number + 1)=17),\n",
       " Row((number + 1)=18),\n",
       " Row((number + 1)=19),\n",
       " Row((number + 1)=20),\n",
       " Row((number + 1)=21),\n",
       " Row((number + 1)=22),\n",
       " Row((number + 1)=23),\n",
       " Row((number + 1)=24),\n",
       " Row((number + 1)=25),\n",
       " Row((number + 1)=26),\n",
       " Row((number + 1)=27),\n",
       " Row((number + 1)=28),\n",
       " Row((number + 1)=29),\n",
       " Row((number + 1)=30)]"
      ]
     },
     "execution_count": 32,
     "metadata": {},
     "output_type": "execute_result"
    }
   ],
   "source": [
    "#myrange.show(5)\n",
    "myrange.select(myrange[\"number\"] + 1).collect()"
   ]
  },
  {
   "cell_type": "code",
   "execution_count": 62,
   "metadata": {},
   "outputs": [
    {
     "data": {
      "text/plain": [
       "DataFrame[DEST_COUNTRY_NAME: string, ORIGIN_COUNTRY_NAME: string, count: bigint]"
      ]
     },
     "execution_count": 62,
     "metadata": {},
     "output_type": "execute_result"
    }
   ],
   "source": [
    "# load a json file into dataframe\n",
    "df = spark.read.format(\"json\").load(\"file:///Users/Neeraj/Documents/Proj/Spark/data/flight-data/json/2015-summary.json\")\n",
    "\n",
    "#note that it will infer the schema automatically for json\n",
    "df"
   ]
  },
  {
   "cell_type": "code",
   "execution_count": 39,
   "metadata": {},
   "outputs": [],
   "source": [
    "# access same file from hdfs\n",
    "df = spark.read.format(\"json\").load(\"/data/json/2015-summary.json\")"
   ]
  },
  {
   "cell_type": "code",
   "execution_count": 63,
   "metadata": {},
   "outputs": [
    {
     "name": "stdout",
     "output_type": "stream",
     "text": [
      "+-----------------+-------------------+-----+\n",
      "|DEST_COUNTRY_NAME|ORIGIN_COUNTRY_NAME|count|\n",
      "+-----------------+-------------------+-----+\n",
      "|    United States|            Romania|   15|\n",
      "|    United States|            Croatia|    1|\n",
      "+-----------------+-------------------+-----+\n",
      "only showing top 2 rows\n",
      "\n"
     ]
    }
   ],
   "source": [
    "# lets peek few records\n",
    "df.show(2)"
   ]
  },
  {
   "cell_type": "code",
   "execution_count": 36,
   "metadata": {},
   "outputs": [
    {
     "name": "stdout",
     "output_type": "stream",
     "text": [
      "root\n",
      " |-- DEST_COUNTRY_NAME: string (nullable = true)\n",
      " |-- ORIGIN_COUNTRY_NAME: string (nullable = true)\n",
      " |-- count: long (nullable = true)\n",
      "\n"
     ]
    }
   ],
   "source": [
    "# we can print schema of a dataframe as\n",
    "df.printSchema()"
   ]
  },
  {
   "cell_type": "code",
   "execution_count": 37,
   "metadata": {},
   "outputs": [
    {
     "data": {
      "text/plain": [
       "StructType(List(StructField(DEST_COUNTRY_NAME,StringType,true),StructField(ORIGIN_COUNTRY_NAME,StringType,true),StructField(count,LongType,true)))"
      ]
     },
     "execution_count": 37,
     "metadata": {},
     "output_type": "execute_result"
    }
   ],
   "source": [
    "# get schema as structure\n",
    "df.schema"
   ]
  },
  {
   "cell_type": "code",
   "execution_count": 51,
   "metadata": {},
   "outputs": [
    {
     "name": "stdout",
     "output_type": "stream",
     "text": [
      "root\n",
      " |-- dest: string (nullable = true)\n",
      " |-- orig: string (nullable = true)\n",
      " |-- count: long (nullable = true)\n",
      "\n",
      "+----+----+-----+\n",
      "|dest|orig|count|\n",
      "+----+----+-----+\n",
      "|null|null|   15|\n",
      "|null|null|    1|\n",
      "|null|null|  344|\n",
      "+----+----+-----+\n",
      "only showing top 3 rows\n",
      "\n"
     ]
    }
   ],
   "source": [
    "# create custom schema\n",
    "from pyspark.sql.types import StructType, StructField, StringType, LongType\n",
    "mySchema = StructType(\n",
    "    [\n",
    "        StructField(\"dest\", StringType(), True),\n",
    "        StructField(\"orig\", StringType(), True),\n",
    "        StructField(\"count\", LongType(), False, metadata={\"type\":\"airports-count\"})\n",
    "    ]\n",
    ")\n",
    "\n",
    "#use this schema while importing data\n",
    "df = spark.read.format(\"json\").schema(mySchema).load(\"file:///Users/Neeraj/Documents/Proj/Spark/data/flight-data/json/2015-summary.json\")\n",
    "df.printSchema()\n",
    "df.schema\n",
    "df.show(3)"
   ]
  },
  {
   "cell_type": "code",
   "execution_count": 64,
   "metadata": {},
   "outputs": [
    {
     "ename": "AttributeError",
     "evalue": "'DataFrame' object has no attribute 'column'",
     "output_type": "error",
     "traceback": [
      "\u001b[0;31m---------------------------------------------------------------------------\u001b[0m",
      "\u001b[0;31mAttributeError\u001b[0m                            Traceback (most recent call last)",
      "\u001b[0;32m<ipython-input-64-4eb8d4b66442>\u001b[0m in \u001b[0;36m<module>\u001b[0;34m\u001b[0m\n\u001b[1;32m      1\u001b[0m \u001b[0;32mfrom\u001b[0m \u001b[0mpyspark\u001b[0m\u001b[0;34m.\u001b[0m\u001b[0msql\u001b[0m\u001b[0;34m.\u001b[0m\u001b[0mfunctions\u001b[0m \u001b[0;32mimport\u001b[0m \u001b[0mcol\u001b[0m\u001b[0;34m,\u001b[0m \u001b[0mcolumn\u001b[0m\u001b[0;34m\u001b[0m\u001b[0;34m\u001b[0m\u001b[0m\n\u001b[1;32m      2\u001b[0m \u001b[0mdf\u001b[0m\u001b[0;34m.\u001b[0m\u001b[0mcolumns\u001b[0m\u001b[0;34m\u001b[0m\u001b[0;34m\u001b[0m\u001b[0m\n\u001b[0;32m----> 3\u001b[0;31m \u001b[0mdf\u001b[0m\u001b[0;34m.\u001b[0m\u001b[0mcolumn\u001b[0m\u001b[0;34m(\u001b[0m\u001b[0;34m\"count\"\u001b[0m\u001b[0;34m)\u001b[0m\u001b[0;34m\u001b[0m\u001b[0;34m\u001b[0m\u001b[0m\n\u001b[0m",
      "\u001b[0;32m/usr/local/spark/python/pyspark/sql/dataframe.py\u001b[0m in \u001b[0;36m__getattr__\u001b[0;34m(self, name)\u001b[0m\n\u001b[1;32m   1298\u001b[0m         \u001b[0;32mif\u001b[0m \u001b[0mname\u001b[0m \u001b[0;32mnot\u001b[0m \u001b[0;32min\u001b[0m \u001b[0mself\u001b[0m\u001b[0;34m.\u001b[0m\u001b[0mcolumns\u001b[0m\u001b[0;34m:\u001b[0m\u001b[0;34m\u001b[0m\u001b[0;34m\u001b[0m\u001b[0m\n\u001b[1;32m   1299\u001b[0m             raise AttributeError(\n\u001b[0;32m-> 1300\u001b[0;31m                 \"'%s' object has no attribute '%s'\" % (self.__class__.__name__, name))\n\u001b[0m\u001b[1;32m   1301\u001b[0m         \u001b[0mjc\u001b[0m \u001b[0;34m=\u001b[0m \u001b[0mself\u001b[0m\u001b[0;34m.\u001b[0m\u001b[0m_jdf\u001b[0m\u001b[0;34m.\u001b[0m\u001b[0mapply\u001b[0m\u001b[0;34m(\u001b[0m\u001b[0mname\u001b[0m\u001b[0;34m)\u001b[0m\u001b[0;34m\u001b[0m\u001b[0;34m\u001b[0m\u001b[0m\n\u001b[1;32m   1302\u001b[0m         \u001b[0;32mreturn\u001b[0m \u001b[0mColumn\u001b[0m\u001b[0;34m(\u001b[0m\u001b[0mjc\u001b[0m\u001b[0;34m)\u001b[0m\u001b[0;34m\u001b[0m\u001b[0;34m\u001b[0m\u001b[0m\n",
      "\u001b[0;31mAttributeError\u001b[0m: 'DataFrame' object has no attribute 'column'"
     ]
    }
   ],
   "source": [
    "from pyspark.sql.functions import col, column\n",
    "df.columns\n",
    "df.column(\"count\")"
   ]
  },
  {
   "cell_type": "code",
   "execution_count": 65,
   "metadata": {},
   "outputs": [
    {
     "data": {
      "text/plain": [
       "Row(DEST_COUNTRY_NAME='United States', ORIGIN_COUNTRY_NAME='Romania', count=15)"
      ]
     },
     "execution_count": 65,
     "metadata": {},
     "output_type": "execute_result"
    }
   ],
   "source": [
    "df.first()"
   ]
  },
  {
   "cell_type": "code",
   "execution_count": 80,
   "metadata": {},
   "outputs": [
    {
     "data": {
      "text/plain": [
       "Column<b'DEST_COUNTRY_NAME'>"
      ]
     },
     "execution_count": 80,
     "metadata": {},
     "output_type": "execute_result"
    }
   ],
   "source": [
    "df[\"count\"]\n",
    "df.DEST_COUNTRY_NAME"
   ]
  },
  {
   "cell_type": "code",
   "execution_count": 108,
   "metadata": {},
   "outputs": [
    {
     "name": "stdout",
     "output_type": "stream",
     "text": [
      "root\n",
      " |-- Fname: string (nullable = false)\n",
      " |-- Lname: string (nullable = true)\n",
      " |-- age: long (nullable = false)\n",
      "\n",
      "+-----+-----+---+\n",
      "|Fname|Lname|age|\n",
      "+-----+-----+---+\n",
      "|Peter| null| 30|\n",
      "| John|Smith| 20|\n",
      "+-----+-----+---+\n",
      "\n"
     ]
    }
   ],
   "source": [
    "from pyspark.sql import Row\n",
    "from pyspark.sql.types import StructType, StructField, StringType, LongType\n",
    "\n",
    "myschema = StructType([\n",
    "    StructField(\"Fname\", StringType(), False),\n",
    "    StructField(\"Lname\", StringType(), True),\n",
    "    StructField(\"age\", LongType(), False)\n",
    "])\n",
    "\n",
    "myRow1 = Row(\"Peter\",None,30)\n",
    "myRow2 = Row(\"John\", \"Smith\", 20)\n",
    "\n",
    "# create a df from row\n",
    "mydf = spark.createDataFrame([myRow1, myRow2], myschema)\n",
    "mydf.printSchema()\n",
    "mydf.show()"
   ]
  },
  {
   "cell_type": "code",
   "execution_count": 91,
   "metadata": {},
   "outputs": [],
   "source": [
    "# create temp table\n",
    "df.createOrReplaceTempView(\"dfTable\")"
   ]
  },
  {
   "cell_type": "code",
   "execution_count": 112,
   "metadata": {},
   "outputs": [
    {
     "name": "stdout",
     "output_type": "stream",
     "text": [
      "+-----------------+-------------------+\n",
      "|DEST_COUNTRY_NAME|ORIGIN_COUNTRY_NAME|\n",
      "+-----------------+-------------------+\n",
      "|    United States|            Romania|\n",
      "|    United States|            Croatia|\n",
      "+-----------------+-------------------+\n",
      "only showing top 2 rows\n",
      "\n"
     ]
    }
   ],
   "source": [
    "# select expressions\n",
    "df.select(\"DEST_COUNTRY_NAME\", \"ORIGIN_COUNTRY_NAME\").show(2)"
   ]
  },
  {
   "cell_type": "code",
   "execution_count": 114,
   "metadata": {},
   "outputs": [
    {
     "name": "stdout",
     "output_type": "stream",
     "text": [
      "+-----------------+\n",
      "|DEST_COUNTRY_NAME|\n",
      "+-----------------+\n",
      "|    United States|\n",
      "+-----------------+\n",
      "only showing top 1 row\n",
      "\n"
     ]
    }
   ],
   "source": [
    "df.select(col(\"DEST_COUNTRY_NAME\")).show(1)"
   ]
  },
  {
   "cell_type": "code",
   "execution_count": 117,
   "metadata": {},
   "outputs": [
    {
     "name": "stdout",
     "output_type": "stream",
     "text": [
      "+-----------------+\n",
      "|DEST_COUNTRY_NAME|\n",
      "+-----------------+\n",
      "|    United States|\n",
      "+-----------------+\n",
      "only showing top 1 row\n",
      "\n"
     ]
    }
   ],
   "source": [
    "df.select(df[\"DEST_COUNTRY_NAME\"]).show(1)"
   ]
  },
  {
   "cell_type": "code",
   "execution_count": 119,
   "metadata": {},
   "outputs": [
    {
     "name": "stdout",
     "output_type": "stream",
     "text": [
      "+-------------+\n",
      "|         dest|\n",
      "+-------------+\n",
      "|United States|\n",
      "|United States|\n",
      "+-------------+\n",
      "only showing top 2 rows\n",
      "\n"
     ]
    }
   ],
   "source": [
    "from pyspark.sql.functions import expr\n",
    "df.select(expr(\"DEST_COUNTRY_NAME as dest\")).show(2)"
   ]
  },
  {
   "cell_type": "code",
   "execution_count": 122,
   "metadata": {},
   "outputs": [
    {
     "name": "stdout",
     "output_type": "stream",
     "text": [
      "+---------+\n",
      "|new_count|\n",
      "+---------+\n",
      "|       30|\n",
      "|        2|\n",
      "+---------+\n",
      "only showing top 2 rows\n",
      "\n"
     ]
    }
   ],
   "source": [
    "df.select(expr(\"count * 2  as new_count\")).show(2)"
   ]
  },
  {
   "cell_type": "code",
   "execution_count": 125,
   "metadata": {},
   "outputs": [
    {
     "name": "stdout",
     "output_type": "stream",
     "text": [
      "+-----+---------+\n",
      "|count|evenOrodd|\n",
      "+-----+---------+\n",
      "|   15|    false|\n",
      "|    1|    false|\n",
      "|  344|     true|\n",
      "|   15|    false|\n",
      "|   62|     true|\n",
      "|    1|    false|\n",
      "|   62|     true|\n",
      "|  588|     true|\n",
      "|   40|     true|\n",
      "|    1|    false|\n",
      "+-----+---------+\n",
      "only showing top 10 rows\n",
      "\n"
     ]
    }
   ],
   "source": [
    "df.select(expr(\"count\"), expr(\"count % 2 = 0 as evenOrodd\")).show(10)"
   ]
  },
  {
   "cell_type": "code",
   "execution_count": 126,
   "metadata": {},
   "outputs": [
    {
     "name": "stdout",
     "output_type": "stream",
     "text": [
      "+-----+------+\n",
      "|count|isEven|\n",
      "+-----+------+\n",
      "|   15| false|\n",
      "|    1| false|\n",
      "|  344|  true|\n",
      "|   15| false|\n",
      "|   62|  true|\n",
      "|    1| false|\n",
      "|   62|  true|\n",
      "|  588|  true|\n",
      "|   40|  true|\n",
      "|    1| false|\n",
      "+-----+------+\n",
      "only showing top 10 rows\n",
      "\n"
     ]
    }
   ],
   "source": [
    "df.select(col(\"count\"), expr(\"count %2 = 0\").alias(\"isEven\")).show(10)"
   ]
  },
  {
   "cell_type": "code",
   "execution_count": 128,
   "metadata": {},
   "outputs": [
    {
     "name": "stdout",
     "output_type": "stream",
     "text": [
      "+-----+------+\n",
      "|count|isEven|\n",
      "+-----+------+\n",
      "|   15| false|\n",
      "|    1| false|\n",
      "|  344|  true|\n",
      "|   15| false|\n",
      "|   62|  true|\n",
      "|    1| false|\n",
      "|   62|  true|\n",
      "|  588|  true|\n",
      "|   40|  true|\n",
      "|    1| false|\n",
      "+-----+------+\n",
      "only showing top 10 rows\n",
      "\n"
     ]
    }
   ],
   "source": [
    "df.selectExpr(\"count\", \"count%2=0 as isEven\").show(10)"
   ]
  },
  {
   "cell_type": "code",
   "execution_count": 132,
   "metadata": {},
   "outputs": [
    {
     "name": "stdout",
     "output_type": "stream",
     "text": [
      "+-----------------+-------------------+-----+------+-----------------------------------------+\n",
      "|DEST_COUNTRY_NAME|ORIGIN_COUNTRY_NAME|count|isEven|(DEST_COUNTRY_NAME = ORIGIN_COUNTRY_NAME)|\n",
      "+-----------------+-------------------+-----+------+-----------------------------------------+\n",
      "|    United States|            Romania|   15| false|                                    false|\n",
      "|    United States|            Croatia|    1| false|                                    false|\n",
      "|    United States|            Ireland|  344|  true|                                    false|\n",
      "|            Egypt|      United States|   15| false|                                    false|\n",
      "|    United States|              India|   62|  true|                                    false|\n",
      "+-----------------+-------------------+-----+------+-----------------------------------------+\n",
      "only showing top 5 rows\n",
      "\n"
     ]
    }
   ],
   "source": [
    "df.selectExpr(\"DEST_COUNTRY_NAME\", \"ORIGIN_COUNTRY_NAME\", \"count\", \"count%2=0 as isEven\", \"DEST_COUNTRY_NAME=ORIGIN_COUNTRY_NAME\").show(5)"
   ]
  },
  {
   "cell_type": "code",
   "execution_count": 134,
   "metadata": {},
   "outputs": [
    {
     "name": "stdout",
     "output_type": "stream",
     "text": [
      "+-----------------+-------------------+-----+-------------+\n",
      "|DEST_COUNTRY_NAME|ORIGIN_COUNTRY_NAME|count|withinCountry|\n",
      "+-----------------+-------------------+-----+-------------+\n",
      "|    United States|            Romania|   15|        false|\n",
      "|    United States|            Croatia|    1|        false|\n",
      "|    United States|            Ireland|  344|        false|\n",
      "|            Egypt|      United States|   15|        false|\n",
      "|    United States|              India|   62|        false|\n",
      "|    United States|          Singapore|    1|        false|\n",
      "|    United States|            Grenada|   62|        false|\n",
      "|       Costa Rica|      United States|  588|        false|\n",
      "|          Senegal|      United States|   40|        false|\n",
      "|          Moldova|      United States|    1|        false|\n",
      "+-----------------+-------------------+-----+-------------+\n",
      "only showing top 10 rows\n",
      "\n"
     ]
    }
   ],
   "source": [
    "df.selectExpr(\"*\", \"(DEST_COUNTRY_NAME=ORIGIN_COUNTRY_NAME) as withinCountry\").show(10)"
   ]
  },
  {
   "cell_type": "code",
   "execution_count": 136,
   "metadata": {},
   "outputs": [
    {
     "name": "stdout",
     "output_type": "stream",
     "text": [
      "+--------------------+---------------------------------+\n",
      "|round(avg(count), 2)|count(DISTINCT DEST_COUNTRY_NAME)|\n",
      "+--------------------+---------------------------------+\n",
      "|             1770.77|                              132|\n",
      "+--------------------+---------------------------------+\n",
      "\n"
     ]
    }
   ],
   "source": [
    "# run custom functions\n",
    "df.selectExpr(\"round(avg(count),2)\", \"count(distinct(DEST_COUNTRY_NAME))\").show(10)"
   ]
  },
  {
   "cell_type": "code",
   "execution_count": 140,
   "metadata": {},
   "outputs": [
    {
     "name": "stdout",
     "output_type": "stream",
     "text": [
      "+-----------------+-------------------+-----+---+\n",
      "|DEST_COUNTRY_NAME|ORIGIN_COUNTRY_NAME|count|One|\n",
      "+-----------------+-------------------+-----+---+\n",
      "|    United States|            Romania|   15|  1|\n",
      "|    United States|            Croatia|    1|  1|\n",
      "|    United States|            Ireland|  344|  1|\n",
      "|            Egypt|      United States|   15|  1|\n",
      "|    United States|              India|   62|  1|\n",
      "|    United States|          Singapore|    1|  1|\n",
      "|    United States|            Grenada|   62|  1|\n",
      "|       Costa Rica|      United States|  588|  1|\n",
      "|          Senegal|      United States|   40|  1|\n",
      "|          Moldova|      United States|    1|  1|\n",
      "+-----------------+-------------------+-----+---+\n",
      "only showing top 10 rows\n",
      "\n"
     ]
    }
   ],
   "source": [
    "# add new column\n",
    "from pyspark.sql.functions import lit\n",
    "\n",
    "df.withColumn(\"One\", lit(1)).show(10)"
   ]
  },
  {
   "cell_type": "code",
   "execution_count": 142,
   "metadata": {},
   "outputs": [
    {
     "name": "stdout",
     "output_type": "stream",
     "text": [
      "+-----------------+-------------------+-----+-------------+\n",
      "|DEST_COUNTRY_NAME|ORIGIN_COUNTRY_NAME|count|withinCountry|\n",
      "+-----------------+-------------------+-----+-------------+\n",
      "|    United States|            Romania|   15|        false|\n",
      "|    United States|            Croatia|    1|        false|\n",
      "|    United States|            Ireland|  344|        false|\n",
      "|            Egypt|      United States|   15|        false|\n",
      "|    United States|              India|   62|        false|\n",
      "|    United States|          Singapore|    1|        false|\n",
      "|    United States|            Grenada|   62|        false|\n",
      "|       Costa Rica|      United States|  588|        false|\n",
      "|          Senegal|      United States|   40|        false|\n",
      "|          Moldova|      United States|    1|        false|\n",
      "+-----------------+-------------------+-----+-------------+\n",
      "only showing top 10 rows\n",
      "\n"
     ]
    }
   ],
   "source": [
    "# rename a column or add new column\n",
    "df.withColumn(\"withinCountry\", expr(\"DEST_COUNTRY_NAME==ORIGIN_COUNTRY_NAME\")).show(10)"
   ]
  },
  {
   "cell_type": "code",
   "execution_count": 143,
   "metadata": {},
   "outputs": [
    {
     "name": "stdout",
     "output_type": "stream",
     "text": [
      "+-------------+-------------------+-----+\n",
      "|         dest|ORIGIN_COUNTRY_NAME|count|\n",
      "+-------------+-------------------+-----+\n",
      "|United States|            Romania|   15|\n",
      "|United States|            Croatia|    1|\n",
      "|United States|            Ireland|  344|\n",
      "|        Egypt|      United States|   15|\n",
      "|United States|              India|   62|\n",
      "+-------------+-------------------+-----+\n",
      "only showing top 5 rows\n",
      "\n"
     ]
    }
   ],
   "source": [
    "# rename column\n",
    "df.withColumnRenamed(\"DEST_COUNTRY_NAME\", \"dest\").show(5)"
   ]
  },
  {
   "cell_type": "code",
   "execution_count": 144,
   "metadata": {},
   "outputs": [
    {
     "name": "stdout",
     "output_type": "stream",
     "text": [
      "+-----------------+-----+\n",
      "|DEST_COUNTRY_NAME|count|\n",
      "+-----------------+-----+\n",
      "|    United States|   15|\n",
      "|    United States|    1|\n",
      "|    United States|  344|\n",
      "+-----------------+-----+\n",
      "only showing top 3 rows\n",
      "\n"
     ]
    }
   ],
   "source": [
    "# remove column\n",
    "df.drop(\"ORIGIN_COUNTRY_NAME\").show(3)"
   ]
  },
  {
   "cell_type": "code",
   "execution_count": 146,
   "metadata": {},
   "outputs": [
    {
     "name": "stdout",
     "output_type": "stream",
     "text": [
      "root\n",
      " |-- DEST_COUNTRY_NAME: string (nullable = true)\n",
      " |-- ORIGIN_COUNTRY_NAME: string (nullable = true)\n",
      " |-- count: long (nullable = true)\n",
      " |-- new_count: integer (nullable = true)\n",
      "\n"
     ]
    }
   ],
   "source": [
    "# type cast a column\n",
    "df.withColumn(\"new_count\", col(\"count\").cast(\"int\")).printSchema()"
   ]
  },
  {
   "cell_type": "code",
   "execution_count": 147,
   "metadata": {},
   "outputs": [
    {
     "name": "stdout",
     "output_type": "stream",
     "text": [
      "root\n",
      " |-- DEST_COUNTRY_NAME: string (nullable = true)\n",
      " |-- ORIGIN_COUNTRY_NAME: string (nullable = true)\n",
      " |-- count: long (nullable = true)\n",
      " |-- new-count: integer (nullable = true)\n",
      "\n"
     ]
    }
   ],
   "source": [
    "df.withColumn(\"new-count\", expr(\"count\").cast(\"int\")).printSchema()"
   ]
  },
  {
   "cell_type": "code",
   "execution_count": 153,
   "metadata": {},
   "outputs": [
    {
     "name": "stdout",
     "output_type": "stream",
     "text": [
      "+-----------------+-------------------+-----+\n",
      "|DEST_COUNTRY_NAME|ORIGIN_COUNTRY_NAME|count|\n",
      "+-----------------+-------------------+-----+\n",
      "|    United States|            Croatia|    1|\n",
      "|    United States|          Singapore|    1|\n",
      "|          Moldova|      United States|    1|\n",
      "+-----------------+-------------------+-----+\n",
      "only showing top 3 rows\n",
      "\n",
      "+-----------------+-------------------+-----+\n",
      "|DEST_COUNTRY_NAME|ORIGIN_COUNTRY_NAME|count|\n",
      "+-----------------+-------------------+-----+\n",
      "|          Algeria|      United States|    4|\n",
      "|    United States|           Malaysia|    3|\n",
      "|         Thailand|      United States|    3|\n",
      "+-----------------+-------------------+-----+\n",
      "only showing top 3 rows\n",
      "\n"
     ]
    }
   ],
   "source": [
    "# filter the data\n",
    "df.where(\"count < 10\").show(3)\n",
    "\n",
    "# or \n",
    "df.filter((col(\"count\") > 2) & (col(\"count\")<5)).show(3)"
   ]
  },
  {
   "cell_type": "code",
   "execution_count": 154,
   "metadata": {},
   "outputs": [
    {
     "name": "stdout",
     "output_type": "stream",
     "text": [
      "+-----------------+-------------------+------+\n",
      "|DEST_COUNTRY_NAME|ORIGIN_COUNTRY_NAME| count|\n",
      "+-----------------+-------------------+------+\n",
      "|    United States|      United States|370002|\n",
      "+-----------------+-------------------+------+\n",
      "\n"
     ]
    }
   ],
   "source": [
    "# same orig and dest\n",
    "df.where(\"DEST_COUNTRY_NAME = ORIGIN_COUNTRY_NAME\").show(5)"
   ]
  },
  {
   "cell_type": "code",
   "execution_count": 157,
   "metadata": {},
   "outputs": [
    {
     "name": "stdout",
     "output_type": "stream",
     "text": [
      "+--------------------+-------------------+-----+\n",
      "|   DEST_COUNTRY_NAME|ORIGIN_COUNTRY_NAME|count|\n",
      "+--------------------+-------------------+-----+\n",
      "|       United States|          Singapore|    1|\n",
      "|             Moldova|      United States|    1|\n",
      "|               Malta|      United States|    1|\n",
      "|       United States|          Gibraltar|    1|\n",
      "|Saint Vincent and...|      United States|    1|\n",
      "+--------------------+-------------------+-----+\n",
      "only showing top 5 rows\n",
      "\n"
     ]
    }
   ],
   "source": [
    "df.where(\"count < 2\").where(\"ORIGIN_COUNTRY_NAME != 'Croatia'\").show(5)\n",
    "df.createOrReplaceTempView(\"dfTable\")"
   ]
  },
  {
   "cell_type": "code",
   "execution_count": 159,
   "metadata": {},
   "outputs": [
    {
     "name": "stdout",
     "output_type": "stream",
     "text": [
      "+--------------------+-------------------+-----+\n",
      "|   DEST_COUNTRY_NAME|ORIGIN_COUNTRY_NAME|count|\n",
      "+--------------------+-------------------+-----+\n",
      "|       United States|          Singapore|    1|\n",
      "|             Moldova|      United States|    1|\n",
      "|               Malta|      United States|    1|\n",
      "|       United States|          Gibraltar|    1|\n",
      "|Saint Vincent and...|      United States|    1|\n",
      "+--------------------+-------------------+-----+\n",
      "only showing top 5 rows\n",
      "\n"
     ]
    }
   ],
   "source": [
    "# using SQL\n",
    "spark.sql(\"\"\"\n",
    "    select * from dfTable where count < 2 and origin_country_name != 'Croatia'\n",
    "\"\"\").show(5)"
   ]
  },
  {
   "cell_type": "code",
   "execution_count": 161,
   "metadata": {},
   "outputs": [
    {
     "data": {
      "text/plain": [
       "256"
      ]
     },
     "execution_count": 161,
     "metadata": {},
     "output_type": "execute_result"
    }
   ],
   "source": [
    "# find distinct records from a dataframe\n",
    "df.select(\"DEST_COUNTRY_NAME\", \"ORIGIN_COUNTRY_NAME\").distinct().count()"
   ]
  },
  {
   "cell_type": "code",
   "execution_count": 164,
   "metadata": {},
   "outputs": [
    {
     "name": "stdout",
     "output_type": "stream",
     "text": [
      "+------------------------------------------------------------------------------------------------------------+\n",
      "|count(DISTINCT named_struct(DEST_COUNTRY_NAME, DEST_COUNTRY_NAME, ORIGIN_COUNTRY_NAME, ORIGIN_COUNTRY_NAME))|\n",
      "+------------------------------------------------------------------------------------------------------------+\n",
      "|                                                                                                         256|\n",
      "+------------------------------------------------------------------------------------------------------------+\n",
      "\n"
     ]
    }
   ],
   "source": [
    "# using sql\n",
    "spark.sql(\"select count(distinct(DEST_COUNTRY_NAME, ORIGIN_COUNTRY_NAME)) from dftable\").show()"
   ]
  },
  {
   "cell_type": "code",
   "execution_count": 169,
   "metadata": {},
   "outputs": [
    {
     "name": "stdout",
     "output_type": "stream",
     "text": [
      "+-----------------+-------------------+-----+\n",
      "|DEST_COUNTRY_NAME|ORIGIN_COUNTRY_NAME|count|\n",
      "+-----------------+-------------------+-----+\n",
      "|    United States|            Romania|   15|\n",
      "|         Anguilla|      United States|   41|\n",
      "|          Algeria|      United States|    4|\n",
      "|            Italy|      United States|  382|\n",
      "|      The Bahamas|      United States|  955|\n",
      "+-----------------+-------------------+-----+\n",
      "only showing top 5 rows\n",
      "\n"
     ]
    }
   ],
   "source": [
    "# get random samples from a dataframe\n",
    "from random import randint\n",
    "df.sample(False, 0.1, randint(0,100)).show(5)"
   ]
  },
  {
   "cell_type": "code",
   "execution_count": 174,
   "metadata": {},
   "outputs": [
    {
     "name": "stdout",
     "output_type": "stream",
     "text": [
      "0.16\n"
     ]
    },
    {
     "data": {
      "text/plain": [
       "[DataFrame[DEST_COUNTRY_NAME: string, ORIGIN_COUNTRY_NAME: string, count: bigint],\n",
       " DataFrame[DEST_COUNTRY_NAME: string, ORIGIN_COUNTRY_NAME: string, count: bigint]]"
      ]
     },
     "execution_count": 174,
     "metadata": {},
     "output_type": "execute_result"
    }
   ],
   "source": [
    "# split a dataframe into 2 dataframes in specific proportions\n",
    "from random import uniform\n",
    "x = round(uniform(0.1, 1.0),2)\n",
    "print(x)\n",
    "df.randomSplit([x, 1-x], randint(0,100))\n"
   ]
  },
  {
   "cell_type": "code",
   "execution_count": 177,
   "metadata": {},
   "outputs": [
    {
     "name": "stdout",
     "output_type": "stream",
     "text": [
      "+-----------------+-------------------+-----+\n",
      "|DEST_COUNTRY_NAME|ORIGIN_COUNTRY_NAME|count|\n",
      "+-----------------+-------------------+-----+\n",
      "|               c1|                 c2|   10|\n",
      "|               c1|                 c3|   12|\n",
      "|               c2|                 c1|    5|\n",
      "+-----------------+-------------------+-----+\n",
      "\n"
     ]
    }
   ],
   "source": [
    "# union of 2 dataframes.\n",
    "from pyspark.sql import Row\n",
    "schema = df.schema\n",
    "rows = [Row(\"c1\", \"c2\", 10), Row(\"c1\", \"c3\", 12), Row(\"c2\", \"c1\", 5)]\n",
    "\n",
    "newDF = spark.createDataFrame(spark.sparkContext.parallelize(rows), schema)\n",
    "newDF.show()"
   ]
  },
  {
   "cell_type": "code",
   "execution_count": 180,
   "metadata": {},
   "outputs": [
    {
     "name": "stdout",
     "output_type": "stream",
     "text": [
      "+-----------------+-------------------+-----+\n",
      "|DEST_COUNTRY_NAME|ORIGIN_COUNTRY_NAME|count|\n",
      "+-----------------+-------------------+-----+\n",
      "|            Egypt|      United States|   15|\n",
      "|       Costa Rica|      United States|  588|\n",
      "|          Senegal|      United States|   40|\n",
      "|          Moldova|      United States|    1|\n",
      "|           Guyana|      United States|   64|\n",
      "+-----------------+-------------------+-----+\n",
      "only showing top 5 rows\n",
      "\n"
     ]
    }
   ],
   "source": [
    "# now union it with df \n",
    "df.union(newDF).where(\"DEST_COUNTRY_NAME != 'United States'\").show(5)"
   ]
  },
  {
   "cell_type": "code",
   "execution_count": 186,
   "metadata": {},
   "outputs": [
    {
     "name": "stdout",
     "output_type": "stream",
     "text": [
      "+--------------------+-------------------+-----+\n",
      "|   DEST_COUNTRY_NAME|ORIGIN_COUNTRY_NAME|count|\n",
      "+--------------------+-------------------+-----+\n",
      "|               Malta|      United States|    1|\n",
      "|Saint Vincent and...|      United States|    1|\n",
      "|       United States|            Croatia|    1|\n",
      "|       United States|          Gibraltar|    1|\n",
      "|       United States|          Singapore|    1|\n",
      "+--------------------+-------------------+-----+\n",
      "only showing top 5 rows\n",
      "\n",
      "+-----------------+-------------------+-----+\n",
      "|DEST_COUNTRY_NAME|ORIGIN_COUNTRY_NAME|count|\n",
      "+-----------------+-------------------+-----+\n",
      "|     Burkina Faso|      United States|    1|\n",
      "|    Cote d'Ivoire|      United States|    1|\n",
      "|           Cyprus|      United States|    1|\n",
      "|         Djibouti|      United States|    1|\n",
      "|        Indonesia|      United States|    1|\n",
      "+-----------------+-------------------+-----+\n",
      "only showing top 5 rows\n",
      "\n"
     ]
    }
   ],
   "source": [
    "# sort rows in a dataframe\n",
    "df.sort(\"count\").show(5)\n",
    "df.orderBy(\"count\", \"DEST_COUNTRY_NAME\").show(5)"
   ]
  },
  {
   "cell_type": "code",
   "execution_count": 197,
   "metadata": {},
   "outputs": [
    {
     "name": "stdout",
     "output_type": "stream",
     "text": [
      "+-----------------+-------------------+------+\n",
      "|DEST_COUNTRY_NAME|ORIGIN_COUNTRY_NAME| count|\n",
      "+-----------------+-------------------+------+\n",
      "|    United States|      United States|370002|\n",
      "|    United States|      United States|348113|\n",
      "|    United States|             Canada|  8483|\n",
      "|           Canada|      United States|  8399|\n",
      "|    United States|             Canada|  8305|\n",
      "+-----------------+-------------------+------+\n",
      "only showing top 5 rows\n",
      "\n",
      "+-----------------+-------------------+------+\n",
      "|DEST_COUNTRY_NAME|ORIGIN_COUNTRY_NAME| count|\n",
      "+-----------------+-------------------+------+\n",
      "|    United States|      United States|370002|\n",
      "|    United States|      United States|358354|\n",
      "|    United States|      United States|352742|\n",
      "|    United States|      United States|348113|\n",
      "|    United States|      United States|347452|\n",
      "+-----------------+-------------------+------+\n",
      "only showing top 5 rows\n",
      "\n",
      "+-----------------+-------------------+-----+\n",
      "|DEST_COUNTRY_NAME|ORIGIN_COUNTRY_NAME|count|\n",
      "+-----------------+-------------------+-----+\n",
      "|            Malta|      United States|    1|\n",
      "|            Yemen|      United States|    1|\n",
      "+-----------------+-------------------+-----+\n",
      "only showing top 2 rows\n",
      "\n"
     ]
    }
   ],
   "source": [
    "# sort in desc order\n",
    "from pyspark.sql.functions import asc, desc\n",
    "df.orderBy(col(\"count\").desc()).show(5)\n",
    "\n",
    "#or\n",
    "df.orderBy(col(\"count\").desc(), col(\"DEST_COUNTRY_NAME\").asc()).show(5)\n",
    "\n",
    "#using expr\n",
    "df.orderBy(expr(\"count desc\")).show(2)"
   ]
  },
  {
   "cell_type": "code",
   "execution_count": 190,
   "metadata": {},
   "outputs": [
    {
     "name": "stdout",
     "output_type": "stream",
     "text": [
      "+-----------------+-------------------+-----+\n",
      "|DEST_COUNTRY_NAME|ORIGIN_COUNTRY_NAME|count|\n",
      "+-----------------+-------------------+-----+\n",
      "|          Moldova|      United States|    1|\n",
      "|    United States|          Singapore|    1|\n",
      "|    United States|            Croatia|    1|\n",
      "+-----------------+-------------------+-----+\n",
      "only showing top 3 rows\n",
      "\n"
     ]
    }
   ],
   "source": [
    "## sorting with nulls in a dataframe\n",
    "from pyspark.sql.functions import asc_nulls_first, asc_nulls_last, desc_nulls_first, desc_nulls_last\n",
    "df.orderBy(col(\"count\").asc_nulls_first()).show(3)"
   ]
  },
  {
   "cell_type": "code",
   "execution_count": 196,
   "metadata": {},
   "outputs": [
    {
     "name": "stdout",
     "output_type": "stream",
     "text": [
      "+-----------------+-------------------+------+\n",
      "|DEST_COUNTRY_NAME|ORIGIN_COUNTRY_NAME| count|\n",
      "+-----------------+-------------------+------+\n",
      "|    United States|      United States|370002|\n",
      "|    United States|      United States|348113|\n",
      "|    United States|             Canada|  8483|\n",
      "|           Canada|      United States|  8399|\n",
      "|    United States|             Canada|  8305|\n",
      "|           Canada|      United States|  8271|\n",
      "|    United States|             Mexico|  7187|\n",
      "|           Mexico|      United States|  7140|\n",
      "|    United States|             Mexico|  6220|\n",
      "|           Mexico|      United States|  6200|\n",
      "+-----------------+-------------------+------+\n",
      "only showing top 10 rows\n",
      "\n"
     ]
    }
   ],
   "source": [
    "# for performance it's better to sort within partitions first before doing any transformations. \n",
    "# This can be done at the time of loading\n",
    "df = spark.read.format(\"json\") \\\n",
    "    .load(\"file:///Users/Neeraj/Documents/Proj/Spark/data/flight-data/json/*-summary.json\") \\\n",
    "    .sortWithinPartitions(col(\"count\").desc())\n",
    "\n",
    "df.count()\n",
    "df.show(10)\n"
   ]
  },
  {
   "cell_type": "code",
   "execution_count": 200,
   "metadata": {},
   "outputs": [
    {
     "data": {
      "text/plain": [
       "200"
      ]
     },
     "execution_count": 200,
     "metadata": {},
     "output_type": "execute_result"
    }
   ],
   "source": [
    "# repartition - always cause shuffling of data across partitions. It is better to use when target partitions are more\n",
    "# than current no. of partitions or you would like to partition by a column if filter logic depends on a col.\n",
    "df.rdd.getNumPartitions() # 3\n",
    "\n",
    "df.repartition(col(\"DEST_COUNTRY_NAME\")).rdd.getNumPartitions() # 200"
   ]
  },
  {
   "cell_type": "code",
   "execution_count": 202,
   "metadata": {},
   "outputs": [
    {
     "data": {
      "text/plain": [
       "5"
      ]
     },
     "execution_count": 202,
     "metadata": {},
     "output_type": "execute_result"
    }
   ],
   "source": [
    "# also specify no. of partitions\n",
    "df.repartition(5, col(\"DEST_COUNTRY_NAME\")).rdd.getNumPartitions()"
   ]
  },
  {
   "cell_type": "code",
   "execution_count": 204,
   "metadata": {},
   "outputs": [
    {
     "data": {
      "text/plain": [
       "3"
      ]
     },
     "execution_count": 204,
     "metadata": {},
     "output_type": "execute_result"
    }
   ],
   "source": [
    "# coalesce - combines partitions without full shuffling\n",
    "df.repartition(5, col(\"DEST_COUNTRY_NAME\")).coalesce(3).rdd.getNumPartitions()"
   ]
  },
  {
   "cell_type": "code",
   "execution_count": 209,
   "metadata": {},
   "outputs": [
    {
     "data": {
      "text/plain": [
       "<itertools.chain at 0x1138ed668>"
      ]
     },
     "execution_count": 209,
     "metadata": {},
     "output_type": "execute_result"
    }
   ],
   "source": [
    "# collect entire dataframe - dangerous\n",
    "df.collect()\n",
    "\n",
    "# better option is to use iterator which will still be dangerous if application reading data sequentially doesn't\n",
    "# manage memory footprint intelligently\n",
    "# toLocalIterator - consumes as much memory as the largest partition in the DF. If partition is large, it may still \n",
    "# crash the driver program\n",
    "\n",
    "df.toLocalIterator()"
   ]
  },
  {
   "cell_type": "code",
   "execution_count": 242,
   "metadata": {},
   "outputs": [
    {
     "name": "stdout",
     "output_type": "stream",
     "text": [
      "+-----------------+-------------------+------+\n",
      "|DEST_COUNTRY_NAME|ORIGIN_COUNTRY_NAME| count|\n",
      "+-----------------+-------------------+------+\n",
      "|    United States|      United States|370002|\n",
      "|    United States|      United States|348113|\n",
      "|    United States|             Canada|  8483|\n",
      "|           Canada|      United States|  8399|\n",
      "|    United States|             Canada|  8305|\n",
      "+-----------------+-------------------+------+\n",
      "only showing top 5 rows\n",
      "\n"
     ]
    },
    {
     "data": {
      "text/plain": [
       "[370004, 348115, 8485, 8401, 8307]"
      ]
     },
     "execution_count": 242,
     "metadata": {},
     "output_type": "execute_result"
    }
   ],
   "source": [
    "# map function on a dataframe\n",
    "df.select(\"*\").show(5)\n",
    "l = df.select(\"count\").rdd.map(lambda x: x[0] + 2).take(5)\n",
    "l"
   ]
  },
  {
   "cell_type": "markdown",
   "metadata": {},
   "source": [
    "## load CSV file and handle different data types"
   ]
  },
  {
   "cell_type": "code",
   "execution_count": 246,
   "metadata": {},
   "outputs": [
    {
     "name": "stdout",
     "output_type": "stream",
     "text": [
      "root\n",
      " |-- InvoiceNo: string (nullable = true)\n",
      " |-- StockCode: string (nullable = true)\n",
      " |-- Description: string (nullable = true)\n",
      " |-- Quantity: integer (nullable = true)\n",
      " |-- InvoiceDate: timestamp (nullable = true)\n",
      " |-- UnitPrice: double (nullable = true)\n",
      " |-- CustomerID: double (nullable = true)\n",
      " |-- Country: string (nullable = true)\n",
      "\n",
      "+---------+---------+--------------------+--------+-------------------+---------+----------+--------------+\n",
      "|InvoiceNo|StockCode|         Description|Quantity|        InvoiceDate|UnitPrice|CustomerID|       Country|\n",
      "+---------+---------+--------------------+--------+-------------------+---------+----------+--------------+\n",
      "|   536365|   85123A|WHITE HANGING HEA...|       6|2010-12-01 08:26:00|     2.55|   17850.0|United Kingdom|\n",
      "|   536365|    71053| WHITE METAL LANTERN|       6|2010-12-01 08:26:00|     3.39|   17850.0|United Kingdom|\n",
      "|   536365|   84406B|CREAM CUPID HEART...|       8|2010-12-01 08:26:00|     2.75|   17850.0|United Kingdom|\n",
      "|   536365|   84029G|KNITTED UNION FLA...|       6|2010-12-01 08:26:00|     3.39|   17850.0|United Kingdom|\n",
      "|   536365|   84029E|RED WOOLLY HOTTIE...|       6|2010-12-01 08:26:00|     3.39|   17850.0|United Kingdom|\n",
      "+---------+---------+--------------------+--------+-------------------+---------+----------+--------------+\n",
      "only showing top 5 rows\n",
      "\n"
     ]
    }
   ],
   "source": [
    "df = spark.read.format(\"csv\").option(\"inferSchema\", True).option(\"header\", True)\\\n",
    "    .load(\"file:///Users/Neeraj/Documents/Proj/Spark/data/retail-data/by-day/2010-12-01.csv\")\n",
    "\n",
    "df.printSchema()\n",
    "df.createOrReplaceTempView(\"dfTable\")\n",
    "df.show(5)"
   ]
  },
  {
   "cell_type": "code",
   "execution_count": 249,
   "metadata": {},
   "outputs": [
    {
     "name": "stdout",
     "output_type": "stream",
     "text": [
      "+---------+---------+\n",
      "|InvoiceNo|StockCode|\n",
      "+---------+---------+\n",
      "|536366   |22633    |\n",
      "|536366   |22632    |\n",
      "|536367   |84879    |\n",
      "|536367   |22745    |\n",
      "|536367   |22748    |\n",
      "+---------+---------+\n",
      "only showing top 5 rows\n",
      "\n"
     ]
    }
   ],
   "source": [
    "# boolean conditions or equalto \n",
    "from pyspark.sql.functions import col\n",
    "df.where(\"invoiceno != 536365\").select(\"InvoiceNo\", \"StockCode\").show(5, False)"
   ]
  },
  {
   "cell_type": "code",
   "execution_count": 253,
   "metadata": {},
   "outputs": [
    {
     "name": "stdout",
     "output_type": "stream",
     "text": [
      "Column<b'(instr(Description, POSTAGE) >= 1)'>\n",
      "+---------+---------+--------------+--------+-------------------+---------+----------+--------------+\n",
      "|InvoiceNo|StockCode|   Description|Quantity|        InvoiceDate|UnitPrice|CustomerID|       Country|\n",
      "+---------+---------+--------------+--------+-------------------+---------+----------+--------------+\n",
      "|   536544|      DOT|DOTCOM POSTAGE|       1|2010-12-01 14:32:00|   569.77|      null|United Kingdom|\n",
      "|   536592|      DOT|DOTCOM POSTAGE|       1|2010-12-01 17:06:00|   607.49|      null|United Kingdom|\n",
      "+---------+---------+--------------+--------+-------------------+---------+----------+--------------+\n",
      "\n"
     ]
    }
   ],
   "source": [
    "from pyspark.sql.functions import instr\n",
    "priceFilter = col(\"UnitPrice\") > 600\n",
    "descFilter = instr(df.Description, \"POSTAGE\") >= 1\n",
    "\n",
    "df.where(df.StockCode.isin(\"DOT\")).where(priceFilter | descFilter).show()"
   ]
  },
  {
   "cell_type": "code",
   "execution_count": 257,
   "metadata": {},
   "outputs": [
    {
     "name": "stdout",
     "output_type": "stream",
     "text": [
      "+---------+---------+\n",
      "|UnitPrice|stockcode|\n",
      "+---------+---------+\n",
      "|   569.77|      DOT|\n",
      "|   607.49|      DOT|\n",
      "+---------+---------+\n",
      "\n"
     ]
    }
   ],
   "source": [
    "# or we can do it this way\n",
    "DOTCodeFilter = col(\"StockCode\") == \"DOT\"\n",
    "priceFilter = col(\"UnitPrice\") > 600\n",
    "descFilter = instr(df.Description, \"POSTAGE\") >= 1\n",
    "\n",
    "df.withColumn(\"isExpensive\", DOTCodeFilter & (priceFilter | descFilter))\\\n",
    "    .where(\"isExpensive\")\\\n",
    "    .select(\"UnitPrice\", \"stockcode\").show()"
   ]
  },
  {
   "cell_type": "code",
   "execution_count": 264,
   "metadata": {},
   "outputs": [
    {
     "name": "stdout",
     "output_type": "stream",
     "text": [
      "+---------+---------+-----------+--------+-------------------+---------+----------+--------------+\n",
      "|InvoiceNo|StockCode|Description|Quantity|        InvoiceDate|UnitPrice|CustomerID|       Country|\n",
      "+---------+---------+-----------+--------+-------------------+---------+----------+--------------+\n",
      "|   536414|    22139|       null|      56|2010-12-01 11:52:00|      0.0|      null|United Kingdom|\n",
      "|   536545|    21134|       null|       1|2010-12-01 14:32:00|      0.0|      null|United Kingdom|\n",
      "|   536546|    22145|       null|       1|2010-12-01 14:33:00|      0.0|      null|United Kingdom|\n",
      "|   536547|    37509|       null|       1|2010-12-01 14:33:00|      0.0|      null|United Kingdom|\n",
      "|   536549|   85226A|       null|       1|2010-12-01 14:34:00|      0.0|      null|United Kingdom|\n",
      "|   536550|    85044|       null|       1|2010-12-01 14:34:00|      0.0|      null|United Kingdom|\n",
      "|   536552|    20950|       null|       1|2010-12-01 14:34:00|      0.0|      null|United Kingdom|\n",
      "|   536553|    37461|       null|       3|2010-12-01 14:35:00|      0.0|      null|United Kingdom|\n",
      "|   536554|    84670|       null|      23|2010-12-01 14:35:00|      0.0|      null|United Kingdom|\n",
      "|   536589|    21777|       null|     -10|2010-12-01 16:50:00|      0.0|      null|United Kingdom|\n",
      "+---------+---------+-----------+--------+-------------------+---------+----------+--------------+\n",
      "\n",
      "+---------+---------+-----------+--------+-----------+---------+----------+-------+\n",
      "|InvoiceNo|StockCode|Description|Quantity|InvoiceDate|UnitPrice|CustomerID|Country|\n",
      "+---------+---------+-----------+--------+-----------+---------+----------+-------+\n",
      "+---------+---------+-----------+--------+-----------+---------+----------+-------+\n",
      "\n"
     ]
    }
   ],
   "source": [
    "# in case of data having nulls, you need to take care of it\n",
    "df.where(\"Description is null\").show()\n",
    "\n",
    "# make it null safe\n",
    "df.where(col(\"Description\").eqNullSafe(\"foo\")).show()"
   ]
  },
  {
   "cell_type": "code",
   "execution_count": 279,
   "metadata": {},
   "outputs": [
    {
     "name": "stdout",
     "output_type": "stream",
     "text": [
      "+---------+--------+---------+-------------------+--------------------+\n",
      "|stockcode|quantity|unitprice|round(new_price, 0)|bround(new_price, 0)|\n",
      "+---------+--------+---------+-------------------+--------------------+\n",
      "|   85123A|       6|     2.55|              239.0|               239.0|\n",
      "|    71053|       6|     3.39|              419.0|               419.0|\n",
      "|   84406B|       8|     2.75|              489.0|               489.0|\n",
      "|   84029G|       6|     3.39|              419.0|               419.0|\n",
      "|   84029E|       6|     3.39|              419.0|               419.0|\n",
      "+---------+--------+---------+-------------------+--------------------+\n",
      "only showing top 5 rows\n",
      "\n"
     ]
    }
   ],
   "source": [
    "# mathemathical computations - pow\n",
    "\n",
    "from pyspark.sql.functions import pow, round, bround\n",
    "\n",
    "new_price = pow(df.Quantity * df.UnitPrice,2) + 5\n",
    "\n",
    "df.withColumn(\"new_price\", new_price)\\\n",
    "    .select(\"stockcode\", \"quantity\", \"unitprice\", round(\"new_price\",0), bround(\"new_price\",0)).show(5)"
   ]
  },
  {
   "cell_type": "code",
   "execution_count": 287,
   "metadata": {},
   "outputs": [
    {
     "name": "stdout",
     "output_type": "stream",
     "text": [
      "+-------+------------------+------------------+\n",
      "|summary|         UnitPrice|          Quantity|\n",
      "+-------+------------------+------------------+\n",
      "|  count|              3108|              3108|\n",
      "|   mean| 4.151946589446603| 8.627413127413128|\n",
      "| stddev|15.638659854603892|26.371821677029203|\n",
      "|    min|               0.0|               -24|\n",
      "|    max|            607.49|               600|\n",
      "+-------+------------------+------------------+\n",
      "\n",
      "+-------------+\n",
      "|min(Quantity)|\n",
      "+-------------+\n",
      "|          -24|\n",
      "+-------------+\n",
      "\n"
     ]
    }
   ],
   "source": [
    "# get common statistics about a dataframe\n",
    "df.describe(\"UnitPrice\", \"Quantity\").show()\n",
    "df.selectExpr(\"min(Quantity)\").show()"
   ]
  },
  {
   "cell_type": "code",
   "execution_count": 290,
   "metadata": {},
   "outputs": [
    {
     "name": "stdout",
     "output_type": "stream",
     "text": [
      "+--------------------+--------------------+--------------------+\n",
      "|initcap(Description)|  upper(Description)|  lower(Description)|\n",
      "+--------------------+--------------------+--------------------+\n",
      "|White Hanging Hea...|WHITE HANGING HEA...|white hanging hea...|\n",
      "| White Metal Lantern| WHITE METAL LANTERN| white metal lantern|\n",
      "+--------------------+--------------------+--------------------+\n",
      "only showing top 2 rows\n",
      "\n"
     ]
    }
   ],
   "source": [
    "# working with Strings\n",
    "from pyspark.sql.functions import initcap, upper, lower\n",
    "\n",
    "df.select(initcap(col(\"Description\")), upper(col(\"Description\")), lower(col(\"Description\"))).show(2)\n"
   ]
  },
  {
   "cell_type": "code",
   "execution_count": 297,
   "metadata": {},
   "outputs": [
    {
     "name": "stdout",
     "output_type": "stream",
     "text": [
      "+---------+---------+-----+---+----------+\n",
      "|    ltrim|    rtrim| trim| lp|        rp|\n",
      "+---------+---------+-----+---+----------+\n",
      "|HELLO    |    HELLO|HELLO|HEL|HELLOxxxxx|\n",
      "|HELLO    |    HELLO|HELLO|HEL|HELLOxxxxx|\n",
      "+---------+---------+-----+---+----------+\n",
      "only showing top 2 rows\n",
      "\n"
     ]
    }
   ],
   "source": [
    "from pyspark.sql.functions import lpad, ltrim, rtrim, rpad, trim\n",
    "\n",
    "\n",
    "df.select(\n",
    "    ltrim(lit(\"    HELLO    \")).alias(\"ltrim\"),\n",
    "    rtrim(lit(\"    HELLO    \")).alias(\"rtrim\"),\n",
    "    trim(lit(\"    HELLO    \")).alias(\"trim\"),\n",
    "    lpad(lit(\"HELLO\"), 3, \"x\").alias(\"lp\"),\n",
    "    rpad(lit(\"HELLO\"), 10, \"x\").alias(\"rp\")).show(2)"
   ]
  },
  {
   "cell_type": "code",
   "execution_count": 301,
   "metadata": {},
   "outputs": [
    {
     "name": "stdout",
     "output_type": "stream",
     "text": [
      "+--------------------+--------------------+\n",
      "|         color_clean|         Description|\n",
      "+--------------------+--------------------+\n",
      "|COLOR HANGING HEA...|WHITE HANGING HEA...|\n",
      "| COLOR METAL LANTERN| WHITE METAL LANTERN|\n",
      "|CREAM CUPID HEART...|CREAM CUPID HEART...|\n",
      "|KNITTED UNION FLA...|KNITTED UNION FLA...|\n",
      "|COLOR WOOLLY HOTT...|RED WOOLLY HOTTIE...|\n",
      "+--------------------+--------------------+\n",
      "only showing top 5 rows\n",
      "\n"
     ]
    }
   ],
   "source": [
    "# regex replace\n",
    "from pyspark.sql.functions import regexp_replace\n",
    "\n",
    "regex_pattern = \"WHITE|BLACK|RED|GREEN|BLUE\"\n",
    "replace_with = \"COLOR\"\n",
    "df.select(regexp_replace(col(\"Description\"), regex_pattern, \"COLOR\").alias(\"color_clean\"), col(\"Description\")).show(5)"
   ]
  },
  {
   "cell_type": "code",
   "execution_count": 303,
   "metadata": {},
   "outputs": [
    {
     "name": "stdout",
     "output_type": "stream",
     "text": [
      "+-----+--------------------+\n",
      "|color|         Description|\n",
      "+-----+--------------------+\n",
      "|WHITE|WHITE HANGING HEA...|\n",
      "|WHITE| WHITE METAL LANTERN|\n",
      "|     |CREAM CUPID HEART...|\n",
      "|     |KNITTED UNION FLA...|\n",
      "|  RED|RED WOOLLY HOTTIE...|\n",
      "+-----+--------------------+\n",
      "only showing top 5 rows\n",
      "\n"
     ]
    }
   ],
   "source": [
    "# regex extract\n",
    "from pyspark.sql.functions import regexp_extract\n",
    "pattern = \"(WHITE|BLACK|GREEN|RED|BLUE)\"\n",
    "df.select(regexp_extract(col(\"Description\"),pattern,1).alias(\"color\"), \"Description\").show(5)"
   ]
  },
  {
   "cell_type": "code",
   "execution_count": 306,
   "metadata": {},
   "outputs": [
    {
     "name": "stdout",
     "output_type": "stream",
     "text": [
      "+----------------------------------+-----------+\n",
      "|description                       |white_black|\n",
      "+----------------------------------+-----------+\n",
      "|WHITE HANGING HEART T-LIGHT HOLDER|true       |\n",
      "|WHITE METAL LANTERN               |true       |\n",
      "|RED WOOLLY HOTTIE WHITE HEART.    |true       |\n",
      "|WHITE HANGING HEART T-LIGHT HOLDER|true       |\n",
      "|WHITE METAL LANTERN               |true       |\n",
      "+----------------------------------+-----------+\n",
      "only showing top 5 rows\n",
      "\n"
     ]
    }
   ],
   "source": [
    "# check existence of a substring\n",
    "contains_black = instr(col(\"Description\"), \"BLACK\") >=1\n",
    "contains_white = instr(col(\"Description\"), \"WHITE\") >=1\n",
    "df.withColumn(\"white_black\", contains_black | contains_white)\\\n",
    "    .where(\"white_black\").select(\"description\",\"white_black\").show(5,False)"
   ]
  },
  {
   "cell_type": "code",
   "execution_count": 308,
   "metadata": {},
   "outputs": [
    {
     "name": "stdout",
     "output_type": "stream",
     "text": [
      "+--------+--------+-------+------+--------+---------+---------+----------------------------------+--------+-------------------+---------+----------+--------------+\n",
      "|is_black|is_white|is_blue|is_red|is_green|InvoiceNo|StockCode|Description                       |Quantity|InvoiceDate        |UnitPrice|CustomerID|Country       |\n",
      "+--------+--------+-------+------+--------+---------+---------+----------------------------------+--------+-------------------+---------+----------+--------------+\n",
      "|false   |true    |false  |false |false   |536365   |85123A   |WHITE HANGING HEART T-LIGHT HOLDER|6       |2010-12-01 08:26:00|2.55     |17850.0   |United Kingdom|\n",
      "|false   |true    |false  |false |false   |536365   |71053    |WHITE METAL LANTERN               |6       |2010-12-01 08:26:00|3.39     |17850.0   |United Kingdom|\n",
      "|false   |true    |false  |true  |false   |536365   |84029E   |RED WOOLLY HOTTIE WHITE HEART.    |6       |2010-12-01 08:26:00|3.39     |17850.0   |United Kingdom|\n",
      "+--------+--------+-------+------+--------+---------+---------+----------------------------------+--------+-------------------+---------+----------+--------------+\n",
      "only showing top 3 rows\n",
      "\n"
     ]
    }
   ],
   "source": [
    "from pyspark.sql.functions import expr, locate\n",
    "simpleColors = ['black', 'white', 'blue', 'red', 'green']\n",
    "\n",
    "def color_locator(column, color):\n",
    "    return locate(color.upper(), column).cast(\"boolean\").alias(\"is_\"+color)\n",
    "\n",
    "selectedColumns = [color_locator(df.Description, c) for c in simpleColors]\n",
    "selectedColumns.append(expr(\"*\"))\n",
    "\n",
    "df.select(selectedColumns).where(expr(\"is_white OR is_red\")).show(3, False)"
   ]
  },
  {
   "cell_type": "code",
   "execution_count": 309,
   "metadata": {},
   "outputs": [
    {
     "name": "stdout",
     "output_type": "stream",
     "text": [
      "+---------------------------------+\n",
      "|coalesce(Description, CustomerId)|\n",
      "+---------------------------------+\n",
      "|             WHITE HANGING HEA...|\n",
      "|              WHITE METAL LANTERN|\n",
      "|             CREAM CUPID HEART...|\n",
      "|             KNITTED UNION FLA...|\n",
      "|             RED WOOLLY HOTTIE...|\n",
      "|             SET 7 BABUSHKA NE...|\n",
      "|             GLASS STAR FROSTE...|\n",
      "|             HAND WARMER UNION...|\n",
      "|             HAND WARMER RED P...|\n",
      "|             ASSORTED COLOUR B...|\n",
      "|             POPPY'S PLAYHOUSE...|\n",
      "|             POPPY'S PLAYHOUSE...|\n",
      "|             FELTCRAFT PRINCES...|\n",
      "|             IVORY KNITTED MUG...|\n",
      "|             BOX OF 6 ASSORTED...|\n",
      "|             BOX OF VINTAGE JI...|\n",
      "|             BOX OF VINTAGE AL...|\n",
      "|             HOME BUILDING BLO...|\n",
      "|             LOVE BUILDING BLO...|\n",
      "|             RECIPE BOX WITH M...|\n",
      "+---------------------------------+\n",
      "only showing top 20 rows\n",
      "\n"
     ]
    }
   ],
   "source": [
    "# coalesce - get first non-null value from a list of columns in a df\n",
    "from pyspark.sql.functions import coalesce\n",
    "\n",
    "df.select(coalesce(col(\"Description\"), col(\"CustomerId\"))).show()"
   ]
  },
  {
   "cell_type": "code",
   "execution_count": 313,
   "metadata": {},
   "outputs": [
    {
     "name": "stdout",
     "output_type": "stream",
     "text": [
      "+------------+------+------------+------------+\n",
      "|      ifnull|nullif|         nvl|        nvl2|\n",
      "+------------+------+------------+------------+\n",
      "|return-value|  null|return-value|return-value|\n",
      "+------------+------+------------+------------+\n",
      "\n"
     ]
    }
   ],
   "source": [
    "spark.sql(\"\"\"\n",
    "    select ifnull(null, 'return-value') as `ifnull`,\n",
    "        nullif('value', 'value') as `nullif`,\n",
    "        nvl(null, 'return-value') as `nvl`,\n",
    "        nvl2('non-null','return-value', 'else-value') as `nvl2`\n",
    "    from dfTable limit 1\n",
    "\"\"\").show()"
   ]
  },
  {
   "cell_type": "code",
   "execution_count": 329,
   "metadata": {},
   "outputs": [
    {
     "name": "stdout",
     "output_type": "stream",
     "text": [
      "Total= 3108\n",
      "Drop= 1968\n",
      "Drop any= 1968\n",
      "Drop all= 3108\n"
     ]
    }
   ],
   "source": [
    "print(\"Total=\", df.count())\n",
    "# drop rows with nulls\n",
    "print(\"Drop=\", df.na.drop().count())\n",
    "\n",
    "# drop if any of the cols is null\n",
    "print(\"Drop any=\", df.na.drop('any').count())\n",
    "\n",
    "# drop if all of the cols is null\n",
    "print(\"Drop all=\", df.na.drop('all').count())"
   ]
  },
  {
   "cell_type": "code",
   "execution_count": 335,
   "metadata": {},
   "outputs": [
    {
     "name": "stdout",
     "output_type": "stream",
     "text": [
      "any =  3098\n",
      "all =  3108\n"
     ]
    }
   ],
   "source": [
    "# drop row when certain cols are null\n",
    "print(\"any = \", df.na.drop(\"any\", subset = [\"StockCode\", \"InvoiceNo\", \"Description\"]).count())\n",
    "print(\"all = \", df.na.drop(\"all\", subset = [\"StockCode\", \"InvoiceNo\", \"Description\"]).count())"
   ]
  },
  {
   "cell_type": "code",
   "execution_count": 338,
   "metadata": {},
   "outputs": [
    {
     "data": {
      "text/plain": [
       "DataFrame[InvoiceNo: string, StockCode: string, Description: string, Quantity: int, InvoiceDate: timestamp, UnitPrice: double, CustomerID: double, Country: string]"
      ]
     },
     "execution_count": 338,
     "metadata": {},
     "output_type": "execute_result"
    }
   ],
   "source": [
    "# fill default value for any null col in DF\n",
    "df.na.fill(\"Replace NULL with this\")\n",
    "\n",
    "# do it for specific cols\n",
    "df.na.fill(\"New String\", subset=[\"StockCode\", \"Description\"] )\n",
    "\n",
    "# different values for cols\n",
    "df.na.fill({\"StockCode\":5, \"Description\":\"empty\", \"InvoiceNo\":0})"
   ]
  },
  {
   "cell_type": "code",
   "execution_count": 344,
   "metadata": {},
   "outputs": [
    {
     "name": "stdout",
     "output_type": "stream",
     "text": [
      "+---------+---------+--------------------+--------+-------------------+---------+----------+--------------+\n",
      "|InvoiceNo|StockCode|         Description|Quantity|        InvoiceDate|UnitPrice|CustomerID|       Country|\n",
      "+---------+---------+--------------------+--------+-------------------+---------+----------+--------------+\n",
      "|   536365|   85123A|WHITE HANGING HEA...|       6|2010-12-01 08:26:00|     2.55|   17850.0|United Kingdom|\n",
      "|   536365|    71053| WHITE METAL LANTERN|       6|2010-12-01 08:26:00|     3.39|   17850.0|United Kingdom|\n",
      "|   536365|   84406B|CREAM CUPID HEART...|       8|2010-12-01 08:26:00|     2.75|   17850.0|United Kingdom|\n",
      "|   536365|   84029G|KNITTED UNION FLA...|       6|2010-12-01 08:26:00|     3.39|   17850.0|United Kingdom|\n",
      "|   536365|   84029E|RED WOOLLY HOTTIE...|       6|2010-12-01 08:26:00|     3.39|   17850.0|United Kingdom|\n",
      "+---------+---------+--------------------+--------+-------------------+---------+----------+--------------+\n",
      "only showing top 5 rows\n",
      "\n"
     ]
    }
   ],
   "source": [
    "# replace\n",
    "df.na.replace(\"WHITE\", \"SPACE\", subset=[\"Description\"]).show(5)"
   ]
  },
  {
   "cell_type": "code",
   "execution_count": 348,
   "metadata": {},
   "outputs": [
    {
     "name": "stdout",
     "output_type": "stream",
     "text": [
      "+----------------+---------+---------+--------------------+--------+-------------------+---------+----------+--------------+\n",
      "|         complex|InvoiceNo|StockCode|         Description|Quantity|        InvoiceDate|UnitPrice|CustomerID|       Country|\n",
      "+----------------+---------+---------+--------------------+--------+-------------------+---------+----------+--------------+\n",
      "|[536365, 85123A]|   536365|   85123A|WHITE HANGING HEA...|       6|2010-12-01 08:26:00|     2.55|   17850.0|United Kingdom|\n",
      "| [536365, 71053]|   536365|    71053| WHITE METAL LANTERN|       6|2010-12-01 08:26:00|     3.39|   17850.0|United Kingdom|\n",
      "+----------------+---------+---------+--------------------+--------+-------------------+---------+----------+--------------+\n",
      "only showing top 2 rows\n",
      "\n"
     ]
    }
   ],
   "source": [
    "# structure\n",
    "df.selectExpr(\"struct(InvoiceNo, StockCode) as complex\", \"*\").show(2)"
   ]
  },
  {
   "cell_type": "code",
   "execution_count": 351,
   "metadata": {},
   "outputs": [
    {
     "name": "stdout",
     "output_type": "stream",
     "text": [
      "+--------------------+\n",
      "|         Description|\n",
      "+--------------------+\n",
      "|WHITE HANGING HEA...|\n",
      "| WHITE METAL LANTERN|\n",
      "|CREAM CUPID HEART...|\n",
      "|KNITTED UNION FLA...|\n",
      "+--------------------+\n",
      "only showing top 4 rows\n",
      "\n",
      "+--------------------+\n",
      "| complex.Description|\n",
      "+--------------------+\n",
      "|WHITE HANGING HEA...|\n",
      "| WHITE METAL LANTERN|\n",
      "+--------------------+\n",
      "only showing top 2 rows\n",
      "\n"
     ]
    }
   ],
   "source": [
    "from pyspark.sql.functions import struct\n",
    "complexDF = df.select(struct(\"Description\", \"InvoiceNo\").alias(\"complex\"))\n",
    "complexDF.createOrReplaceTempView(\"complexDF\")\n",
    "\n",
    "# access cols using dot notation\n",
    "complexDF.select(\"complex.Description\").show(4)\n",
    "\n",
    "# or getField function\n",
    "complexDF.select(col(\"complex\").getField(\"Description\")).show(2)"
   ]
  },
  {
   "cell_type": "code",
   "execution_count": 361,
   "metadata": {},
   "outputs": [
    {
     "name": "stdout",
     "output_type": "stream",
     "text": [
      "+----------+\n",
      "|complex[0]|\n",
      "+----------+\n",
      "|WHITE     |\n",
      "|WHITE     |\n",
      "|CREAM     |\n",
      "|KNITTED   |\n",
      "|RED       |\n",
      "+----------+\n",
      "only showing top 5 rows\n",
      "\n"
     ]
    }
   ],
   "source": [
    "# array\n",
    "# convert a col into array of values\n",
    "from pyspark.sql.functions import split\n",
    "df.select(split(col(\"Description\"), \" \").alias(\"complex\")).selectExpr(\"complex[0]\").show(5, False)\n"
   ]
  },
  {
   "cell_type": "code",
   "execution_count": 366,
   "metadata": {},
   "outputs": [
    {
     "name": "stdout",
     "output_type": "stream",
     "text": [
      "+-----------------------------------+---------------------------+\n",
      "|Description                        |size(split(Description,  ))|\n",
      "+-----------------------------------+---------------------------+\n",
      "|WHITE HANGING HEART T-LIGHT HOLDER |5                          |\n",
      "|WHITE METAL LANTERN                |3                          |\n",
      "|CREAM CUPID HEARTS COAT HANGER     |5                          |\n",
      "|KNITTED UNION FLAG HOT WATER BOTTLE|6                          |\n",
      "|RED WOOLLY HOTTIE WHITE HEART.     |5                          |\n",
      "+-----------------------------------+---------------------------+\n",
      "only showing top 5 rows\n",
      "\n"
     ]
    }
   ],
   "source": [
    "#size of array\n",
    "from pyspark.sql.functions import size\n",
    "\n",
    "df.select(\"Description\", size(split(col(\"Description\"), \" \"))).show(5, False)\n",
    "\n"
   ]
  },
  {
   "cell_type": "code",
   "execution_count": 367,
   "metadata": {},
   "outputs": [
    {
     "name": "stdout",
     "output_type": "stream",
     "text": [
      "+-----------------------------------+--------------------------------------------+\n",
      "|Description                        |array_contains(split(Description,  ), WHITE)|\n",
      "+-----------------------------------+--------------------------------------------+\n",
      "|WHITE HANGING HEART T-LIGHT HOLDER |true                                        |\n",
      "|WHITE METAL LANTERN                |true                                        |\n",
      "|CREAM CUPID HEARTS COAT HANGER     |false                                       |\n",
      "|KNITTED UNION FLAG HOT WATER BOTTLE|false                                       |\n",
      "|RED WOOLLY HOTTIE WHITE HEART.     |true                                        |\n",
      "+-----------------------------------+--------------------------------------------+\n",
      "only showing top 5 rows\n",
      "\n"
     ]
    }
   ],
   "source": [
    "# array contains a value\n",
    "from pyspark.sql.functions import array_contains\n",
    "df.select(\"Description\", array_contains(split(col(\"Description\"), \" \"), \"WHITE\")).show(5, False)"
   ]
  },
  {
   "cell_type": "code",
   "execution_count": 375,
   "metadata": {},
   "outputs": [
    {
     "name": "stdout",
     "output_type": "stream",
     "text": [
      "+-----------------------------------+------------------------------------------+------------+-----+\n",
      "|Description                        |splitted_col                              |exploded_col|rowid|\n",
      "+-----------------------------------+------------------------------------------+------------+-----+\n",
      "|WHITE HANGING HEART T-LIGHT HOLDER |[WHITE, HANGING, HEART, T-LIGHT, HOLDER]  |WHITE       |0    |\n",
      "|WHITE HANGING HEART T-LIGHT HOLDER |[WHITE, HANGING, HEART, T-LIGHT, HOLDER]  |HANGING     |1    |\n",
      "|WHITE HANGING HEART T-LIGHT HOLDER |[WHITE, HANGING, HEART, T-LIGHT, HOLDER]  |HEART       |2    |\n",
      "|WHITE HANGING HEART T-LIGHT HOLDER |[WHITE, HANGING, HEART, T-LIGHT, HOLDER]  |T-LIGHT     |3    |\n",
      "|WHITE HANGING HEART T-LIGHT HOLDER |[WHITE, HANGING, HEART, T-LIGHT, HOLDER]  |HOLDER      |4    |\n",
      "|WHITE METAL LANTERN                |[WHITE, METAL, LANTERN]                   |WHITE       |5    |\n",
      "|WHITE METAL LANTERN                |[WHITE, METAL, LANTERN]                   |METAL       |6    |\n",
      "|WHITE METAL LANTERN                |[WHITE, METAL, LANTERN]                   |LANTERN     |7    |\n",
      "|CREAM CUPID HEARTS COAT HANGER     |[CREAM, CUPID, HEARTS, COAT, HANGER]      |CREAM       |8    |\n",
      "|CREAM CUPID HEARTS COAT HANGER     |[CREAM, CUPID, HEARTS, COAT, HANGER]      |CUPID       |9    |\n",
      "|CREAM CUPID HEARTS COAT HANGER     |[CREAM, CUPID, HEARTS, COAT, HANGER]      |HEARTS      |10   |\n",
      "|CREAM CUPID HEARTS COAT HANGER     |[CREAM, CUPID, HEARTS, COAT, HANGER]      |COAT        |11   |\n",
      "|CREAM CUPID HEARTS COAT HANGER     |[CREAM, CUPID, HEARTS, COAT, HANGER]      |HANGER      |12   |\n",
      "|KNITTED UNION FLAG HOT WATER BOTTLE|[KNITTED, UNION, FLAG, HOT, WATER, BOTTLE]|KNITTED     |13   |\n",
      "|KNITTED UNION FLAG HOT WATER BOTTLE|[KNITTED, UNION, FLAG, HOT, WATER, BOTTLE]|UNION       |14   |\n",
      "|KNITTED UNION FLAG HOT WATER BOTTLE|[KNITTED, UNION, FLAG, HOT, WATER, BOTTLE]|FLAG        |15   |\n",
      "|KNITTED UNION FLAG HOT WATER BOTTLE|[KNITTED, UNION, FLAG, HOT, WATER, BOTTLE]|HOT         |16   |\n",
      "|KNITTED UNION FLAG HOT WATER BOTTLE|[KNITTED, UNION, FLAG, HOT, WATER, BOTTLE]|WATER       |17   |\n",
      "|KNITTED UNION FLAG HOT WATER BOTTLE|[KNITTED, UNION, FLAG, HOT, WATER, BOTTLE]|BOTTLE      |18   |\n",
      "|RED WOOLLY HOTTIE WHITE HEART.     |[RED, WOOLLY, HOTTIE, WHITE, HEART.]      |RED         |19   |\n",
      "+-----------------------------------+------------------------------------------+------------+-----+\n",
      "only showing top 20 rows\n",
      "\n"
     ]
    }
   ],
   "source": [
    "# explode each word into a new row while keeping rest of the cols same\n",
    "from pyspark.sql.functions import split, explode, monotonically_increasing_id, posexplode\n",
    "\n",
    "df.withColumn(\"splitted_col\", split(col(\"Description\"), \" \"))\\\n",
    "    .withColumn(\"exploded_col\", explode(col(\"splitted_col\")))\\\n",
    "    .withColumn(\"rowid\", monotonically_increasing_id()) \\\n",
    "    .select(\"Description\", \"splitted_col\", \"exploded_col\", \"rowid\")\\\n",
    "    .show(truncate=False)"
   ]
  },
  {
   "cell_type": "code",
   "execution_count": 380,
   "metadata": {},
   "outputs": [
    {
     "name": "stdout",
     "output_type": "stream",
     "text": [
      "+-----------------------------------------------+\n",
      "|map(InvoiceNo, Description)                    |\n",
      "+-----------------------------------------------+\n",
      "|[536365 -> WHITE HANGING HEART T-LIGHT HOLDER] |\n",
      "|[536365 -> WHITE METAL LANTERN]                |\n",
      "|[536365 -> CREAM CUPID HEARTS COAT HANGER]     |\n",
      "|[536365 -> KNITTED UNION FLAG HOT WATER BOTTLE]|\n",
      "|[536365 -> RED WOOLLY HOTTIE WHITE HEART.]     |\n",
      "+-----------------------------------------------+\n",
      "only showing top 5 rows\n",
      "\n"
     ]
    }
   ],
   "source": [
    "# create maps\n",
    "from pyspark.sql.functions import create_map\n",
    "\n",
    "df.select(create_map(col(\"InvoiceNo\"), col(\"Description\"))).show(5, False)\n",
    "\n",
    "# or\n",
    "#df.select(map(col(\"InvoiceNo\"), col(\"Description\")).alias(\"complex\")).selectExpr(\"complex[536365]\").show(5, False)"
   ]
  },
  {
   "cell_type": "code",
   "execution_count": 390,
   "metadata": {},
   "outputs": [
    {
     "name": "stdout",
     "output_type": "stream",
     "text": [
      "+---+\n",
      "|num|\n",
      "+---+\n",
      "|  0|\n",
      "|  1|\n",
      "|  2|\n",
      "|  3|\n",
      "|  4|\n",
      "+---+\n",
      "\n",
      "+-----------+\n",
      "|power3(num)|\n",
      "+-----------+\n",
      "|          0|\n",
      "|          1|\n",
      "|          8|\n",
      "|         27|\n",
      "|         64|\n",
      "+-----------+\n",
      "\n"
     ]
    }
   ],
   "source": [
    "# udf\n",
    "udfDF = spark.range(5).toDF(\"num\")\n",
    "udfDF.createOrReplaceTempView(\"udfDF_table\")\n",
    "udfDF.show()\n",
    "\n",
    "#define udf function\n",
    "def power3(val):\n",
    "    return val**3\n",
    "\n",
    "# test udf\n",
    "power3(2)\n",
    "\n",
    "# register the function as udf\n",
    "from pyspark.sql.functions import udf\n",
    "from pyspark.sql.types import IntegerType\n",
    "\n",
    "power3udf = udf(power3)\n",
    "spark.udf.register(\"power3udf\", power3, IntegerType())\n",
    "\n",
    "# use it like a normal function on dataframe\n",
    "udfDF.select(power3udf(col(\"num\"))).show()\n"
   ]
  },
  {
   "cell_type": "code",
   "execution_count": 393,
   "metadata": {},
   "outputs": [
    {
     "name": "stdout",
     "output_type": "stream",
     "text": [
      "+--------------+\n",
      "|power3udf(num)|\n",
      "+--------------+\n",
      "|             0|\n",
      "|             1|\n",
      "|             8|\n",
      "|            27|\n",
      "|            64|\n",
      "+--------------+\n",
      "\n"
     ]
    }
   ],
   "source": [
    "# we can also use python registered udf function in spark sql\n",
    "spark.sql(\"\"\"select power3udf(num) from udfDF_table\"\"\").show()"
   ]
  },
  {
   "cell_type": "markdown",
   "metadata": {},
   "source": [
    "## aggregations"
   ]
  },
  {
   "cell_type": "code",
   "execution_count": 395,
   "metadata": {},
   "outputs": [],
   "source": [
    "# load data\n",
    "df = spark.read.format(\"csv\")\\\n",
    "    .option(\"header\", True).option(\"inferSchema\", True)\\\n",
    "    .load(\"file:///Users/Neeraj/Documents/Proj/Spark/data/retail-data/all/*.csv\")\\\n",
    "    .coalesce(5)\n",
    "df.cache()\n",
    "df.createOrReplaceTempView(\"dfTable\")"
   ]
  },
  {
   "cell_type": "code",
   "execution_count": 397,
   "metadata": {},
   "outputs": [
    {
     "data": {
      "text/plain": [
       "541909"
      ]
     },
     "execution_count": 397,
     "metadata": {},
     "output_type": "execute_result"
    }
   ],
   "source": [
    "df.count()"
   ]
  },
  {
   "cell_type": "code",
   "execution_count": 399,
   "metadata": {},
   "outputs": [
    {
     "name": "stdout",
     "output_type": "stream",
     "text": [
      "+---------+---------+--------------------+--------+--------------+---------+----------+--------------+\n",
      "|InvoiceNo|StockCode|         Description|Quantity|   InvoiceDate|UnitPrice|CustomerID|       Country|\n",
      "+---------+---------+--------------------+--------+--------------+---------+----------+--------------+\n",
      "|   536365|   85123A|WHITE HANGING HEA...|       6|12/1/2010 8:26|     2.55|     17850|United Kingdom|\n",
      "+---------+---------+--------------------+--------+--------------+---------+----------+--------------+\n",
      "only showing top 1 row\n",
      "\n"
     ]
    }
   ],
   "source": [
    "df.show(1)"
   ]
  },
  {
   "cell_type": "code",
   "execution_count": 403,
   "metadata": {},
   "outputs": [
    {
     "name": "stdout",
     "output_type": "stream",
     "text": [
      "+----------------+\n",
      "|count(StockCode)|\n",
      "+----------------+\n",
      "|          541909|\n",
      "+----------------+\n",
      "\n",
      "+-------------------------+\n",
      "|count(DISTINCT StockCode)|\n",
      "+-------------------------+\n",
      "|                     4070|\n",
      "+-------------------------+\n",
      "\n"
     ]
    }
   ],
   "source": [
    "from pyspark.sql.functions import count, countDistinct\n",
    "df.select(count(\"StockCode\")).show()\n",
    "df.select(countDistinct(\"StockCode\")).show()"
   ]
  },
  {
   "cell_type": "code",
   "execution_count": 407,
   "metadata": {},
   "outputs": [
    {
     "name": "stdout",
     "output_type": "stream",
     "text": [
      "+--------+\n",
      "|count(1)|\n",
      "+--------+\n",
      "|  541909|\n",
      "+--------+\n",
      "\n"
     ]
    }
   ],
   "source": [
    "spark.sql(\"select count(*) from dfTable\").show()\n"
   ]
  },
  {
   "cell_type": "code",
   "execution_count": 411,
   "metadata": {},
   "outputs": [
    {
     "name": "stdout",
     "output_type": "stream",
     "text": [
      "+--------------------------------+\n",
      "|approx_count_distinct(StockCode)|\n",
      "+--------------------------------+\n",
      "|                            3364|\n",
      "+--------------------------------+\n",
      "\n"
     ]
    }
   ],
   "source": [
    "from pyspark.sql.functions import approx_count_distinct\n",
    "df.select(approx_count_distinct(\"StockCode\", 0.1)).show()"
   ]
  },
  {
   "cell_type": "code",
   "execution_count": 413,
   "metadata": {},
   "outputs": [
    {
     "name": "stdout",
     "output_type": "stream",
     "text": [
      "+-----------------------+----------------------+\n",
      "|first(StockCode, false)|last(StockCode, false)|\n",
      "+-----------------------+----------------------+\n",
      "|                 85123A|                 22138|\n",
      "+-----------------------+----------------------+\n",
      "\n"
     ]
    }
   ],
   "source": [
    "# get first and last row from DF\n",
    "from pyspark.sql.functions import first, last\n",
    "df.select(first(\"StockCode\"), last(\"StockCode\")).show()"
   ]
  },
  {
   "cell_type": "code",
   "execution_count": 414,
   "metadata": {},
   "outputs": [
    {
     "name": "stdout",
     "output_type": "stream",
     "text": [
      "+-------------+-------------+\n",
      "|min(Quantity)|max(Quantity)|\n",
      "+-------------+-------------+\n",
      "|       -80995|        80995|\n",
      "+-------------+-------------+\n",
      "\n"
     ]
    }
   ],
   "source": [
    "# get min and max value from DF\n",
    "from pyspark.sql.functions import min, max\n",
    "df.select(min(\"Quantity\"), max(\"Quantity\")).show()"
   ]
  },
  {
   "cell_type": "code",
   "execution_count": 416,
   "metadata": {},
   "outputs": [
    {
     "name": "stdout",
     "output_type": "stream",
     "text": [
      "+-------------+\n",
      "|sum(Quantity)|\n",
      "+-------------+\n",
      "|      5176450|\n",
      "+-------------+\n",
      "\n",
      "+----------------------+\n",
      "|sum(DISTINCT Quantity)|\n",
      "+----------------------+\n",
      "|                 29310|\n",
      "+----------------------+\n",
      "\n"
     ]
    }
   ],
   "source": [
    "# get sum of all values in a column\n",
    "from pyspark.sql.functions import sum, sumDistinct\n",
    "df.select(sum(\"Quantity\")).show()\n",
    "\n",
    "# sum of distinct values - heavy operation\n",
    "df.select(sumDistinct(\"Quantity\")).show()"
   ]
  },
  {
   "cell_type": "code",
   "execution_count": 420,
   "metadata": {},
   "outputs": [
    {
     "name": "stdout",
     "output_type": "stream",
     "text": [
      "+------------------------------------+----------------+----------------+\n",
      "|(Total_Purchases / Total_Quantities)|Average_Quantity|   Mean_Quantity|\n",
      "+------------------------------------+----------------+----------------+\n",
      "|                    9.55224954743324|9.55224954743324|9.55224954743324|\n",
      "+------------------------------------+----------------+----------------+\n",
      "\n"
     ]
    }
   ],
   "source": [
    "# calculate average of 2 columns\n",
    "from pyspark.sql.functions import avg\n",
    "\n",
    "df.select(count(\"Quantity\").alias(\"Total_Quantities\"),\\\n",
    "         sum(\"Quantity\").alias(\"Total_Purchases\"),\\\n",
    "         avg(\"Quantity\").alias(\"Average_Quantity\"),\\\n",
    "         expr(\"mean(Quantity)\").alias(\"Mean_Quantity\"))\\\n",
    "    .selectExpr(\"Total_Purchases/Total_Quantities\", \\\n",
    "                \"Average_Quantity\",\\\n",
    "                \"Mean_Quantity\"\\\n",
    "               ).show()\n",
    "         "
   ]
  },
  {
   "cell_type": "code",
   "execution_count": 421,
   "metadata": {},
   "outputs": [
    {
     "name": "stdout",
     "output_type": "stream",
     "text": [
      "+-----------------+------------------+--------------------+---------------------+\n",
      "|var_pop(Quantity)|var_samp(Quantity)|stddev_pop(Quantity)|stddev_samp(Quantity)|\n",
      "+-----------------+------------------+--------------------+---------------------+\n",
      "|47559.30364660923| 47559.39140929892|  218.08095663447835|   218.08115785023455|\n",
      "+-----------------+------------------+--------------------+---------------------+\n",
      "\n"
     ]
    }
   ],
   "source": [
    "# standard deviation and variance\n",
    "from pyspark.sql.functions import var_pop, stddev_pop, var_samp, stddev_samp\n",
    "df.select(var_pop(\"Quantity\"), var_samp(\"Quantity\"), stddev_pop(\"Quantity\"), stddev_samp(\"Quantity\")).show()"
   ]
  },
  {
   "cell_type": "code",
   "execution_count": 422,
   "metadata": {},
   "outputs": [
    {
     "name": "stdout",
     "output_type": "stream",
     "text": [
      "+--------------------+------------------+\n",
      "|  skewness(Quantity)|kurtosis(Quantity)|\n",
      "+--------------------+------------------+\n",
      "|-0.26407557610528376|119768.05495530753|\n",
      "+--------------------+------------------+\n",
      "\n"
     ]
    }
   ],
   "source": [
    "# skewness and kurtosis\n",
    "from pyspark.sql.functions import skewness, kurtosis\n",
    "df.select(skewness(\"Quantity\"), kurtosis(\"Quantity\")).show()"
   ]
  },
  {
   "cell_type": "code",
   "execution_count": 423,
   "metadata": {},
   "outputs": [
    {
     "name": "stdout",
     "output_type": "stream",
     "text": [
      "+-------------------------+------------------------------+-------------------------------+\n",
      "|corr(InvoiceNo, Quantity)|covar_pop(InvoiceNo, Quantity)|covar_samp(InvoiceNo, Quantity)|\n",
      "+-------------------------+------------------------------+-------------------------------+\n",
      "|     4.912186085640497E-4|            1052.7260778754955|             1052.7280543915997|\n",
      "+-------------------------+------------------------------+-------------------------------+\n",
      "\n"
     ]
    }
   ],
   "source": [
    "# covariance and correlation\n",
    "from pyspark.sql.functions import corr, covar_pop, covar_samp\n",
    "df.select(corr(\"InvoiceNo\", \"Quantity\"), covar_pop(\"InvoiceNo\", \"Quantity\"),covar_samp(\"InvoiceNo\", \"Quantity\")).show()"
   ]
  },
  {
   "cell_type": "code",
   "execution_count": 426,
   "metadata": {},
   "outputs": [
    {
     "name": "stdout",
     "output_type": "stream",
     "text": [
      "+--------------------+---------------------+\n",
      "|collect_set(Country)|collect_list(Country)|\n",
      "+--------------------+---------------------+\n",
      "|[Portugal, Italy,...| [United Kingdom, ...|\n",
      "+--------------------+---------------------+\n",
      "\n"
     ]
    }
   ],
   "source": [
    "# gather values in a list or set (unique)\n",
    "from pyspark.sql.functions import collect_list, collect_set\n",
    "df.agg(collect_set(\"Country\"), collect_list(\"Country\")).show()"
   ]
  },
  {
   "cell_type": "code",
   "execution_count": 431,
   "metadata": {},
   "outputs": [
    {
     "name": "stdout",
     "output_type": "stream",
     "text": [
      "+---------+----------+-----+\n",
      "|InvoiceNo|CustomerId|count|\n",
      "+---------+----------+-----+\n",
      "|   552340|     17949|    1|\n",
      "|   567695|      null|    1|\n",
      "|  C562144|     12757|    1|\n",
      "|   550531|     13199|    1|\n",
      "|   551692|      null|    1|\n",
      "|  C543757|     13115|    1|\n",
      "|   552215|      null|    1|\n",
      "|   544578|     12365|    1|\n",
      "|   562463|      null|    1|\n",
      "|  C544318|     12989|    1|\n",
      "+---------+----------+-----+\n",
      "only showing top 10 rows\n",
      "\n"
     ]
    }
   ],
   "source": [
    "# Grouping is a 2 step process - specify group columns and then aggregate function\n",
    "from pyspark.sql.functions import desc, asc\n",
    "df.groupBy(\"InvoiceNo\", \"CustomerId\").count().orderBy(col(\"count\").asc()).show(10)"
   ]
  },
  {
   "cell_type": "code",
   "execution_count": 435,
   "metadata": {},
   "outputs": [
    {
     "name": "stdout",
     "output_type": "stream",
     "text": [
      "+---------+---------------+-------------+--------------+--------------+\n",
      "|InvoiceNo|count(Quantity)|sum(Quantity)|max(UnitPrice)|min(UnitPrice)|\n",
      "+---------+---------------+-------------+--------------+--------------+\n",
      "|   536596|              6|            9|         19.95|          0.29|\n",
      "|   536938|             14|          464|         10.95|          0.85|\n",
      "|   537252|              1|           31|          0.85|          0.85|\n",
      "|   537691|             20|          163|          9.95|          0.65|\n",
      "|   538041|              1|           30|           0.0|           0.0|\n",
      "+---------+---------------+-------------+--------------+--------------+\n",
      "only showing top 5 rows\n",
      "\n"
     ]
    }
   ],
   "source": [
    "df.groupBy(\"InvoiceNo\").agg(count(\"Quantity\"),expr(\"sum(Quantity)\"), expr(\"max(UnitPrice)\"), min(col(\"UnitPrice\"))).show(5)"
   ]
  },
  {
   "cell_type": "markdown",
   "metadata": {},
   "source": [
    "## Window Functions"
   ]
  },
  {
   "cell_type": "code",
   "execution_count": 436,
   "metadata": {},
   "outputs": [],
   "source": [
    "from pyspark.sql.functions import col, to_date\n",
    "dfWithDate = df.withColumn(\"date\", to_date(col(\"InvoiceDate\"), \"MM/d/yyyy H:mm\"))\n",
    "dfWithDate.createOrReplaceTempView(\"dfWithDate\")"
   ]
  },
  {
   "cell_type": "code",
   "execution_count": 437,
   "metadata": {},
   "outputs": [
    {
     "name": "stdout",
     "output_type": "stream",
     "text": [
      "+---------+---------+--------------------+--------+--------------+---------+----------+--------------+----------+\n",
      "|InvoiceNo|StockCode|         Description|Quantity|   InvoiceDate|UnitPrice|CustomerID|       Country|      date|\n",
      "+---------+---------+--------------------+--------+--------------+---------+----------+--------------+----------+\n",
      "|   536365|   85123A|WHITE HANGING HEA...|       6|12/1/2010 8:26|     2.55|     17850|United Kingdom|2010-12-01|\n",
      "|   536365|    71053| WHITE METAL LANTERN|       6|12/1/2010 8:26|     3.39|     17850|United Kingdom|2010-12-01|\n",
      "|   536365|   84406B|CREAM CUPID HEART...|       8|12/1/2010 8:26|     2.75|     17850|United Kingdom|2010-12-01|\n",
      "|   536365|   84029G|KNITTED UNION FLA...|       6|12/1/2010 8:26|     3.39|     17850|United Kingdom|2010-12-01|\n",
      "+---------+---------+--------------------+--------+--------------+---------+----------+--------------+----------+\n",
      "only showing top 4 rows\n",
      "\n"
     ]
    }
   ],
   "source": [
    "dfWithDate.show(4)"
   ]
  },
  {
   "cell_type": "markdown",
   "metadata": {},
   "source": [
    "# window range and rowsbetween\n",
    "\n",
    "Creates a WindowSpec with the frame boundaries defined, from start (inclusive) to end (inclusive).\n",
    "\n",
    "Both start and end are relative positions from the current row. For example, “0” means “current row”, while “-1” means the row before the current row, and “5” means the fifth row after the current row.\n",
    "\n",
    "We recommend users use Window.unboundedPreceding, Window.unboundedFollowing, and Window.currentRow to specify special boundary values, rather than using integral values directly.\n",
    "\n",
    "Parameters:\t\n",
    "start – boundary start, inclusive. The frame is unbounded if this is Window.unboundedPreceding, or any value less than or equal to -9223372036854775808.\n",
    "end – boundary end, inclusive. The frame is unbounded if this is Window.unboundedFollowing, or any value greater than or equal to 9223372036854775807."
   ]
  },
  {
   "cell_type": "code",
   "execution_count": 438,
   "metadata": {},
   "outputs": [],
   "source": [
    "# next create window specification\n",
    "from pyspark.sql.window import Window\n",
    "from pyspark.sql.functions import desc\n",
    "\n",
    "WindowSpec = Window\\\n",
    "    .partitionBy(\"CustomerID\", \"date\")\\\n",
    "    .orderBy(desc(\"Quantity\"))\\\n",
    "    .rowsBetween(Window.unboundedPreceding, Window.currentRow)"
   ]
  },
  {
   "cell_type": "code",
   "execution_count": 439,
   "metadata": {},
   "outputs": [],
   "source": [
    "# calculate the aggregations\n",
    "maxPurchaseQuantity = max(col(\"Quantity\")).over(WindowSpec)"
   ]
  },
  {
   "cell_type": "code",
   "execution_count": 441,
   "metadata": {},
   "outputs": [],
   "source": [
    "# calculate ranks\n",
    "from pyspark.sql.functions import dense_rank, rank\n",
    "purchaseDenseRank = dense_rank().over(WindowSpec)\n",
    "purchaseRank = rank().over(WindowSpec)"
   ]
  },
  {
   "cell_type": "code",
   "execution_count": 442,
   "metadata": {},
   "outputs": [
    {
     "name": "stdout",
     "output_type": "stream",
     "text": [
      "+----------+----------+--------+------------+-----------------+--------------------+\n",
      "|CustomerID|      date|Quantity|PurchaseRank|PurchaseDenseRank|Max PurchaseQuantity|\n",
      "+----------+----------+--------+------------+-----------------+--------------------+\n",
      "|     12346|2011-01-18|   74215|           1|                1|               74215|\n",
      "|     12346|2011-01-18|  -74215|           2|                2|               74215|\n",
      "|     12347|2010-12-07|      36|           1|                1|                  36|\n",
      "|     12347|2010-12-07|      30|           2|                2|                  36|\n",
      "|     12347|2010-12-07|      24|           3|                3|                  36|\n",
      "|     12347|2010-12-07|      12|           4|                4|                  36|\n",
      "|     12347|2010-12-07|      12|           4|                4|                  36|\n",
      "|     12347|2010-12-07|      12|           4|                4|                  36|\n",
      "|     12347|2010-12-07|      12|           4|                4|                  36|\n",
      "|     12347|2010-12-07|      12|           4|                4|                  36|\n",
      "|     12347|2010-12-07|      12|           4|                4|                  36|\n",
      "|     12347|2010-12-07|      12|           4|                4|                  36|\n",
      "|     12347|2010-12-07|      12|           4|                4|                  36|\n",
      "|     12347|2010-12-07|      12|           4|                4|                  36|\n",
      "|     12347|2010-12-07|      12|           4|                4|                  36|\n",
      "|     12347|2010-12-07|      12|           4|                4|                  36|\n",
      "|     12347|2010-12-07|      12|           4|                4|                  36|\n",
      "|     12347|2010-12-07|      12|           4|                4|                  36|\n",
      "|     12347|2010-12-07|       6|          17|                5|                  36|\n",
      "|     12347|2010-12-07|       6|          17|                5|                  36|\n",
      "+----------+----------+--------+------------+-----------------+--------------------+\n",
      "only showing top 20 rows\n",
      "\n"
     ]
    }
   ],
   "source": [
    "dfWithDate.where(\"CustomerID is not null\").orderBy(\"CustomerID\")\\\n",
    "    .select(\"CustomerID\", \"date\", \"Quantity\", \\\n",
    "            purchaseRank.alias(\"PurchaseRank\"), purchaseDenseRank.alias(\"PurchaseDenseRank\"), \\\n",
    "            maxPurchaseQuantity.alias(\"Max PurchaseQuantity\")).show()"
   ]
  },
  {
   "cell_type": "code",
   "execution_count": 460,
   "metadata": {},
   "outputs": [
    {
     "name": "stdout",
     "output_type": "stream",
     "text": [
      "+----------+----------+--------+------------+-----------------+-----------+\n",
      "|CustomerId|      date|Quantity|PurchaseRank|PurchaseDenseRank|maxQuantity|\n",
      "+----------+----------+--------+------------+-----------------+-----------+\n",
      "|     12346|2011-01-18|   74215|           1|                1|      74215|\n",
      "|     12346|2011-01-18|  -74215|           2|                2|      74215|\n",
      "|     12347|2010-12-07|      36|           1|                1|         36|\n",
      "|     12347|2010-12-07|      30|           2|                2|         36|\n",
      "|     12347|2010-12-07|      24|           3|                3|         36|\n",
      "|     12347|2010-12-07|      12|           4|                4|         36|\n",
      "|     12347|2010-12-07|      12|           4|                4|         36|\n",
      "|     12347|2010-12-07|      12|           4|                4|         36|\n",
      "|     12347|2010-12-07|      12|           4|                4|         36|\n",
      "|     12347|2010-12-07|      12|           4|                4|         36|\n",
      "|     12347|2010-12-07|      12|           4|                4|         36|\n",
      "|     12347|2010-12-07|      12|           4|                4|         36|\n",
      "|     12347|2010-12-07|      12|           4|                4|         36|\n",
      "|     12347|2010-12-07|      12|           4|                4|         36|\n",
      "|     12347|2010-12-07|      12|           4|                4|         36|\n",
      "|     12347|2010-12-07|      12|           4|                4|         36|\n",
      "|     12347|2010-12-07|      12|           4|                4|         36|\n",
      "|     12347|2010-12-07|      12|           4|                4|         36|\n",
      "|     12347|2010-12-07|       6|          17|                5|         36|\n",
      "|     12347|2010-12-07|       6|          17|                5|         36|\n",
      "+----------+----------+--------+------------+-----------------+-----------+\n",
      "only showing top 20 rows\n",
      "\n"
     ]
    }
   ],
   "source": [
    "# same using sql\n",
    "spark.sql(\"\"\"\n",
    "    select CustomerId, date, Quantity,\n",
    "    rank(Quantity) over (partition by CustomerId, date order by Quantity desc nulls last ROWS between unbounded preceding and current row) as PurchaseRank,\n",
    "    dense_rank(Quantity) over (partition by customerID, date order by quantity desc nulls last ROWS between unbounded preceding and current row) as PurchaseDenseRank,\n",
    "    max(Quantity) over (partition by customerId, date order by quantity desc nulls last rows between unbounded preceding and current row) as maxQuantity\n",
    "    from dfWithDate\n",
    "    where customerId is not null\n",
    "    order by customerId, date, quantity desc \n",
    "\"\"\").show()"
   ]
  },
  {
   "cell_type": "code",
   "execution_count": 478,
   "metadata": {},
   "outputs": [
    {
     "name": "stdout",
     "output_type": "stream",
     "text": [
      "+----------+---------+-------------+\n",
      "|customerId|stockcode|sum(quantity)|\n",
      "+----------+---------+-------------+\n",
      "|     18287|    85173|           48|\n",
      "|     18287|   85040A|           48|\n",
      "|     18287|   85039B|          120|\n",
      "|     18287|   85039A|           96|\n",
      "|     18287|    84920|            4|\n",
      "|     18287|    84584|            6|\n",
      "|     18287|   84507C|            6|\n",
      "|     18287|   72351B|           24|\n",
      "|     18287|   72351A|           24|\n",
      "|     18287|   72349B|           60|\n",
      "|     18287|    47422|           24|\n",
      "|     18287|    47421|           48|\n",
      "|     18287|    35967|           36|\n",
      "|     18287|    23445|           20|\n",
      "|     18287|    23378|           24|\n",
      "|     18287|    23376|           48|\n",
      "|     18287|    23310|           36|\n",
      "|     18287|    23274|           12|\n",
      "|     18287|    23272|           12|\n",
      "|     18287|    23269|           36|\n",
      "+----------+---------+-------------+\n",
      "only showing top 20 rows\n",
      "\n"
     ]
    }
   ],
   "source": [
    "# find sum of quantities sold per stockcode and customer\n",
    "# using grouping sets which must not have null values in the input data\n",
    "dfNoNull = dfWithDate.drop()\n",
    "dfNoNull.createOrReplaceTempView(\"dfNoNull\")\n",
    "\n",
    "gset = spark.sql(\"\"\"\n",
    "    select customerid, stockcode, sum(quantity) from dfNoNull\n",
    "    group by grouping sets((customerId, stockcode), ())\n",
    "    order by customerId desc, stockcode desc\n",
    "\"\"\")\n",
    "gset.show()"
   ]
  },
  {
   "cell_type": "code",
   "execution_count": 481,
   "metadata": {},
   "outputs": [
    {
     "name": "stdout",
     "output_type": "stream",
     "text": [
      "+----------+-------+--------------+\n",
      "|      Date|Country|total_quantity|\n",
      "+----------+-------+--------------+\n",
      "|      null|   null|       5176450|\n",
      "|2010-12-01|   null|         26814|\n",
      "|2010-12-02|   null|         21023|\n",
      "|2010-12-03|   null|         14830|\n",
      "|2010-12-05|   null|         16395|\n",
      "|2010-12-06|   null|         21419|\n",
      "|2010-12-07|   null|         24995|\n",
      "|2010-12-08|   null|         22741|\n",
      "|2010-12-09|   null|         18431|\n",
      "|2010-12-10|   null|         20297|\n",
      "|2010-12-12|   null|         10565|\n",
      "|2010-12-13|   null|         17623|\n",
      "|2010-12-14|   null|         20098|\n",
      "|2010-12-15|   null|         18229|\n",
      "|2010-12-16|   null|         29632|\n",
      "|2010-12-17|   null|         16069|\n",
      "|2010-12-19|   null|          3795|\n",
      "|2010-12-20|   null|         14965|\n",
      "|2010-12-21|   null|         15467|\n",
      "|2010-12-22|   null|          3192|\n",
      "+----------+-------+--------------+\n",
      "only showing top 20 rows\n",
      "\n"
     ]
    }
   ],
   "source": [
    "# RollUP - Hierarchical grouping\n",
    "rolledDF = dfNoNull.rollup(\"date\", \"Country\").agg(sum(\"Quantity\").alias(\"total_quantity\"))\\\n",
    "    .selectExpr(\"Date\", \"Country\", \"total_quantity\")\\\n",
    "    .orderBy(\"Date\")\n",
    "\n",
    "rolledDF.where(\"country is null\").show()"
   ]
  },
  {
   "cell_type": "code",
   "execution_count": 484,
   "metadata": {},
   "outputs": [
    {
     "name": "stdout",
     "output_type": "stream",
     "text": [
      "+----+------------------+-----+\n",
      "|Date|           Country|Total|\n",
      "+----+------------------+-----+\n",
      "|null|           Denmark| 8188|\n",
      "|null|European Community|  497|\n",
      "|null|            Norway|19247|\n",
      "+----+------------------+-----+\n",
      "only showing top 3 rows\n",
      "\n",
      "+----------+-------+-------+\n",
      "|      Date|Country|  Total|\n",
      "+----------+-------+-------+\n",
      "|      null|   null|5176450|\n",
      "|2010-12-01|   null|  26814|\n",
      "|2010-12-02|   null|  21023|\n",
      "+----------+-------+-------+\n",
      "only showing top 3 rows\n",
      "\n"
     ]
    }
   ],
   "source": [
    "# Cube - runs aggregation over all combinations of grouped fields. It can answer following questions:\n",
    "# The total across all dates and countries\n",
    "# The total for each date across all countries\n",
    "# The total for each country on each date\n",
    "# The total for each country across all dates\n",
    "\n",
    "cubeDF = dfNoNull.cube(\"Date\", \"Country\").agg(sum(\"Quantity\").alias(\"Total\"))\\\n",
    "    .select(\"Date\", \"Country\", \"Total\")\\\n",
    "    .orderBy(\"Date\")\n",
    "\n",
    "cubeDF.show(3)\n",
    "cubeDF.where(\"country is null\").show(3)"
   ]
  },
  {
   "cell_type": "code",
   "execution_count": 493,
   "metadata": {},
   "outputs": [
    {
     "name": "stdout",
     "output_type": "stream",
     "text": [
      "+----------+-------+---+-------+\n",
      "|      Date|Country|gid|  total|\n",
      "+----------+-------+---+-------+\n",
      "|      null|   null|  3|5176450|\n",
      "|2011-06-01|   null|  1|  10880|\n",
      "|2011-07-26|   null|  1|  13560|\n",
      "|2011-07-04|   null|  1|  15682|\n",
      "|2011-05-25|   null|  1|  11839|\n",
      "|2011-08-01|   null|  1|   9947|\n",
      "|2011-03-04|   null|  1|  13332|\n",
      "|2011-05-18|   null|  1|  18785|\n",
      "|2011-07-22|   null|  1|  10019|\n",
      "|2011-07-27|   null|  1|  13859|\n",
      "|2011-06-22|   null|  1|  15769|\n",
      "|2011-06-27|   null|  1|   9835|\n",
      "|2011-10-19|   null|  1|  19039|\n",
      "|2011-01-21|   null|  1|  14938|\n",
      "|2011-09-22|   null|  1|  32263|\n",
      "|2011-01-09|   null|  1|   8181|\n",
      "|2011-01-20|   null|  1|   8720|\n",
      "|2011-09-18|   null|  1|   8966|\n",
      "|2011-08-15|   null|  1|  10141|\n",
      "|2011-01-24|   null|  1|  11910|\n",
      "+----------+-------+---+-------+\n",
      "only showing top 20 rows\n",
      "\n"
     ]
    }
   ],
   "source": [
    "# Grouping ids to differentiate between aggregation levels 0...3\n",
    "from pyspark.sql.functions import grouping_id, desc\n",
    "\n",
    "rolledDF = dfNoNull.rollup(\"Date\", \"Country\").agg(grouping_id().alias(\"gid\"), sum(\"Quantity\").alias('total'))\\\n",
    "    .orderBy(expr(\"gid\").desc())\n",
    "rolledDF.show()"
   ]
  },
  {
   "cell_type": "code",
   "execution_count": 496,
   "metadata": {},
   "outputs": [
    {
     "name": "stdout",
     "output_type": "stream",
     "text": [
      "+----+------------------+---+-------+\n",
      "|Date|           Country|gid|  total|\n",
      "+----+------------------+---+-------+\n",
      "|null|              null|  3|5176450|\n",
      "|null|             Spain|  2|  26824|\n",
      "|null|European Community|  2|    497|\n",
      "+----+------------------+---+-------+\n",
      "only showing top 3 rows\n",
      "\n",
      "+----------+-------+---+-----+\n",
      "|      Date|Country|gid|total|\n",
      "+----------+-------+---+-----+\n",
      "|2011-01-20|   null|  1| 8720|\n",
      "|2011-01-21|   null|  1|14938|\n",
      "+----------+-------+---+-----+\n",
      "only showing top 2 rows\n",
      "\n",
      "+----------+--------------+---+-----+\n",
      "|      Date|       Country|gid|total|\n",
      "+----------+--------------+---+-----+\n",
      "|2011-02-09|       Germany|  0|  160|\n",
      "|2011-02-13|United Kingdom|  0| 2715|\n",
      "+----------+--------------+---+-----+\n",
      "only showing top 2 rows\n",
      "\n"
     ]
    }
   ],
   "source": [
    "# cube with grouping_id\n",
    "# Grouping ids to differentiate between aggregation levels 0...3\n",
    "from pyspark.sql.functions import grouping_id, desc\n",
    "\n",
    "cubeDF = dfNoNull.cube(\"Date\", \"Country\").agg(grouping_id().alias(\"gid\"), sum(\"Quantity\").alias('total'))\\\n",
    "    .orderBy(expr(\"gid\").desc())\n",
    "cubeDF.show(3)\n",
    "\n",
    "cubeDF.where(\"gid =1\").show(2)\n",
    "cubeDF.where(\"gid =0\").show(2)"
   ]
  },
  {
   "cell_type": "code",
   "execution_count": 501,
   "metadata": {},
   "outputs": [
    {
     "name": "stdout",
     "output_type": "stream",
     "text": [
      "+----------+---------------------------------+------------------+\n",
      "|      date|USA_sum(CAST(Quantity AS BIGINT))|USA_sum(UnitPrice)|\n",
      "+----------+---------------------------------+------------------+\n",
      "|2011-12-06|                             null|              null|\n",
      "|2011-12-09|                             null|              null|\n",
      "|2011-12-08|                             -196|             13.75|\n",
      "|2011-12-07|                             null|              null|\n",
      "+----------+---------------------------------+------------------+\n",
      "\n"
     ]
    }
   ],
   "source": [
    "# pivot - rows to columns\n",
    "\n",
    "pivoted = dfNoNull.groupBy(\"Date\").pivot(\"Country\").sum()\n",
    "pivoted.where(\"date > '2011-12-05'\")\\\n",
    "    .select(\"date\", \"`USA_sum(CAST(Quantity AS BIGINT))`\",\\\n",
    "            \"`USA_sum(UnitPrice)`\"\n",
    "           )\\\n",
    "    .show()"
   ]
  },
  {
   "cell_type": "markdown",
   "metadata": {},
   "source": [
    "## Joins"
   ]
  },
  {
   "cell_type": "code",
   "execution_count": 502,
   "metadata": {},
   "outputs": [
    {
     "name": "stdout",
     "output_type": "stream",
     "text": [
      "\n",
      "Inner joins (keep rows with keys that exist in the left and right datasets)\n",
      "\n",
      "Outer joins (keep rows with keys in either the left or right datasets)\n",
      "\n",
      "Left outer joins (keep rows with keys in the left dataset)\n",
      "\n",
      "Right outer joins (keep rows with keys in the right dataset)\n",
      "\n",
      "Left semi joins (keep the rows in the left, and only the left, dataset where the key appears in the right dataset)\n",
      "\n",
      "Left anti joins (keep the rows in the left, and only the left, dataset where they do not appear in the right dataset)\n",
      "\n",
      "Natural joins (perform a join by implicitly matching the columns between the two datasets with the same names)\n",
      "\n",
      "Cross (or Cartesian) joins (match every row in the left dataset with every row in the right dataset)\n",
      "\n"
     ]
    }
   ],
   "source": [
    "# spark supports various types of joins: \n",
    "print(\"\"\"\n",
    "Inner joins (keep rows with keys that exist in the left and right datasets)\n",
    "\n",
    "Outer joins (keep rows with keys in either the left or right datasets)\n",
    "\n",
    "Left outer joins (keep rows with keys in the left dataset)\n",
    "\n",
    "Right outer joins (keep rows with keys in the right dataset)\n",
    "\n",
    "Left semi joins (keep the rows in the left, and only the left, dataset where the key appears in the right dataset)\n",
    "\n",
    "Left anti joins (keep the rows in the left, and only the left, dataset where they do not appear in the right dataset)\n",
    "\n",
    "Natural joins (perform a join by implicitly matching the columns between the two datasets with the same names)\n",
    "\n",
    "Cross (or Cartesian) joins (match every row in the left dataset with every row in the right dataset)\n",
    "\"\"\")"
   ]
  },
  {
   "cell_type": "code",
   "execution_count": 506,
   "metadata": {},
   "outputs": [],
   "source": [
    "# dataframes for joins \n",
    "person = spark.createDataFrame([\n",
    "    (0, \"Bill Chambers\", 0, [100]),\n",
    "    (1, \"Matei Zaharia\", 1, [500, 250, 100]),\n",
    "    (2, \"Michael Armbrust\", 1, [250, 100])])\\\n",
    "  .toDF(\"id\", \"name\", \"graduate_program\", \"spark_status\")\n",
    "graduateProgram = spark.createDataFrame([\n",
    "    (0, \"Masters\", \"School of Information\", \"UC Berkeley\"),\n",
    "    (2, \"Masters\", \"EECS\", \"UC Berkeley\"),\n",
    "    (1, \"Ph.D.\", \"EECS\", \"UC Berkeley\")])\\\n",
    "  .toDF(\"id\", \"degree\", \"department\", \"school\")\n",
    "sparkStatus = spark.createDataFrame([\n",
    "    (500, \"Vice President\"),\n",
    "    (250, \"PMC Member\"),\n",
    "    (100, \"Contributor\")])\\\n",
    "  .toDF(\"id\", \"status\")\n",
    "\n",
    "person.createOrReplaceTempView(\"person\")\n",
    "graduateProgram.createOrReplaceTempView(\"graduateProgram\")\n",
    "sparkStatus.createOrReplaceTempView(\"sparkStatus\")"
   ]
  },
  {
   "cell_type": "code",
   "execution_count": 507,
   "metadata": {},
   "outputs": [
    {
     "name": "stdout",
     "output_type": "stream",
     "text": [
      "+---+----------------+----------------+---------------+\n",
      "| id|            name|graduate_program|   spark_status|\n",
      "+---+----------------+----------------+---------------+\n",
      "|  0|   Bill Chambers|               0|          [100]|\n",
      "|  1|   Matei Zaharia|               1|[500, 250, 100]|\n",
      "|  2|Michael Armbrust|               1|     [250, 100]|\n",
      "+---+----------------+----------------+---------------+\n",
      "\n"
     ]
    }
   ],
   "source": [
    "person.show()"
   ]
  },
  {
   "cell_type": "code",
   "execution_count": 508,
   "metadata": {},
   "outputs": [
    {
     "name": "stdout",
     "output_type": "stream",
     "text": [
      "+---+-------+--------------------+-----------+\n",
      "| id| degree|          department|     school|\n",
      "+---+-------+--------------------+-----------+\n",
      "|  0|Masters|School of Informa...|UC Berkeley|\n",
      "|  2|Masters|                EECS|UC Berkeley|\n",
      "|  1|  Ph.D.|                EECS|UC Berkeley|\n",
      "+---+-------+--------------------+-----------+\n",
      "\n"
     ]
    }
   ],
   "source": [
    "graduateProgram.show()"
   ]
  },
  {
   "cell_type": "code",
   "execution_count": 510,
   "metadata": {},
   "outputs": [
    {
     "name": "stdout",
     "output_type": "stream",
     "text": [
      "+---+--------------+\n",
      "| id|        status|\n",
      "+---+--------------+\n",
      "|500|Vice President|\n",
      "|250|    PMC Member|\n",
      "|100|   Contributor|\n",
      "+---+--------------+\n",
      "\n"
     ]
    }
   ],
   "source": [
    "sparkStatus.show()"
   ]
  },
  {
   "cell_type": "code",
   "execution_count": 512,
   "metadata": {},
   "outputs": [],
   "source": [
    "joinExpression = person[\"graduate_program\"] == graduateProgram[\"id\"]"
   ]
  },
  {
   "cell_type": "code",
   "execution_count": 514,
   "metadata": {},
   "outputs": [
    {
     "name": "stdout",
     "output_type": "stream",
     "text": [
      "+---+----------------+----------------+---------------+---+-------+--------------------+-----------+\n",
      "| id|            name|graduate_program|   spark_status| id| degree|          department|     school|\n",
      "+---+----------------+----------------+---------------+---+-------+--------------------+-----------+\n",
      "|  0|   Bill Chambers|               0|          [100]|  0|Masters|School of Informa...|UC Berkeley|\n",
      "|  1|   Matei Zaharia|               1|[500, 250, 100]|  1|  Ph.D.|                EECS|UC Berkeley|\n",
      "|  2|Michael Armbrust|               1|     [250, 100]|  1|  Ph.D.|                EECS|UC Berkeley|\n",
      "+---+----------------+----------------+---------------+---+-------+--------------------+-----------+\n",
      "\n"
     ]
    }
   ],
   "source": [
    "# inner join (default)\n",
    "person.join(graduateProgram, joinExpression).show()"
   ]
  },
  {
   "cell_type": "code",
   "execution_count": 515,
   "metadata": {},
   "outputs": [
    {
     "name": "stdout",
     "output_type": "stream",
     "text": [
      "+---+----------------+----------------+---------------+---+-------+--------------------+-----------+\n",
      "| id|            name|graduate_program|   spark_status| id| degree|          department|     school|\n",
      "+---+----------------+----------------+---------------+---+-------+--------------------+-----------+\n",
      "|  0|   Bill Chambers|               0|          [100]|  0|Masters|School of Informa...|UC Berkeley|\n",
      "|  1|   Matei Zaharia|               1|[500, 250, 100]|  1|  Ph.D.|                EECS|UC Berkeley|\n",
      "|  2|Michael Armbrust|               1|     [250, 100]|  1|  Ph.D.|                EECS|UC Berkeley|\n",
      "+---+----------------+----------------+---------------+---+-------+--------------------+-----------+\n",
      "\n"
     ]
    }
   ],
   "source": [
    "# or \n",
    "person.join(graduateProgram, joinExpression, \"inner\").show()"
   ]
  },
  {
   "cell_type": "code",
   "execution_count": 522,
   "metadata": {},
   "outputs": [
    {
     "name": "stdout",
     "output_type": "stream",
     "text": [
      "+---+-------+--------------------+-----------+---+----------------+----------------+---------------+\n",
      "| id| degree|          department|     school| id|            name|graduate_program|   spark_status|\n",
      "+---+-------+--------------------+-----------+---+----------------+----------------+---------------+\n",
      "|  0|Masters|School of Informa...|UC Berkeley|  0|   Bill Chambers|               0|          [100]|\n",
      "|  1|  Ph.D.|                EECS|UC Berkeley|  1|   Matei Zaharia|               1|[500, 250, 100]|\n",
      "|  1|  Ph.D.|                EECS|UC Berkeley|  2|Michael Armbrust|               1|     [250, 100]|\n",
      "+---+-------+--------------------+-----------+---+----------------+----------------+---------------+\n",
      "\n"
     ]
    }
   ],
   "source": [
    "graduateProgram.join(person, joinExpression, \"inner\").show()"
   ]
  },
  {
   "cell_type": "code",
   "execution_count": 516,
   "metadata": {},
   "outputs": [
    {
     "name": "stdout",
     "output_type": "stream",
     "text": [
      "+----+----------------+----------------+---------------+---+-------+--------------------+-----------+\n",
      "|  id|            name|graduate_program|   spark_status| id| degree|          department|     school|\n",
      "+----+----------------+----------------+---------------+---+-------+--------------------+-----------+\n",
      "|   0|   Bill Chambers|               0|          [100]|  0|Masters|School of Informa...|UC Berkeley|\n",
      "|   1|   Matei Zaharia|               1|[500, 250, 100]|  1|  Ph.D.|                EECS|UC Berkeley|\n",
      "|   2|Michael Armbrust|               1|     [250, 100]|  1|  Ph.D.|                EECS|UC Berkeley|\n",
      "|null|            null|            null|           null|  2|Masters|                EECS|UC Berkeley|\n",
      "+----+----------------+----------------+---------------+---+-------+--------------------+-----------+\n",
      "\n"
     ]
    }
   ],
   "source": [
    "# outer join\n",
    "person.join(graduateProgram, joinExpression, \"outer\").show()"
   ]
  },
  {
   "cell_type": "code",
   "execution_count": 517,
   "metadata": {},
   "outputs": [
    {
     "name": "stdout",
     "output_type": "stream",
     "text": [
      "+---+-------+--------------------+-----------+----+----------------+----------------+---------------+\n",
      "| id| degree|          department|     school|  id|            name|graduate_program|   spark_status|\n",
      "+---+-------+--------------------+-----------+----+----------------+----------------+---------------+\n",
      "|  0|Masters|School of Informa...|UC Berkeley|   0|   Bill Chambers|               0|          [100]|\n",
      "|  1|  Ph.D.|                EECS|UC Berkeley|   1|   Matei Zaharia|               1|[500, 250, 100]|\n",
      "|  1|  Ph.D.|                EECS|UC Berkeley|   2|Michael Armbrust|               1|     [250, 100]|\n",
      "|  2|Masters|                EECS|UC Berkeley|null|            null|            null|           null|\n",
      "+---+-------+--------------------+-----------+----+----------------+----------------+---------------+\n",
      "\n"
     ]
    }
   ],
   "source": [
    "# or\n",
    "graduateProgram.join(person, joinExpression, \"outer\").show()"
   ]
  },
  {
   "cell_type": "code",
   "execution_count": 518,
   "metadata": {},
   "outputs": [
    {
     "name": "stdout",
     "output_type": "stream",
     "text": [
      "+---+----------------+----------------+---------------+---+-------+--------------------+-----------+\n",
      "| id|            name|graduate_program|   spark_status| id| degree|          department|     school|\n",
      "+---+----------------+----------------+---------------+---+-------+--------------------+-----------+\n",
      "|  0|   Bill Chambers|               0|          [100]|  0|Masters|School of Informa...|UC Berkeley|\n",
      "|  1|   Matei Zaharia|               1|[500, 250, 100]|  1|  Ph.D.|                EECS|UC Berkeley|\n",
      "|  2|Michael Armbrust|               1|     [250, 100]|  1|  Ph.D.|                EECS|UC Berkeley|\n",
      "+---+----------------+----------------+---------------+---+-------+--------------------+-----------+\n",
      "\n"
     ]
    }
   ],
   "source": [
    "# left outer join\n",
    "person.join(graduateProgram, joinExpression, \"left_outer\").show()"
   ]
  },
  {
   "cell_type": "code",
   "execution_count": 519,
   "metadata": {},
   "outputs": [
    {
     "name": "stdout",
     "output_type": "stream",
     "text": [
      "+---+-------+--------------------+-----------+----+----------------+----------------+---------------+\n",
      "| id| degree|          department|     school|  id|            name|graduate_program|   spark_status|\n",
      "+---+-------+--------------------+-----------+----+----------------+----------------+---------------+\n",
      "|  0|Masters|School of Informa...|UC Berkeley|   0|   Bill Chambers|               0|          [100]|\n",
      "|  1|  Ph.D.|                EECS|UC Berkeley|   1|   Matei Zaharia|               1|[500, 250, 100]|\n",
      "|  1|  Ph.D.|                EECS|UC Berkeley|   2|Michael Armbrust|               1|     [250, 100]|\n",
      "|  2|Masters|                EECS|UC Berkeley|null|            null|            null|           null|\n",
      "+---+-------+--------------------+-----------+----+----------------+----------------+---------------+\n",
      "\n"
     ]
    }
   ],
   "source": [
    "# if you switch the tables, you will get extra rows\n",
    "graduateProgram.join(person, joinExpression, \"left_outer\").show()"
   ]
  },
  {
   "cell_type": "code",
   "execution_count": 520,
   "metadata": {},
   "outputs": [
    {
     "name": "stdout",
     "output_type": "stream",
     "text": [
      "+----+----------------+----------------+---------------+---+-------+--------------------+-----------+\n",
      "|  id|            name|graduate_program|   spark_status| id| degree|          department|     school|\n",
      "+----+----------------+----------------+---------------+---+-------+--------------------+-----------+\n",
      "|   0|   Bill Chambers|               0|          [100]|  0|Masters|School of Informa...|UC Berkeley|\n",
      "|   1|   Matei Zaharia|               1|[500, 250, 100]|  1|  Ph.D.|                EECS|UC Berkeley|\n",
      "|   2|Michael Armbrust|               1|     [250, 100]|  1|  Ph.D.|                EECS|UC Berkeley|\n",
      "|null|            null|            null|           null|  2|Masters|                EECS|UC Berkeley|\n",
      "+----+----------------+----------------+---------------+---+-------+--------------------+-----------+\n",
      "\n"
     ]
    }
   ],
   "source": [
    "# right outer join\n",
    "person.join(graduateProgram, joinExpression, \"right_outer\").show()"
   ]
  },
  {
   "cell_type": "code",
   "execution_count": 521,
   "metadata": {},
   "outputs": [
    {
     "name": "stdout",
     "output_type": "stream",
     "text": [
      "+---+-------+--------------------+-----------+\n",
      "| id| degree|          department|     school|\n",
      "+---+-------+--------------------+-----------+\n",
      "|  0|Masters|School of Informa...|UC Berkeley|\n",
      "|  1|  Ph.D.|                EECS|UC Berkeley|\n",
      "+---+-------+--------------------+-----------+\n",
      "\n"
     ]
    }
   ],
   "source": [
    "# left semi join - only matching rows from left and only left table cols. If left table has duplicates, \n",
    "# you will still get them. It is mor like a filter which shows only matching rows in left and right.\n",
    "graduateProgram.join(person, joinExpression, \"left_semi\").show()"
   ]
  },
  {
   "cell_type": "code",
   "execution_count": 526,
   "metadata": {},
   "outputs": [
    {
     "name": "stdout",
     "output_type": "stream",
     "text": [
      "+---+-------+--------------------+-----------------+\n",
      "| id| degree|          department|           school|\n",
      "+---+-------+--------------------+-----------------+\n",
      "|  0|Masters|School of Informa...|      UC Berkeley|\n",
      "|  0|Masters|      Duplicated Row|Duplicated School|\n",
      "|  1|  Ph.D.|                EECS|      UC Berkeley|\n",
      "+---+-------+--------------------+-----------------+\n",
      "\n"
     ]
    }
   ],
   "source": [
    "# left table has duplicate rows, so you will still get it if it's matching with right table\n",
    "gradProgram2 = graduateProgram.union(spark.createDataFrame([\n",
    "    (0, \"Masters\", \"Duplicated Row\", \"Duplicated School\")]))\n",
    "\n",
    "gradProgram2.createOrReplaceTempView(\"gradProgram2\")\n",
    "\n",
    "gradProgram2.join(person, joinExpression, \"left_semi\").show()"
   ]
  },
  {
   "cell_type": "code",
   "execution_count": 527,
   "metadata": {},
   "outputs": [
    {
     "name": "stdout",
     "output_type": "stream",
     "text": [
      "+---+-------+----------+-----------+\n",
      "| id| degree|department|     school|\n",
      "+---+-------+----------+-----------+\n",
      "|  2|Masters|      EECS|UC Berkeley|\n",
      "+---+-------+----------+-----------+\n",
      "\n"
     ]
    }
   ],
   "source": [
    "# left anti joins - shows only rows which are not matching with right table. Only gives left columns in output\n",
    "\n",
    "graduateProgram.join(person, joinExpression, \"left_anti\").show()\n"
   ]
  },
  {
   "cell_type": "code",
   "execution_count": 589,
   "metadata": {},
   "outputs": [
    {
     "name": "stdout",
     "output_type": "stream",
     "text": [
      "+---+-------+--------------------+-----------+----------------+----------------+---------------+\n",
      "| id| degree|          department|     school|            name|graduate_program|   spark_status|\n",
      "+---+-------+--------------------+-----------+----------------+----------------+---------------+\n",
      "|  0|Masters|School of Informa...|UC Berkeley|   Bill Chambers|               0|          [100]|\n",
      "|  1|  Ph.D.|                EECS|UC Berkeley|   Matei Zaharia|               1|[500, 250, 100]|\n",
      "|  2|Masters|                EECS|UC Berkeley|Michael Armbrust|               1|     [250, 100]|\n",
      "+---+-------+--------------------+-----------+----------------+----------------+---------------+\n",
      "\n",
      "+----------------+---+----------------+---------------+-------+--------------------+-----------+\n",
      "|graduate_program| id|            name|   spark_status| degree|          department|     school|\n",
      "+----------------+---+----------------+---------------+-------+--------------------+-----------+\n",
      "|               0|  0|   Bill Chambers|          [100]|Masters|School of Informa...|UC Berkeley|\n",
      "|               1|  1|   Matei Zaharia|[500, 250, 100]|  Ph.D.|                EECS|UC Berkeley|\n",
      "|               1|  2|Michael Armbrust|     [250, 100]|  Ph.D.|                EECS|UC Berkeley|\n",
      "+----------------+---+----------------+---------------+-------+--------------------+-----------+\n",
      "\n"
     ]
    }
   ],
   "source": [
    "# natual joins - implictly joins tables based on same cols names which could be dangerous. Avoid this join\n",
    "spark.sql(\" select * from graduateProgram natural join person\").show()\n",
    "\n",
    "# this result is wrong, because person.id has different meaning from graduateProgram.id.\n",
    "\n",
    "# or, rename the column and then join like this. Note 'common col' is dropped as well automatically\n",
    "gradProg = graduateProgram.withColumnRenamed(\"id\", \"graduate_program\")\n",
    "person.join(gradProg, \"graduate_program\").select(\"*\").show()"
   ]
  },
  {
   "cell_type": "code",
   "execution_count": 535,
   "metadata": {},
   "outputs": [
    {
     "name": "stdout",
     "output_type": "stream",
     "text": [
      "**** This result is not cross join due to joinExpression\n",
      "+---+----------------+----------------+---------------+---+-------+--------------------+-----------+\n",
      "| id|            name|graduate_program|   spark_status| id| degree|          department|     school|\n",
      "+---+----------------+----------------+---------------+---+-------+--------------------+-----------+\n",
      "|  0|   Bill Chambers|               0|          [100]|  0|Masters|School of Informa...|UC Berkeley|\n",
      "|  1|   Matei Zaharia|               1|[500, 250, 100]|  1|  Ph.D.|                EECS|UC Berkeley|\n",
      "|  2|Michael Armbrust|               1|     [250, 100]|  1|  Ph.D.|                EECS|UC Berkeley|\n",
      "+---+----------------+----------------+---------------+---+-------+--------------------+-----------+\n",
      "\n",
      "*** You can explicity run cross join:\n",
      "+---+----------------+----------------+---------------+---+-------+--------------------+-----------+\n",
      "| id|            name|graduate_program|   spark_status| id| degree|          department|     school|\n",
      "+---+----------------+----------------+---------------+---+-------+--------------------+-----------+\n",
      "|  0|   Bill Chambers|               0|          [100]|  0|Masters|School of Informa...|UC Berkeley|\n",
      "|  0|   Bill Chambers|               0|          [100]|  2|Masters|                EECS|UC Berkeley|\n",
      "|  0|   Bill Chambers|               0|          [100]|  1|  Ph.D.|                EECS|UC Berkeley|\n",
      "|  1|   Matei Zaharia|               1|[500, 250, 100]|  0|Masters|School of Informa...|UC Berkeley|\n",
      "|  1|   Matei Zaharia|               1|[500, 250, 100]|  2|Masters|                EECS|UC Berkeley|\n",
      "|  1|   Matei Zaharia|               1|[500, 250, 100]|  1|  Ph.D.|                EECS|UC Berkeley|\n",
      "|  2|Michael Armbrust|               1|     [250, 100]|  0|Masters|School of Informa...|UC Berkeley|\n",
      "|  2|Michael Armbrust|               1|     [250, 100]|  2|Masters|                EECS|UC Berkeley|\n",
      "|  2|Michael Armbrust|               1|     [250, 100]|  1|  Ph.D.|                EECS|UC Berkeley|\n",
      "+---+----------------+----------------+---------------+---+-------+--------------------+-----------+\n",
      "\n"
     ]
    }
   ],
   "source": [
    "# cross join - cartesian product. By default its disabled. You can enable it: set spark.sql.crossJoin.enabled=true\n",
    "print(\"**** This result is not cross join due to joinExpression\")\n",
    "person.join(graduateProgram, joinExpression, \"cross\").show() # \n",
    "\n",
    "print(\"*** You can explicity run cross join:\")\n",
    "person.crossJoin(graduateProgram).show()"
   ]
  },
  {
   "cell_type": "code",
   "execution_count": 537,
   "metadata": {},
   "outputs": [
    {
     "name": "stdout",
     "output_type": "stream",
     "text": [
      "+--------+----------------+----------------+---------------+---+--------------+\n",
      "|personid|            name|graduate_program|   spark_status| id|        status|\n",
      "+--------+----------------+----------------+---------------+---+--------------+\n",
      "|       0|   Bill Chambers|               0|          [100]|100|   Contributor|\n",
      "|       1|   Matei Zaharia|               1|[500, 250, 100]|500|Vice President|\n",
      "|       1|   Matei Zaharia|               1|[500, 250, 100]|250|    PMC Member|\n",
      "|       1|   Matei Zaharia|               1|[500, 250, 100]|100|   Contributor|\n",
      "|       2|Michael Armbrust|               1|     [250, 100]|250|    PMC Member|\n",
      "|       2|Michael Armbrust|               1|     [250, 100]|100|   Contributor|\n",
      "+--------+----------------+----------------+---------------+---+--------------+\n",
      "\n"
     ]
    }
   ],
   "source": [
    "# complex joins\n",
    "from pyspark.sql.functions import expr\n",
    "pdf = person.withColumnRenamed(\"id\", \"personid\")\\\n",
    "    .join(sparkStatus, expr(\"array_contains(spark_status, id)\"))\n",
    "\n",
    "pdf.show()\n",
    "\n",
    "# person.spark_status and sparkStatus.id"
   ]
  },
  {
   "cell_type": "code",
   "execution_count": 545,
   "metadata": {},
   "outputs": [
    {
     "name": "stdout",
     "output_type": "stream",
     "text": [
      "+--------+----------------+----------------+---------------+---+--------------+------------+\n",
      "|personid|            name|graduate_program|   spark_status| id|        status|       rowid|\n",
      "+--------+----------------+----------------+---------------+---+--------------+------------+\n",
      "|       0|   Bill Chambers|               0|          [100]|100|   Contributor| 60129542144|\n",
      "|       1|   Matei Zaharia|               1|[500, 250, 100]|500|Vice President| 77309411328|\n",
      "|       1|   Matei Zaharia|               1|[500, 250, 100]|250|    PMC Member| 85899345920|\n",
      "|       1|   Matei Zaharia|               1|[500, 250, 100]|100|   Contributor| 94489280512|\n",
      "|       2|Michael Armbrust|               1|     [250, 100]|250|    PMC Member|120259084288|\n",
      "|       2|Michael Armbrust|               1|     [250, 100]|100|   Contributor|128849018880|\n",
      "+--------+----------------+----------------+---------------+---+--------------+------------+\n",
      "\n"
     ]
    }
   ],
   "source": [
    "# cobmine all values of status in same order\n",
    "p = pdf.withColumn(\"rowid\", monotonically_increasing_id())\n",
    "p.show()"
   ]
  },
  {
   "cell_type": "code",
   "execution_count": 568,
   "metadata": {},
   "outputs": [
    {
     "name": "stdout",
     "output_type": "stream",
     "text": [
      "+------------+--------+-------+\n",
      "|          rd|position|sparkid|\n",
      "+------------+--------+-------+\n",
      "| 60129542144|       0|    100|\n",
      "| 77309411328|       0|    500|\n",
      "| 77309411328|       1|    250|\n",
      "| 77309411328|       2|    100|\n",
      "| 85899345920|       0|    500|\n",
      "| 85899345920|       1|    250|\n",
      "| 85899345920|       2|    100|\n",
      "| 94489280512|       0|    500|\n",
      "| 94489280512|       1|    250|\n",
      "| 94489280512|       2|    100|\n",
      "|120259084288|       0|    250|\n",
      "|120259084288|       1|    100|\n",
      "|128849018880|       0|    250|\n",
      "|128849018880|       1|    100|\n",
      "+------------+--------+-------+\n",
      "\n"
     ]
    }
   ],
   "source": [
    "from pyspark.sql.functions import posexplode\n",
    "\n",
    "pp = p.select(\"rowid\", posexplode(\"spark_status\"))\\\n",
    "    .withColumnRenamed(\"rowid\", 'rd')\\\n",
    "    .withColumnRenamed(\"pos\", \"position\")\\\n",
    "    .withColumnRenamed(\"col\", \"sparkid\")\n",
    "\n",
    "pp.show()"
   ]
  },
  {
   "cell_type": "code",
   "execution_count": 569,
   "metadata": {},
   "outputs": [
    {
     "name": "stdout",
     "output_type": "stream",
     "text": [
      "+------------+--------+-------+---+--------------+\n",
      "|          rd|position|sparkid| id|        status|\n",
      "+------------+--------+-------+---+--------------+\n",
      "| 77309411328|       1|    250|250|    PMC Member|\n",
      "| 85899345920|       1|    250|250|    PMC Member|\n",
      "| 94489280512|       1|    250|250|    PMC Member|\n",
      "|120259084288|       0|    250|250|    PMC Member|\n",
      "|128849018880|       0|    250|250|    PMC Member|\n",
      "| 77309411328|       0|    500|500|Vice President|\n",
      "| 85899345920|       0|    500|500|Vice President|\n",
      "| 94489280512|       0|    500|500|Vice President|\n",
      "| 60129542144|       0|    100|100|   Contributor|\n",
      "| 77309411328|       2|    100|100|   Contributor|\n",
      "| 85899345920|       2|    100|100|   Contributor|\n",
      "| 94489280512|       2|    100|100|   Contributor|\n",
      "|120259084288|       1|    100|100|   Contributor|\n",
      "|128849018880|       1|    100|100|   Contributor|\n",
      "+------------+--------+-------+---+--------------+\n",
      "\n"
     ]
    }
   ],
   "source": [
    "pc = pp.join(sparkStatus, expr(\"sparkid == id\"))\n",
    "pc.show()"
   ]
  },
  {
   "cell_type": "code",
   "execution_count": 570,
   "metadata": {},
   "outputs": [
    {
     "name": "stdout",
     "output_type": "stream",
     "text": [
      "+------------+--------+-------+---+--------------+-----------------------------------------+\n",
      "|rd          |position|sparkid|id |status        |sparks                                   |\n",
      "+------------+--------+-------+---+--------------+-----------------------------------------+\n",
      "|128849018880|0       |250    |250|PMC Member    |[PMC Member, Contributor]                |\n",
      "|128849018880|1       |100    |100|Contributor   |[PMC Member, Contributor]                |\n",
      "|60129542144 |0       |100    |100|Contributor   |[Contributor]                            |\n",
      "|85899345920 |0       |500    |500|Vice President|[Vice President, PMC Member, Contributor]|\n",
      "|85899345920 |1       |250    |250|PMC Member    |[Vice President, PMC Member, Contributor]|\n",
      "|85899345920 |2       |100    |100|Contributor   |[Vice President, PMC Member, Contributor]|\n",
      "|120259084288|0       |250    |250|PMC Member    |[PMC Member, Contributor]                |\n",
      "|120259084288|1       |100    |100|Contributor   |[PMC Member, Contributor]                |\n",
      "|94489280512 |0       |500    |500|Vice President|[Vice President, PMC Member, Contributor]|\n",
      "|94489280512 |1       |250    |250|PMC Member    |[Vice President, PMC Member, Contributor]|\n",
      "|94489280512 |2       |100    |100|Contributor   |[Vice President, PMC Member, Contributor]|\n",
      "|77309411328 |0       |500    |500|Vice President|[Vice President, PMC Member, Contributor]|\n",
      "|77309411328 |1       |250    |250|PMC Member    |[Vice President, PMC Member, Contributor]|\n",
      "|77309411328 |2       |100    |100|Contributor   |[Vice President, PMC Member, Contributor]|\n",
      "+------------+--------+-------+---+--------------+-----------------------------------------+\n",
      "\n"
     ]
    }
   ],
   "source": [
    "pcc = pc.withColumn(\"sparks\", collect_list(\"status\")\\\n",
    "    .over(Window\\\n",
    "          .partitionBy(\"rd\")\\\n",
    "          .orderBy(\"position\")\\\n",
    "          .rowsBetween(Window.unboundedPreceding, Window.unboundedFollowing)))\\\n",
    "    .selectExpr(\"*\")\n",
    "\n",
    "pcc.show(truncate=False)\n",
    "        \n",
    "          "
   ]
  },
  {
   "cell_type": "code",
   "execution_count": 587,
   "metadata": {},
   "outputs": [
    {
     "name": "stdout",
     "output_type": "stream",
     "text": [
      "+--------+----------------+----------------+---------------+-----------------------------------------+\n",
      "|personid|name            |graduate_program|spark_status   |sparks                                   |\n",
      "+--------+----------------+----------------+---------------+-----------------------------------------+\n",
      "|0       |Bill Chambers   |0               |[100]          |[Contributor]                            |\n",
      "|1       |Matei Zaharia   |1               |[500, 250, 100]|[Vice President, PMC Member, Contributor]|\n",
      "|2       |Michael Armbrust|1               |[250, 100]     |[PMC Member, Contributor]                |\n",
      "+--------+----------------+----------------+---------------+-----------------------------------------+\n",
      "\n"
     ]
    }
   ],
   "source": [
    "p1 = p.join(pcc, expr(\"rd == rowid\"))\\\n",
    "    .drop(\"rd\")\\\n",
    "    .drop(\"rowid\")\\\n",
    "    .drop(\"id\")\\\n",
    "    .drop(\"position\")\\\n",
    "    .drop(\"sparkid\", \"status\", \"spark\")\\\n",
    "    .dropDuplicates()\\\n",
    "    .orderBy(\"personid\")\n",
    "\n",
    "p1.show(truncate=False)"
   ]
  },
  {
   "cell_type": "code",
   "execution_count": 590,
   "metadata": {},
   "outputs": [
    {
     "name": "stdout",
     "output_type": "stream",
     "text": [
      "== Physical Plan ==\n",
      "*(5) SortMergeJoin [graduate_program#130360L], [id#130374L], Inner\n",
      ":- *(2) Sort [graduate_program#130360L ASC NULLS FIRST], false, 0\n",
      ":  +- Exchange hashpartitioning(graduate_program#130360L, 200)\n",
      ":     +- *(1) Project [_1#130350L AS id#130358L, _2#130351 AS name#130359, _3#130352L AS graduate_program#130360L, _4#130353 AS spark_status#130361]\n",
      ":        +- *(1) Filter isnotnull(_3#130352L)\n",
      ":           +- Scan ExistingRDD[_1#130350L,_2#130351,_3#130352L,_4#130353]\n",
      "+- *(4) Sort [id#130374L ASC NULLS FIRST], false, 0\n",
      "   +- Exchange hashpartitioning(id#130374L, 200)\n",
      "      +- *(3) Project [_1#130366L AS id#130374L, _2#130367 AS degree#130375, _3#130368 AS department#130376, _4#130369 AS school#130377]\n",
      "         +- *(3) Filter isnotnull(_1#130366L)\n",
      "            +- Scan ExistingRDD[_1#130366L,_2#130367,_3#130368,_4#130369]\n"
     ]
    }
   ],
   "source": [
    "# check the explain plan for our joins\n",
    "person.join(graduateProgram, joinExpression, \"inner\").explain()"
   ]
  },
  {
   "cell_type": "code",
   "execution_count": 593,
   "metadata": {},
   "outputs": [
    {
     "name": "stdout",
     "output_type": "stream",
     "text": [
      "== Physical Plan ==\n",
      "*(2) BroadcastHashJoin [graduate_program#130360L], [id#130374L], Inner, BuildRight\n",
      ":- *(2) Project [_1#130350L AS id#130358L, _2#130351 AS name#130359, _3#130352L AS graduate_program#130360L, _4#130353 AS spark_status#130361]\n",
      ":  +- *(2) Filter isnotnull(_3#130352L)\n",
      ":     +- Scan ExistingRDD[_1#130350L,_2#130351,_3#130352L,_4#130353]\n",
      "+- BroadcastExchange HashedRelationBroadcastMode(List(input[0, bigint, true]))\n",
      "   +- *(1) Project [_1#130366L AS id#130374L, _2#130367 AS degree#130375, _3#130368 AS department#130376, _4#130369 AS school#130377]\n",
      "      +- *(1) Filter isnotnull(_1#130366L)\n",
      "         +- Scan ExistingRDD[_1#130366L,_2#130367,_3#130368,_4#130369]\n"
     ]
    }
   ],
   "source": [
    "# we can explictly push broadcast join like this\n",
    "\n",
    "from pyspark.sql.functions import broadcast\n",
    "person.join(broadcast(graduateProgram), joinExpression).explain()"
   ]
  },
  {
   "cell_type": "markdown",
   "metadata": {},
   "source": [
    "## Reading from Files"
   ]
  },
  {
   "cell_type": "code",
   "execution_count": 37,
   "metadata": {},
   "outputs": [
    {
     "name": "stdout",
     "output_type": "stream",
     "text": [
      "+---------+---------+--------------------+--------+-------------------+---------+----------+--------------+\n",
      "|InvoiceNo|StockCode|         Description|Quantity|        InvoiceDate|UnitPrice|CustomerID|       Country|\n",
      "+---------+---------+--------------------+--------+-------------------+---------+----------+--------------+\n",
      "|   536365|   85123A|WHITE HANGING HEA...|       6|2010-12-01 08:26:00|     2.55|   17850.0|United Kingdom|\n",
      "|   536365|    71053| WHITE METAL LANTERN|       6|2010-12-01 08:26:00|     3.39|   17850.0|United Kingdom|\n",
      "|   536365|   84406B|CREAM CUPID HEART...|       8|2010-12-01 08:26:00|     2.75|   17850.0|United Kingdom|\n",
      "|   536365|   84029G|KNITTED UNION FLA...|       6|2010-12-01 08:26:00|     3.39|   17850.0|United Kingdom|\n",
      "|   536365|   84029E|RED WOOLLY HOTTIE...|       6|2010-12-01 08:26:00|     3.39|   17850.0|United Kingdom|\n",
      "+---------+---------+--------------------+--------+-------------------+---------+----------+--------------+\n",
      "only showing top 5 rows\n",
      "\n"
     ]
    }
   ],
   "source": [
    "# read from csv files\n",
    "# mode = permissive, failFast, dropMalformed\n",
    "df = spark.read.format(\"csv\")\\\n",
    "    .option(\"mode\", \"FAILFAST\")\\\n",
    "    .option(\"inferSchema\", True)\\\n",
    "    .option(\"header\",True)\\\n",
    "    .load(\"file:///Users/Neeraj/Documents/Proj/Spark/data/retail-data/by-day/2010-12-01.csv\")\n",
    "df.show(5)"
   ]
  },
  {
   "cell_type": "code",
   "execution_count": 38,
   "metadata": {},
   "outputs": [],
   "source": [
    "# write into CSV file\n",
    "# mode - overwrite, append, errorIfExists, ignore\n",
    "# maxRecordsPerFile allows controlling output file sizes\n",
    "df.write.format(\"csv\").option(\"mode\", \"overwrite\")\\\n",
    "    .option(\"dateFormat\", \"MM-dd-yyyy\")\\\n",
    "    .option(\"sep\", \"\\t\")\\\n",
    "    .option(\"maxRecordsPerFile\", 50)\\\n",
    "    .save(\"file:///Users/Neeraj/Documents/Proj/Spark/data/retail-data/output/2010-12-01\")"
   ]
  },
  {
   "cell_type": "code",
   "execution_count": 617,
   "metadata": {},
   "outputs": [],
   "source": [
    "# you can also partition DF before writing out.\n",
    "# sort and bucketBy aren't supported as of spark 2.4 release\n",
    "df.write.format(\"csv\").option(\"mode\", \"overwrite\").option(\"sep\", \"\\t\")\\\n",
    "    .partitionBy(\"Country\")\\\n",
    "    .save(\"file:///Users/Neeraj/Documents/Proj/Spark/data/retail-data/output/2010-12-01\")"
   ]
  },
  {
   "cell_type": "code",
   "execution_count": 618,
   "metadata": {},
   "outputs": [
    {
     "name": "stdout",
     "output_type": "stream",
     "text": [
      "+-----------------+-------------------+-----+\n",
      "|DEST_COUNTRY_NAME|ORIGIN_COUNTRY_NAME|count|\n",
      "+-----------------+-------------------+-----+\n",
      "|    United States|            Romania|   15|\n",
      "|    United States|            Croatia|    1|\n",
      "|    United States|            Ireland|  344|\n",
      "+-----------------+-------------------+-----+\n",
      "only showing top 3 rows\n",
      "\n"
     ]
    }
   ],
   "source": [
    "# reading JSON files\n",
    "df = spark.read.format(\"json\").option(\"mode\", \"failfast\")\\\n",
    "    .load(\"file:///Users/Neeraj/Documents/Proj/Spark/data/flight-data/json\")\n",
    "\n",
    "df.show(3)"
   ]
  },
  {
   "cell_type": "code",
   "execution_count": 620,
   "metadata": {},
   "outputs": [],
   "source": [
    "# write csv to json data\n",
    "df.write.format(\"json\").option(\"mode\", \"overwrite\")\\\n",
    "    .save(\"file:///Users/Neeraj/Documents/Proj/Spark/data/flight-data/json/2010-retail\")\n"
   ]
  },
  {
   "cell_type": "code",
   "execution_count": 621,
   "metadata": {},
   "outputs": [],
   "source": [
    "# in this case, partitioned column will be removed from the data records\n",
    "df.write.format(\"json\").option(\"mode\", \"overwrite\")\\\n",
    "    .partitionBy(\"Country\")\\\n",
    "    .save(\"file:///Users/Neeraj/Documents/Proj/Spark/data/flight-data/json/2011-retail\")\n"
   ]
  },
  {
   "cell_type": "code",
   "execution_count": 622,
   "metadata": {},
   "outputs": [],
   "source": [
    "# for parquet use format(\"parquet\")\n",
    "# for ORC use format(\"orc\")"
   ]
  },
  {
   "cell_type": "markdown",
   "metadata": {},
   "source": [
    "## Connecting to PostgresSQL or any Database DB\n",
    "Start Jupyter as:\n",
    "pyspark --driver-class-path postgresql-42.2.5.jar --jars postgresql-42.2.5.jar"
   ]
  },
  {
   "cell_type": "code",
   "execution_count": 1,
   "metadata": {},
   "outputs": [],
   "source": [
    "# one way is to pass in driver class path with postgres jar while starting pyspark in terminal\n",
    "# bin\\pyspark --driver-class-path $PATH_TO_DRIVER_JAR --jars $PATH_TO_DRIVER_JAR\n",
    "# e.g pyspark --driver-class-path postgresql-42.2.5.jar --jars postgresql-42.2.5.jar\n",
    "\n",
    "# OR, with spark-shell, do this\n",
    "# .\\bin\\spark-shell --packages org.postgresql:postgresql:42.1.1\n",
    "# The driver file will automatically be downloaded if needed into spark’s jars folder\n",
    "# read more: https://medium.com/@thucnc/pyspark-in-jupyter-notebook-working-with-dataframe-jdbc-data-sources-6f3d39300bf6"
   ]
  },
  {
   "cell_type": "code",
   "execution_count": 2,
   "metadata": {},
   "outputs": [],
   "source": [
    "# if you want to do it in jupyter, then follow this\n",
    "import os\n",
    "#os.environ['PYSPARK_SUBMIT_ARGS'] = '--packages org.postgresql:postgresql:jar:42.2.5 pyspark-shell'\n",
    "os.environ['PYSPARK_SUBMIT_ARGS'] = '--jars file:///Users/Neeraj/Documents/Proj/Spark/pyspark/postgresql-42.2.5.jar pyspark-shell'"
   ]
  },
  {
   "cell_type": "code",
   "execution_count": 5,
   "metadata": {},
   "outputs": [],
   "source": [
    "# now prepare JDBC URI and dictionary of arguments\n",
    "url = \"jdbc:postgresql://127.0.0.1/course_data\"\n",
    "driver = \"org.postgresql.Driver\"\n",
    "properties = {\n",
    "    \"user\": \"postgres\",\n",
    "    \"password\": \"abc123\"\n",
    "}"
   ]
  },
  {
   "cell_type": "code",
   "execution_count": 6,
   "metadata": {},
   "outputs": [
    {
     "name": "stdout",
     "output_type": "stream",
     "text": [
      "+-----------+----------+---------+--------------------+----------+----------------+------+------+---------+\n",
      "|employee_id|first_name|last_name|               email| hire_date|      department|gender|salary|region_id|\n",
      "+-----------+----------+---------+--------------------+----------+----------------+------+------+---------+\n",
      "|          1|    Berrie|  Manueau|bmanueau0@dion.ne.jp|2006-04-20|          Sports|     F|154864|        4|\n",
      "|          2|   Aeriell|    McNee|   amcnee1@google.es|2009-01-26|           Tools|     F| 56752|        3|\n",
      "|          3|    Sydney|  Symonds|   ssymonds2@hhs.gov|2010-05-17|        Clothing|     F| 95313|        4|\n",
      "|          4|     Avrom|Rowantree|                null|2014-08-02|Phones & Tablets|     M|119674|        7|\n",
      "|          5|    Feliks|  Morffew|    fmorffew4@a8.net|2003-01-14|       Computers|     M| 55307|        5|\n",
      "|          6|   Bethena|     Trow|btrow5@technorati...|2003-06-08|          Sports|     F|134501|        3|\n",
      "|          7|    Ardeen|  Curwood|  acurwood6@1und1.de|2006-02-19|        Clothing|     F| 28995|        7|\n",
      "|          8|    Seline|   Dubber|sdubber7@t-online.de|2012-05-28|Phones & Tablets|     F|101066|        3|\n",
      "|          9|     Dayle|    Trail|    dtrail8@tamu.edu|2003-03-01|       First Aid|     F| 82753|        1|\n",
      "|         10|   Redford|  Roberti|                null|2008-07-21|        Clothing|     M| 72225|        7|\n",
      "+-----------+----------+---------+--------------------+----------+----------------+------+------+---------+\n",
      "only showing top 10 rows\n",
      "\n"
     ]
    }
   ],
   "source": [
    "dbDF = spark.read.format(\"jdbc\").option(\"url\",url)\\\n",
    "    .option(\"dbTable\", \"employees\")\\\n",
    "    .option(\"user\", \"postgres\")\\\n",
    "    .option(\"password\", \"abc123\")\\\n",
    "    .option(\"driver\",driver).load()\n",
    "\n",
    "dbDF.show(10)"
   ]
  },
  {
   "cell_type": "code",
   "execution_count": 7,
   "metadata": {},
   "outputs": [
    {
     "ename": "AnalysisException",
     "evalue": "\"Table or view 'emp_from_jupyter' already exists. SaveMode: ErrorIfExists.;\"",
     "output_type": "error",
     "traceback": [
      "\u001b[0;31m---------------------------------------------------------------------------\u001b[0m",
      "\u001b[0;31mPy4JJavaError\u001b[0m                             Traceback (most recent call last)",
      "\u001b[0;32m/usr/local/spark/python/pyspark/sql/utils.py\u001b[0m in \u001b[0;36mdeco\u001b[0;34m(*a, **kw)\u001b[0m\n\u001b[1;32m     62\u001b[0m         \u001b[0;32mtry\u001b[0m\u001b[0;34m:\u001b[0m\u001b[0;34m\u001b[0m\u001b[0;34m\u001b[0m\u001b[0m\n\u001b[0;32m---> 63\u001b[0;31m             \u001b[0;32mreturn\u001b[0m \u001b[0mf\u001b[0m\u001b[0;34m(\u001b[0m\u001b[0;34m*\u001b[0m\u001b[0ma\u001b[0m\u001b[0;34m,\u001b[0m \u001b[0;34m**\u001b[0m\u001b[0mkw\u001b[0m\u001b[0;34m)\u001b[0m\u001b[0;34m\u001b[0m\u001b[0;34m\u001b[0m\u001b[0m\n\u001b[0m\u001b[1;32m     64\u001b[0m         \u001b[0;32mexcept\u001b[0m \u001b[0mpy4j\u001b[0m\u001b[0;34m.\u001b[0m\u001b[0mprotocol\u001b[0m\u001b[0;34m.\u001b[0m\u001b[0mPy4JJavaError\u001b[0m \u001b[0;32mas\u001b[0m \u001b[0me\u001b[0m\u001b[0;34m:\u001b[0m\u001b[0;34m\u001b[0m\u001b[0;34m\u001b[0m\u001b[0m\n",
      "\u001b[0;32m/usr/local/spark/python/lib/py4j-0.10.7-src.zip/py4j/protocol.py\u001b[0m in \u001b[0;36mget_return_value\u001b[0;34m(answer, gateway_client, target_id, name)\u001b[0m\n\u001b[1;32m    327\u001b[0m                     \u001b[0;34m\"An error occurred while calling {0}{1}{2}.\\n\"\u001b[0m\u001b[0;34m.\u001b[0m\u001b[0;34m\u001b[0m\u001b[0;34m\u001b[0m\u001b[0m\n\u001b[0;32m--> 328\u001b[0;31m                     format(target_id, \".\", name), value)\n\u001b[0m\u001b[1;32m    329\u001b[0m             \u001b[0;32melse\u001b[0m\u001b[0;34m:\u001b[0m\u001b[0;34m\u001b[0m\u001b[0;34m\u001b[0m\u001b[0m\n",
      "\u001b[0;31mPy4JJavaError\u001b[0m: An error occurred while calling o53.save.\n: org.apache.spark.sql.AnalysisException: Table or view 'emp_from_jupyter' already exists. SaveMode: ErrorIfExists.;\n\tat org.apache.spark.sql.execution.datasources.jdbc.JdbcRelationProvider.createRelation(JdbcRelationProvider.scala:71)\n\tat org.apache.spark.sql.execution.datasources.SaveIntoDataSourceCommand.run(SaveIntoDataSourceCommand.scala:45)\n\tat org.apache.spark.sql.execution.command.ExecutedCommandExec.sideEffectResult$lzycompute(commands.scala:70)\n\tat org.apache.spark.sql.execution.command.ExecutedCommandExec.sideEffectResult(commands.scala:68)\n\tat org.apache.spark.sql.execution.command.ExecutedCommandExec.doExecute(commands.scala:86)\n\tat org.apache.spark.sql.execution.SparkPlan$$anonfun$execute$1.apply(SparkPlan.scala:131)\n\tat org.apache.spark.sql.execution.SparkPlan$$anonfun$execute$1.apply(SparkPlan.scala:127)\n\tat org.apache.spark.sql.execution.SparkPlan$$anonfun$executeQuery$1.apply(SparkPlan.scala:155)\n\tat org.apache.spark.rdd.RDDOperationScope$.withScope(RDDOperationScope.scala:151)\n\tat org.apache.spark.sql.execution.SparkPlan.executeQuery(SparkPlan.scala:152)\n\tat org.apache.spark.sql.execution.SparkPlan.execute(SparkPlan.scala:127)\n\tat org.apache.spark.sql.execution.QueryExecution.toRdd$lzycompute(QueryExecution.scala:80)\n\tat org.apache.spark.sql.execution.QueryExecution.toRdd(QueryExecution.scala:80)\n\tat org.apache.spark.sql.DataFrameWriter$$anonfun$runCommand$1.apply(DataFrameWriter.scala:668)\n\tat org.apache.spark.sql.DataFrameWriter$$anonfun$runCommand$1.apply(DataFrameWriter.scala:668)\n\tat org.apache.spark.sql.execution.SQLExecution$$anonfun$withNewExecutionId$1.apply(SQLExecution.scala:78)\n\tat org.apache.spark.sql.execution.SQLExecution$.withSQLConfPropagated(SQLExecution.scala:125)\n\tat org.apache.spark.sql.execution.SQLExecution$.withNewExecutionId(SQLExecution.scala:73)\n\tat org.apache.spark.sql.DataFrameWriter.runCommand(DataFrameWriter.scala:668)\n\tat org.apache.spark.sql.DataFrameWriter.saveToV1Source(DataFrameWriter.scala:276)\n\tat org.apache.spark.sql.DataFrameWriter.save(DataFrameWriter.scala:270)\n\tat sun.reflect.NativeMethodAccessorImpl.invoke0(Native Method)\n\tat sun.reflect.NativeMethodAccessorImpl.invoke(NativeMethodAccessorImpl.java:62)\n\tat sun.reflect.DelegatingMethodAccessorImpl.invoke(DelegatingMethodAccessorImpl.java:43)\n\tat java.lang.reflect.Method.invoke(Method.java:497)\n\tat py4j.reflection.MethodInvoker.invoke(MethodInvoker.java:244)\n\tat py4j.reflection.ReflectionEngine.invoke(ReflectionEngine.java:357)\n\tat py4j.Gateway.invoke(Gateway.java:282)\n\tat py4j.commands.AbstractCommand.invokeMethod(AbstractCommand.java:132)\n\tat py4j.commands.CallCommand.execute(CallCommand.java:79)\n\tat py4j.GatewayConnection.run(GatewayConnection.java:238)\n\tat java.lang.Thread.run(Thread.java:745)\n",
      "\nDuring handling of the above exception, another exception occurred:\n",
      "\u001b[0;31mAnalysisException\u001b[0m                         Traceback (most recent call last)",
      "\u001b[0;32m<ipython-input-7-3e0c9989dcab>\u001b[0m in \u001b[0;36m<module>\u001b[0;34m\u001b[0m\n\u001b[1;32m      5\u001b[0m     \u001b[0;34m.\u001b[0m\u001b[0moption\u001b[0m\u001b[0;34m(\u001b[0m\u001b[0;34m\"user\"\u001b[0m\u001b[0;34m,\u001b[0m \u001b[0;34m\"postgres\"\u001b[0m\u001b[0;34m)\u001b[0m\u001b[0;31m\\\u001b[0m\u001b[0;34m\u001b[0m\u001b[0;34m\u001b[0m\u001b[0m\n\u001b[1;32m      6\u001b[0m     \u001b[0;34m.\u001b[0m\u001b[0moption\u001b[0m\u001b[0;34m(\u001b[0m\u001b[0;34m\"password\"\u001b[0m\u001b[0;34m,\u001b[0m \u001b[0;34m\"abc123\"\u001b[0m\u001b[0;34m)\u001b[0m\u001b[0;31m\\\u001b[0m\u001b[0;34m\u001b[0m\u001b[0;34m\u001b[0m\u001b[0m\n\u001b[0;32m----> 7\u001b[0;31m     \u001b[0;34m.\u001b[0m\u001b[0moption\u001b[0m\u001b[0;34m(\u001b[0m\u001b[0;34m\"driver\"\u001b[0m\u001b[0;34m,\u001b[0m\u001b[0mdriver\u001b[0m\u001b[0;34m)\u001b[0m\u001b[0;34m.\u001b[0m\u001b[0msave\u001b[0m\u001b[0;34m(\u001b[0m\u001b[0;34m)\u001b[0m\u001b[0;34m\u001b[0m\u001b[0;34m\u001b[0m\u001b[0m\n\u001b[0m",
      "\u001b[0;32m/usr/local/spark/python/pyspark/sql/readwriter.py\u001b[0m in \u001b[0;36msave\u001b[0;34m(self, path, format, mode, partitionBy, **options)\u001b[0m\n\u001b[1;32m    732\u001b[0m             \u001b[0mself\u001b[0m\u001b[0;34m.\u001b[0m\u001b[0mformat\u001b[0m\u001b[0;34m(\u001b[0m\u001b[0mformat\u001b[0m\u001b[0;34m)\u001b[0m\u001b[0;34m\u001b[0m\u001b[0;34m\u001b[0m\u001b[0m\n\u001b[1;32m    733\u001b[0m         \u001b[0;32mif\u001b[0m \u001b[0mpath\u001b[0m \u001b[0;32mis\u001b[0m \u001b[0;32mNone\u001b[0m\u001b[0;34m:\u001b[0m\u001b[0;34m\u001b[0m\u001b[0;34m\u001b[0m\u001b[0m\n\u001b[0;32m--> 734\u001b[0;31m             \u001b[0mself\u001b[0m\u001b[0;34m.\u001b[0m\u001b[0m_jwrite\u001b[0m\u001b[0;34m.\u001b[0m\u001b[0msave\u001b[0m\u001b[0;34m(\u001b[0m\u001b[0;34m)\u001b[0m\u001b[0;34m\u001b[0m\u001b[0;34m\u001b[0m\u001b[0m\n\u001b[0m\u001b[1;32m    735\u001b[0m         \u001b[0;32melse\u001b[0m\u001b[0;34m:\u001b[0m\u001b[0;34m\u001b[0m\u001b[0;34m\u001b[0m\u001b[0m\n\u001b[1;32m    736\u001b[0m             \u001b[0mself\u001b[0m\u001b[0;34m.\u001b[0m\u001b[0m_jwrite\u001b[0m\u001b[0;34m.\u001b[0m\u001b[0msave\u001b[0m\u001b[0;34m(\u001b[0m\u001b[0mpath\u001b[0m\u001b[0;34m)\u001b[0m\u001b[0;34m\u001b[0m\u001b[0;34m\u001b[0m\u001b[0m\n",
      "\u001b[0;32m/usr/local/spark/python/lib/py4j-0.10.7-src.zip/py4j/java_gateway.py\u001b[0m in \u001b[0;36m__call__\u001b[0;34m(self, *args)\u001b[0m\n\u001b[1;32m   1255\u001b[0m         \u001b[0manswer\u001b[0m \u001b[0;34m=\u001b[0m \u001b[0mself\u001b[0m\u001b[0;34m.\u001b[0m\u001b[0mgateway_client\u001b[0m\u001b[0;34m.\u001b[0m\u001b[0msend_command\u001b[0m\u001b[0;34m(\u001b[0m\u001b[0mcommand\u001b[0m\u001b[0;34m)\u001b[0m\u001b[0;34m\u001b[0m\u001b[0;34m\u001b[0m\u001b[0m\n\u001b[1;32m   1256\u001b[0m         return_value = get_return_value(\n\u001b[0;32m-> 1257\u001b[0;31m             answer, self.gateway_client, self.target_id, self.name)\n\u001b[0m\u001b[1;32m   1258\u001b[0m \u001b[0;34m\u001b[0m\u001b[0m\n\u001b[1;32m   1259\u001b[0m         \u001b[0;32mfor\u001b[0m \u001b[0mtemp_arg\u001b[0m \u001b[0;32min\u001b[0m \u001b[0mtemp_args\u001b[0m\u001b[0;34m:\u001b[0m\u001b[0;34m\u001b[0m\u001b[0;34m\u001b[0m\u001b[0m\n",
      "\u001b[0;32m/usr/local/spark/python/pyspark/sql/utils.py\u001b[0m in \u001b[0;36mdeco\u001b[0;34m(*a, **kw)\u001b[0m\n\u001b[1;32m     67\u001b[0m                                              e.java_exception.getStackTrace()))\n\u001b[1;32m     68\u001b[0m             \u001b[0;32mif\u001b[0m \u001b[0ms\u001b[0m\u001b[0;34m.\u001b[0m\u001b[0mstartswith\u001b[0m\u001b[0;34m(\u001b[0m\u001b[0;34m'org.apache.spark.sql.AnalysisException: '\u001b[0m\u001b[0;34m)\u001b[0m\u001b[0;34m:\u001b[0m\u001b[0;34m\u001b[0m\u001b[0;34m\u001b[0m\u001b[0m\n\u001b[0;32m---> 69\u001b[0;31m                 \u001b[0;32mraise\u001b[0m \u001b[0mAnalysisException\u001b[0m\u001b[0;34m(\u001b[0m\u001b[0ms\u001b[0m\u001b[0;34m.\u001b[0m\u001b[0msplit\u001b[0m\u001b[0;34m(\u001b[0m\u001b[0;34m': '\u001b[0m\u001b[0;34m,\u001b[0m \u001b[0;36m1\u001b[0m\u001b[0;34m)\u001b[0m\u001b[0;34m[\u001b[0m\u001b[0;36m1\u001b[0m\u001b[0;34m]\u001b[0m\u001b[0;34m,\u001b[0m \u001b[0mstackTrace\u001b[0m\u001b[0;34m)\u001b[0m\u001b[0;34m\u001b[0m\u001b[0;34m\u001b[0m\u001b[0m\n\u001b[0m\u001b[1;32m     70\u001b[0m             \u001b[0;32mif\u001b[0m \u001b[0ms\u001b[0m\u001b[0;34m.\u001b[0m\u001b[0mstartswith\u001b[0m\u001b[0;34m(\u001b[0m\u001b[0;34m'org.apache.spark.sql.catalyst.analysis'\u001b[0m\u001b[0;34m)\u001b[0m\u001b[0;34m:\u001b[0m\u001b[0;34m\u001b[0m\u001b[0;34m\u001b[0m\u001b[0m\n\u001b[1;32m     71\u001b[0m                 \u001b[0;32mraise\u001b[0m \u001b[0mAnalysisException\u001b[0m\u001b[0;34m(\u001b[0m\u001b[0ms\u001b[0m\u001b[0;34m.\u001b[0m\u001b[0msplit\u001b[0m\u001b[0;34m(\u001b[0m\u001b[0;34m': '\u001b[0m\u001b[0;34m,\u001b[0m \u001b[0;36m1\u001b[0m\u001b[0;34m)\u001b[0m\u001b[0;34m[\u001b[0m\u001b[0;36m1\u001b[0m\u001b[0;34m]\u001b[0m\u001b[0;34m,\u001b[0m \u001b[0mstackTrace\u001b[0m\u001b[0;34m)\u001b[0m\u001b[0;34m\u001b[0m\u001b[0;34m\u001b[0m\u001b[0m\n",
      "\u001b[0;31mAnalysisException\u001b[0m: \"Table or view 'emp_from_jupyter' already exists. SaveMode: ErrorIfExists.;\""
     ]
    }
   ],
   "source": [
    "# writing to jdbc (postgreSQL DB)\n",
    "dbDF.where(\"salary > 150000\").write.format(\"jdbc\")\\\n",
    "    .option(\"url\", url)\\\n",
    "    .option(\"dbTable\", \"emp_from_jupyter\")\\\n",
    "    .option(\"user\", \"postgres\")\\\n",
    "    .option(\"password\", \"abc123\")\\\n",
    "    .option(\"driver\",driver).save()"
   ]
  },
  {
   "cell_type": "code",
   "execution_count": null,
   "metadata": {},
   "outputs": [],
   "source": [
    "# Query push-down - Spark pushes the query down to RDBMS DB to filter & load only required rows/columns. Here's demo\n",
    "\n",
    "dbDF.select(\"employee_id\", \"first_name\", \"salary\").where(\"salary > 160000\").explain()"
   ]
  },
  {
   "cell_type": "code",
   "execution_count": null,
   "metadata": {},
   "outputs": [],
   "source": [
    "deptDF = spark.read.format(\"jdbc\")\\\n",
    "    .option(\"url\", url)\\\n",
    "    .option(\"user\", \"postgres\")\\\n",
    "    .option(\"password\", \"abc123\")\\\n",
    "    .option(\"driver\", driver)\\\n",
    "    .option(\"dbTable\", \"departments\").load()\n",
    "\n",
    "deptDF.select(\"*\").where(\"department like 'C%'\").distinct().explain()"
   ]
  },
  {
   "cell_type": "code",
   "execution_count": null,
   "metadata": {},
   "outputs": [],
   "source": [
    "deptDF.where(\"department like 'C%'\").distinct().show(5)"
   ]
  },
  {
   "cell_type": "code",
   "execution_count": null,
   "metadata": {},
   "outputs": [],
   "source": [
    "# Pushed down query - In this case we will use custom query instead of a table name to fetch rows from source table\n",
    "\n",
    "pushedQuery = \"\"\"(select * from departments where division in ('Home', 'Electronics')) as dept\"\"\"\n",
    "\n",
    "deptDF = spark.read.format(\"jdbc\")\\\n",
    "            .option(\"url\", url)\\\n",
    "            .option(\"dbTable\", pushedQuery)\\\n",
    "            .option(\"user\", \"postgres\")\\\n",
    "            .option(\"password\", \"abc123\")\\\n",
    "            .option(\"driver\", driver).load()\n",
    "deptDF.show()\n",
    "\n",
    "deptDF.explain()"
   ]
  },
  {
   "cell_type": "code",
   "execution_count": null,
   "metadata": {},
   "outputs": [],
   "source": [
    "deptDF.rdd.getNumPartitions()"
   ]
  },
  {
   "cell_type": "code",
   "execution_count": null,
   "metadata": {},
   "outputs": [],
   "source": [
    "# we can read in parallel from RDBMS tables\n",
    "\n",
    "deptDF = spark.read.format(\"jdbc\")\\\n",
    "            .option(\"url\", url)\\\n",
    "            .option(\"dbTable\", \"employees\")\\\n",
    "            .option(\"user\", \"postgres\")\\\n",
    "            .option(\"password\", \"abc123\")\\\n",
    "            .option(\"numPartitions\", 5)\\\n",
    "            .option(\"driver\", driver).load()\n",
    "\n",
    "deptDF.show()\n",
    "deptDF.explain()\n",
    "deptDF.rdd.getNumPartitions() # as data size is small, partition is still 1 but in large tables, it wont be"
   ]
  },
  {
   "cell_type": "code",
   "execution_count": 8,
   "metadata": {},
   "outputs": [
    {
     "name": "stdout",
     "output_type": "stream",
     "text": [
      "+-----------+------------+--------------+--------------------+----------+----------+------+------+---------+\n",
      "|employee_id|  first_name|     last_name|               email| hire_date|department|gender|salary|region_id|\n",
      "+-----------+------------+--------------+--------------------+----------+----------+------+------+---------+\n",
      "|         11|      Nickey|       Pointon|npointona@vistapr...|2006-12-30|   Jewelry|     M|126333|        7|\n",
      "|         17|      Annora|      Bendelow|abendelowg@google...|2009-06-12|      Toys|     F| 75283|        5|\n",
      "|         18|      Ronica|      Armfield|                null|2012-09-14|      Toys|     F|114983|        5|\n",
      "|         42|    Penelopa|       Danieli|pdanieli15@micros...|2014-06-23|      Toys|     F| 85218|        1|\n",
      "|         64|         Ody|         Dunks|odunks1r@theguard...|2006-10-13|      Toys|     M| 92003|        1|\n",
      "|         66|         Deb|      Scarratt|                null|2010-12-24|   Jewelry|     F|112297|        3|\n",
      "|         68|  Wilhelmina|     Martignon|                null|2013-04-11|   Jewelry|     F|150818|        3|\n",
      "|         69|        Ivar|        Burwin|iburwin1w@hostgat...|2008-07-04|      Toys|     M| 67447|        4|\n",
      "|         72|     Zebulon|        Guppey|zguppey1z@virgini...|2004-11-30|      Toys|     M| 89221|        7|\n",
      "|         99|      Simeon|   Scarsbrooke|sscarsbrooke2q@te...|2011-04-10|   Jewelry|     M| 56976|        2|\n",
      "|        109|   Sigismund|Von Hindenburg|svonhindenburg30@...|2007-01-28|      Toys|     M|125291|        1|\n",
      "|        127|       Colby|       Soulsby|csoulsby3i@google...|2011-06-22|      Toys|     M|104665|        5|\n",
      "|        128|   Archibald|         Pavey|                null|2015-04-27|      Toys|     M| 59860|        1|\n",
      "|        151|Maximilianus|       Woonton| mwoonton46@ning.com|2008-12-18|      Toys|     M| 90399|        5|\n",
      "|        163|    Stirling|    MacSweeney|smacsweeney4i@sou...|2008-11-10|   Jewelry|     M| 37157|        5|\n",
      "|        182|      Jaimie|      Paulusch|jpaulusch51@sakur...|2004-10-10|   Jewelry|     F| 36979|        5|\n",
      "|        194|     Yardley|       Vynarde|                null|2003-02-28|   Jewelry|     M| 26876|        1|\n",
      "|        214|         Nap|    Corradetti|                null|2016-07-01|   Jewelry|     M|144262|        6|\n",
      "|        216|        Abby|     Seawright|aseawright5z@ask.com|2011-09-01|   Jewelry|     F| 56889|        3|\n",
      "|        217|      Sileas|       Rushman|srushman60@dion.n...|2011-02-05|      Toys|     F|118649|        6|\n",
      "+-----------+------------+--------------+--------------------+----------+----------+------+------+---------+\n",
      "only showing top 20 rows\n",
      "\n",
      "== Physical Plan ==\n",
      "*(1) Scan JDBCRelation(employees) [numPartitions=2] [employee_id#64,first_name#65,last_name#66,email#67,hire_date#68,department#69,gender#70,salary#71,region_id#72] PushedFilters: [], ReadSchema: struct<employee_id:int,first_name:string,last_name:string,email:string,hire_date:date,department:...\n"
     ]
    }
   ],
   "source": [
    "# if we want to control which rows goes into which partition, then we can use something called 'predicates'. \n",
    "# at connection time, we can load the data into individual partitions into spark. Here's demo\n",
    "\n",
    "props = {\n",
    "    \"driver\":\"org.postgresql.Driver\",\n",
    "    \"user\": \"postgres\",\n",
    "    \"password\": \"abc123\"\n",
    "}\n",
    "predicates = [\n",
    "    \"department = 'Jewelry' or department = 'Toys'\",\n",
    "    \"salary between 50000 and 80000\"\n",
    "]\n",
    "table=\"employees\"\n",
    "\n",
    "empDF = spark.read.jdbc(url, table, predicates=predicates, properties=props)\n",
    "empDF.show()\n",
    "empDF.rdd.getNumPartitions()\n",
    "empDF.explain()"
   ]
  },
  {
   "cell_type": "code",
   "execution_count": 9,
   "metadata": {},
   "outputs": [
    {
     "name": "stdout",
     "output_type": "stream",
     "text": [
      "+-----------+----------+---------+--------------------+----------+-----------------+------+------+---------+\n",
      "|employee_id|first_name|last_name|               email| hire_date|       department|gender|salary|region_id|\n",
      "+-----------+----------+---------+--------------------+----------+-----------------+------+------+---------+\n",
      "|          7|    Ardeen|  Curwood|  acurwood6@1und1.de|2006-02-19|         Clothing|     F| 28995|        7|\n",
      "|         13|    Anetta|    Arnao|                null|2009-05-23|            Games|     F| 38162|        1|\n",
      "|         44|     Moise|   Turpey|   mturpey17@mac.com|2008-04-15|    Device Repair|     M| 33781|        1|\n",
      "|         46|     Lanny|  Comolli|lcomolli19@poster...|2014-06-19| Phones & Tablets|     F| 34250|        6|\n",
      "|         53|  Alphonse|    Shedd|ashedd1g@illinois...|2014-08-17|        Cosmetics|     M| 33272|        4|\n",
      "|         57|    Reuben|  Hallard|                null|2009-03-14|        First Aid|     M| 34572|        5|\n",
      "|         67|      Wain|  Betonia|wbetonia1u@prince...|2005-07-23|            Tools|     M| 26578|        3|\n",
      "|         83|    Elnora|    Babin|ebabin2a@foxnews.com|2003-02-22|        First Aid|     F| 34355|        5|\n",
      "|        113|   Myrtice|   Emmens|                null|2011-11-21|           Movies|     F| 36919|        6|\n",
      "|        115|    Peyter|   Jansey|pjansey36@linkedi...|2005-12-02|Children Clothing|     M| 23348|        4|\n",
      "|        124|      Remy|  Sperski|rsperski3f@vistap...|2004-06-19|          Grocery|     F| 22796|        1|\n",
      "|        125|    Valera| Southway|vsouthway3g@times...|2010-05-20|    Device Repair|     F| 25114|        6|\n",
      "|        134|    Demott|   Mouton|                null|2007-09-26|        Cosmetics|     M| 22284|        5|\n",
      "|        135|     Salli|  Caville|scaville3q@miibei...|2008-10-17|        Furniture|     F| 29124|        5|\n",
      "|        140|   Eugenia| Scourgie|escourgie3v@imdb.com|2011-06-29|          Camping|     F| 26747|        5|\n",
      "|        143|      Dasi|Kennefick|dkennefick3y@appl...|2006-04-30|    Device Repair|     F| 29158|        4|\n",
      "|        152|  Johnette| Claworth|jclaworth47@googl...|2009-12-13|            Games|     F| 27750|        3|\n",
      "|        154|  Sapphira| Stouther|sstouther49@photo...|2007-12-10|    Device Repair|     F| 39966|        3|\n",
      "|        156|    Joleen| Rothwell|jrothwell4b@fastc...|2004-10-24|           Sports|     F| 29838|        2|\n",
      "|        157|    Paulie|    Wadly|pwadly4c@nytimes.com|2015-04-09|         Pharmacy|     M| 37829|        5|\n",
      "+-----------+----------+---------+--------------------+----------+-----------------+------+------+---------+\n",
      "only showing top 20 rows\n",
      "\n",
      "== Physical Plan ==\n",
      "*(1) Scan JDBCRelation(employees) [numPartitions=10] [employee_id#110,first_name#111,last_name#112,email#113,hire_date#114,department#115,gender#116,salary#117,region_id#118] PushedFilters: [], ReadSchema: struct<employee_id:int,first_name:string,last_name:string,email:string,hire_date:date,department:...\n"
     ]
    }
   ],
   "source": [
    "# partitioning based on sliding window\n",
    "# dividing records based on salary\n",
    "colName = \"salary\"\n",
    "lowerBound = 0\n",
    "upperBound = 200000\n",
    "numPartitions = 10\n",
    "\n",
    "empDF = spark.read.jdbc(url, table, column=colName, properties=props, \\\n",
    "                        lowerBound=lowerBound, upperBound=upperBound,numPartitions=numPartitions)\n",
    "\n",
    "empDF.show()\n",
    "empDF.explain()"
   ]
  },
  {
   "cell_type": "code",
   "execution_count": 12,
   "metadata": {},
   "outputs": [
    {
     "data": {
      "text/plain": [
       "<matplotlib.axes._subplots.AxesSubplot at 0x111f39c50>"
      ]
     },
     "execution_count": 12,
     "metadata": {},
     "output_type": "execute_result"
    },
    {
     "data": {
      "image/png": "[encoded data removed]",
      "text/plain": [
       "<Figure size 432x288 with 2 Axes>"
      ]
     },
     "metadata": {
      "needs_background": "light"
     },
     "output_type": "display_data"
    }
   ],
   "source": [
    "# plot employee salary distribution\n",
    "import pandas as pd\n",
    "import matplotlib\n",
    "%matplotlib inline\n",
    "#empDF.toPandas().plot.hexbin(x='region_id',y='salary',gridsize=15)\n",
    "empDF.toPandas().plot."
   ]
  },
  {
   "cell_type": "code",
   "execution_count": 36,
   "metadata": {},
   "outputs": [
    {
     "ename": "AttributeError",
     "evalue": "'DataFrameReader' object has no attribute 'textFile'",
     "output_type": "error",
     "traceback": [
      "\u001b[0;31m---------------------------------------------------------------------------\u001b[0m",
      "\u001b[0;31mAttributeError\u001b[0m                            Traceback (most recent call last)",
      "\u001b[0;32m<ipython-input-36-2fca2bce25de>\u001b[0m in \u001b[0;36m<module>\u001b[0;34m\u001b[0m\n\u001b[1;32m      1\u001b[0m \u001b[0;31m# reading text files\u001b[0m\u001b[0;34m\u001b[0m\u001b[0;34m\u001b[0m\u001b[0;34m\u001b[0m\u001b[0m\n\u001b[0;32m----> 2\u001b[0;31m \u001b[0mspark\u001b[0m\u001b[0;34m.\u001b[0m\u001b[0mread\u001b[0m\u001b[0;34m.\u001b[0m\u001b[0mtextFile\u001b[0m\u001b[0;34m(\u001b[0m\u001b[0;34m\"file:///Users/Neeraj/Documents/Proj/Spark/data/retail-data/by-day/2010-12-01.csv\"\u001b[0m\u001b[0;34m)\u001b[0m\u001b[0;31m\\\u001b[0m\u001b[0;34m\u001b[0m\u001b[0;34m\u001b[0m\u001b[0m\n\u001b[0m\u001b[1;32m      3\u001b[0m     \u001b[0;34m.\u001b[0m\u001b[0mshow\u001b[0m\u001b[0;34m(\u001b[0m\u001b[0;34m)\u001b[0m\u001b[0;34m\u001b[0m\u001b[0;34m\u001b[0m\u001b[0m\n",
      "\u001b[0;31mAttributeError\u001b[0m: 'DataFrameReader' object has no attribute 'textFile'"
     ]
    }
   ],
   "source": [
    "# reading text files\n",
    "spark.read.textFile(\"file:///Users/Neeraj/Documents/Proj/Spark/data/retail-data/by-day/2010-12-01.csv\")\\\n",
    "    .show()"
   ]
  },
  {
   "cell_type": "markdown",
   "metadata": {},
   "source": [
    "# RDD - Low level APIs\n",
    "There are two sets of low-level APIs: there is one for manipulating distributed data (RDDs), and another for distributing and manipulating distributed shared variables (broadcast variables and accumulators).\n",
    "\n",
    "### You should generally use the lower-level APIs in three situations:\n",
    "\n",
    "1. You need some functionality that you cannot find in the higher-level APIs; for example, if you need very tight control over physical data placement across the cluster.\n",
    "\n",
    "2. You need to maintain some legacy codebase written using RDDs.\n",
    "\n",
    "3. You need to do some custom shared variable manipulation. "
   ]
  },
  {
   "cell_type": "markdown",
   "metadata": {},
   "source": [
    "## What is RDD\n",
    "An RDD represents an immutable, partitioned collection of records that can be operated on in parallel. Unlike DataFrames though, where each record is a structured row containing fields with a known schema, in RDDs the records are just Java, Scala, or Python objects of the programmer’s choosing.\n",
    "\n",
    "RDDs give you complete control because every record in an RDD is a just a Java or Python object. You can store anything you want in these objects, in any format you want. This gives you great power, but not without potential issues. Every manipulation and interaction between values must be defined by hand, meaning that you must “reinvent the wheel” for whatever task you are trying to carry out. Also, optimizations are going to require much more manual work, because Spark does not understand the inner structure of your records as it does with the Structured APIs. For instance, Spark’s Structured APIs automatically store data in an optimzied, compressed binary format, so to achieve the same space-efficiency and performance, you’d also need to implement this type of format inside your objects and all the low-level operations to compute over it. Likewise, optimizations like reordering filters and aggregations that occur automatically in Spark SQL need to be implemented by hand. For this reason and others, we highly recommend using the Spark Structured APIs when possible.\n",
    "\n",
    "##### The Partitioner is probably one of the core reasons why you might want to use RDDs in your code. Specifying your own custom Partitioner can give you significant performance and stability improvements if you use it correctly. "
   ]
  },
  {
   "cell_type": "code",
   "execution_count": 44,
   "metadata": {},
   "outputs": [
    {
     "name": "stdout",
     "output_type": "stream",
     "text": [
      "+---+\n",
      "| id|\n",
      "+---+\n",
      "|  0|\n",
      "|  1|\n",
      "|  2|\n",
      "|  3|\n",
      "|  4|\n",
      "|  5|\n",
      "|  6|\n",
      "|  7|\n",
      "|  8|\n",
      "|  9|\n",
      "+---+\n",
      "\n"
     ]
    }
   ],
   "source": [
    "# create RDD\n",
    "spark.range(10).toDF(\"id\").show()"
   ]
  },
  {
   "cell_type": "code",
   "execution_count": 49,
   "metadata": {},
   "outputs": [
    {
     "data": {
      "text/plain": [
       "ParallelCollectionRDD[142] at parallelize at PythonRDD.scala:195"
      ]
     },
     "execution_count": 49,
     "metadata": {},
     "output_type": "execute_result"
    }
   ],
   "source": [
    "# create RDD from a local collection, use parallelize method\n",
    "data = \"This is a big string with words of type string\".split(\" \")\n",
    "words = spark.sparkContext.parallelize(data,2)\n",
    "words"
   ]
  },
  {
   "cell_type": "code",
   "execution_count": 51,
   "metadata": {},
   "outputs": [
    {
     "data": {
      "text/plain": [
       "'myWords'"
      ]
     },
     "execution_count": 51,
     "metadata": {},
     "output_type": "execute_result"
    }
   ],
   "source": [
    "# name the RDD so it shows in spark UI\n",
    "words.setName(\"myWords\")\n",
    "words.name()"
   ]
  },
  {
   "cell_type": "code",
   "execution_count": 52,
   "metadata": {},
   "outputs": [
    {
     "data": {
      "text/plain": [
       "file:///Users/Neeraj/Documents/Proj/Spark/data/retail-data/by-day/2010-12-01.csv MapPartitionsRDD[144] at textFile at NativeMethodAccessorImpl.java:0"
      ]
     },
     "execution_count": 52,
     "metadata": {},
     "output_type": "execute_result"
    }
   ],
   "source": [
    "# create RDD from a data source\n",
    "myrdd = spark.sparkContext.textFile(\"file:///Users/Neeraj/Documents/Proj/Spark/data/retail-data/by-day/2010-12-01.csv\")\n",
    "myrdd"
   ]
  },
  {
   "cell_type": "code",
   "execution_count": 53,
   "metadata": {},
   "outputs": [
    {
     "data": {
      "text/plain": [
       "['InvoiceNo,StockCode,Description,Quantity,InvoiceDate,UnitPrice,CustomerID,Country',\n",
       " '536365,85123A,WHITE HANGING HEART T-LIGHT HOLDER,6,2010-12-01 08:26:00,2.55,17850.0,United Kingdom',\n",
       " '536365,71053,WHITE METAL LANTERN,6,2010-12-01 08:26:00,3.39,17850.0,United Kingdom',\n",
       " '536365,84406B,CREAM CUPID HEARTS COAT HANGER,8,2010-12-01 08:26:00,2.75,17850.0,United Kingdom']"
      ]
     },
     "execution_count": 53,
     "metadata": {},
     "output_type": "execute_result"
    }
   ],
   "source": [
    "# read records from rdd\n",
    "myrdd.take(4)"
   ]
  },
  {
   "cell_type": "code",
   "execution_count": 54,
   "metadata": {},
   "outputs": [
    {
     "data": {
      "text/plain": [
       "9"
      ]
     },
     "execution_count": 54,
     "metadata": {},
     "output_type": "execute_result"
    }
   ],
   "source": [
    "# distinct words\n",
    "words.distinct().count()"
   ]
  },
  {
   "cell_type": "code",
   "execution_count": 61,
   "metadata": {},
   "outputs": [
    {
     "name": "stdout",
     "output_type": "stream",
     "text": [
      "True\n"
     ]
    },
    {
     "data": {
      "text/plain": [
       "['This', 'is', 'a', 'big', 'with', 'words', 'of', 'type']"
      ]
     },
     "execution_count": 61,
     "metadata": {},
     "output_type": "execute_result"
    }
   ],
   "source": [
    "# filtering using functions\n",
    "def myStartWith(word):\n",
    "    return word.startswith(\"s\")\n",
    "\n",
    "print(startWithS(\"super\"))\n",
    "\n",
    "words.filter(lambda word: not myStartWith(word)).collect()"
   ]
  },
  {
   "cell_type": "code",
   "execution_count": 70,
   "metadata": {},
   "outputs": [
    {
     "data": {
      "text/plain": [
       "[('This', 'T', False),\n",
       " ('is', 'i', False),\n",
       " ('a', 'a', False),\n",
       " ('big', 'b', False),\n",
       " ('string', 's', True),\n",
       " ('with', 'w', False),\n",
       " ('words', 'w', False),\n",
       " ('of', 'o', False),\n",
       " ('type', 't', False),\n",
       " ('string', 's', True)]"
      ]
     },
     "execution_count": 70,
     "metadata": {},
     "output_type": "execute_result"
    }
   ],
   "source": [
    "# using map\n",
    "w = words.map(lambda word: (word, word[0], myStartWith(word)))\n",
    "w.collect()"
   ]
  },
  {
   "cell_type": "code",
   "execution_count": 69,
   "metadata": {},
   "outputs": [
    {
     "data": {
      "text/plain": [
       "[('string', 's', True), ('string', 's', True)]"
      ]
     },
     "execution_count": 69,
     "metadata": {},
     "output_type": "execute_result"
    }
   ],
   "source": [
    "w.filter(lambda x: x[2]).collect()"
   ]
  },
  {
   "cell_type": "code",
   "execution_count": 72,
   "metadata": {},
   "outputs": [
    {
     "data": {
      "text/plain": [
       "['T', 'h', 'i', 's', 'i', 's', 'a', 'b', 'i', 'g']"
      ]
     },
     "execution_count": 72,
     "metadata": {},
     "output_type": "execute_result"
    }
   ],
   "source": [
    "# flatMap\n",
    "words.flatMap(lambda w: list(w)).take(10)"
   ]
  },
  {
   "cell_type": "code",
   "execution_count": 73,
   "metadata": {},
   "outputs": [
    {
     "data": {
      "text/plain": [
       "['string', 'string', 'words', 'This', 'with', 'type', 'big', 'is', 'of', 'a']"
      ]
     },
     "execution_count": 73,
     "metadata": {},
     "output_type": "execute_result"
    }
   ],
   "source": [
    "# sort in descending or reverse order\n",
    "words.sortBy(lambda s: len(s) * -1).collect()"
   ]
  },
  {
   "cell_type": "code",
   "execution_count": 78,
   "metadata": {},
   "outputs": [
    {
     "name": "stdout",
     "output_type": "stream",
     "text": [
      "1:  ['a', 'with', 'of', 'type']\n",
      "2:  ['This', 'is', 'big', 'string', 'words', 'string']\n"
     ]
    }
   ],
   "source": [
    "# splitting a RDD\n",
    "splitted = words.randomSplit([0.3, 0.7])\n",
    "print(\"1: \",splitted[0].collect())\n",
    "print(\"2: \",splitted[1].collect())"
   ]
  },
  {
   "cell_type": "code",
   "execution_count": 80,
   "metadata": {},
   "outputs": [
    {
     "data": {
      "text/plain": [
       "210"
      ]
     },
     "execution_count": 80,
     "metadata": {},
     "output_type": "execute_result"
    }
   ],
   "source": [
    "# sum of all numbers in a RDD\n",
    "spark.sparkContext.parallelize(range(1,21)).reduce(lambda x,y:x+y)"
   ]
  },
  {
   "cell_type": "code",
   "execution_count": 81,
   "metadata": {},
   "outputs": [
    {
     "data": {
      "text/plain": [
       "'string'"
      ]
     },
     "execution_count": 81,
     "metadata": {},
     "output_type": "execute_result"
    }
   ],
   "source": [
    "# get longest word in data rdd\n",
    "def getLongestWord(l, r):\n",
    "    if len(l) > len(r):\n",
    "        return l\n",
    "    else:\n",
    "        return r\n",
    "    \n",
    "words.reduce(getLongestWord)"
   ]
  },
  {
   "cell_type": "code",
   "execution_count": 82,
   "metadata": {},
   "outputs": [
    {
     "data": {
      "text/plain": [
       "defaultdict(int,\n",
       "            {'This': 1,\n",
       "             'is': 1,\n",
       "             'a': 1,\n",
       "             'big': 1,\n",
       "             'string': 2,\n",
       "             'with': 1,\n",
       "             'words': 1,\n",
       "             'of': 1,\n",
       "             'type': 1})"
      ]
     },
     "execution_count": 82,
     "metadata": {},
     "output_type": "execute_result"
    }
   ],
   "source": [
    "# countByValue - loads entire data into driver's memory and then count value occurences. Avoid it for large datasets\n",
    "words.countByValue()"
   ]
  },
  {
   "cell_type": "code",
   "execution_count": 84,
   "metadata": {},
   "outputs": [
    {
     "data": {
      "text/plain": [
       "['This', 'is', 'a', 'big', 'string']"
      ]
     },
     "execution_count": 84,
     "metadata": {},
     "output_type": "execute_result"
    }
   ],
   "source": [
    "# take - gets values from one partition and then based on how many values are remaining, it fetches from next partition\n",
    "words.take(5)"
   ]
  },
  {
   "cell_type": "code",
   "execution_count": 86,
   "metadata": {},
   "outputs": [
    {
     "data": {
      "text/plain": [
       "['This', 'a', 'big', 'is', 'of']"
      ]
     },
     "execution_count": 86,
     "metadata": {},
     "output_type": "execute_result"
    }
   ],
   "source": [
    "words.takeOrdered(5)"
   ]
  },
  {
   "cell_type": "code",
   "execution_count": 87,
   "metadata": {},
   "outputs": [
    {
     "data": {
      "text/plain": [
       "['words', 'with', 'type', 'string', 'string']"
      ]
     },
     "execution_count": 87,
     "metadata": {},
     "output_type": "execute_result"
    }
   ],
   "source": [
    "words.top(5)"
   ]
  },
  {
   "cell_type": "code",
   "execution_count": 88,
   "metadata": {},
   "outputs": [
    {
     "data": {
      "text/plain": [
       "2"
      ]
     },
     "execution_count": 88,
     "metadata": {},
     "output_type": "execute_result"
    }
   ],
   "source": [
    "words.getNumPartitions()"
   ]
  },
  {
   "cell_type": "code",
   "execution_count": 91,
   "metadata": {},
   "outputs": [
    {
     "data": {
      "text/plain": [
       "['is', 'with', 'words', 'This', 'string']"
      ]
     },
     "execution_count": 91,
     "metadata": {},
     "output_type": "execute_result"
    }
   ],
   "source": [
    "words.takeSample(withReplacement=False, num=5, seed=3)"
   ]
  },
  {
   "cell_type": "code",
   "execution_count": 97,
   "metadata": {},
   "outputs": [],
   "source": [
    "# saving RDDs in files\n",
    "words.saveAsTextFile(\"file:///Users/Neeraj/Downloads/words\")\n",
    "words.map(lambda w: (w, len(w))).saveAsSequenceFile(\"file:///Users/Neeraj/Downloads/words1\")"
   ]
  },
  {
   "cell_type": "code",
   "execution_count": 100,
   "metadata": {},
   "outputs": [
    {
     "data": {
      "text/plain": [
       "StorageLevel(False, True, False, False, 1)"
      ]
     },
     "execution_count": 100,
     "metadata": {},
     "output_type": "execute_result"
    }
   ],
   "source": [
    "# cache a RDD in memory\n",
    "words.cache()\n",
    "words.collect()\n",
    "words.getStorageLevel()"
   ]
  },
  {
   "cell_type": "code",
   "execution_count": 102,
   "metadata": {},
   "outputs": [
    {
     "data": {
      "text/plain": [
       "['This', 'is', 'a', 'big', 'string', 'with', 'words', 'of', 'type', 'string']"
      ]
     },
     "execution_count": 102,
     "metadata": {},
     "output_type": "execute_result"
    }
   ],
   "source": [
    "# checkpoint - this feature isn't available in dataset or dataframes. It allows to store a RDD on disk instead of memory\n",
    "# so it can be accessed later without recomputing.\n",
    "spark.sparkContext.setCheckpointDir(\"file:///Users/Neeraj/Downloads/checkpoint\")\n",
    "words.checkpoint()\n",
    "words.collect()"
   ]
  },
  {
   "cell_type": "code",
   "execution_count": 103,
   "metadata": {},
   "outputs": [
    {
     "data": {
      "text/plain": [
       "['       5', '       5']"
      ]
     },
     "execution_count": 103,
     "metadata": {},
     "output_type": "execute_result"
    }
   ],
   "source": [
    "# using pipe to invoke external processes. This is great method to invoke existing programs\n",
    "words.pipe('wc -l').collect()"
   ]
  },
  {
   "cell_type": "code",
   "execution_count": 110,
   "metadata": {},
   "outputs": [
    {
     "data": {
      "text/plain": [
       "['Running shell script',\n",
       " 'THIS',\n",
       " 'IS',\n",
       " 'A',\n",
       " 'BIG',\n",
       " 'STRING',\n",
       " 'Running shell script',\n",
       " 'WITH',\n",
       " 'WORDS',\n",
       " 'OF',\n",
       " 'TYPE',\n",
       " 'STRING']"
      ]
     },
     "execution_count": 110,
     "metadata": {},
     "output_type": "execute_result"
    }
   ],
   "source": [
    "# it is invoked once per partition as seen in the results\n",
    "words.pipe('./upperCase.sh').collect()"
   ]
  },
  {
   "cell_type": "code",
   "execution_count": 12,
   "metadata": {},
   "outputs": [],
   "source": [
    "# load xml data\n",
    "# start pyspark as \n",
    "# pyspark --packages com.databricks:spark-xml_2.10:0.4.1\n",
    "\n",
    "#from os import environ\n",
    "#environ['PYSPARK_SUBMIT_ARGS'] = '--packages com.databricks:spark-xml_2.10:0.4.1 pyspark-shell'\n",
    "\n",
    "xmlDF = spark.read.format(\"xml\")\\\n",
    "        .options(rowTag=\"book\")\\\n",
    "        .load(\"file:///Users/Neeraj/Documents/Proj/Spark/data/books.xml\")"
   ]
  },
  {
   "cell_type": "code",
   "execution_count": 15,
   "metadata": {},
   "outputs": [
    {
     "name": "stdout",
     "output_type": "stream",
     "text": [
      "+-----+--------------------+--------------------+---------------+-----+------------+--------------------+\n",
      "|  _id|              author|         description|          genre|price|publish_date|               title|\n",
      "+-----+--------------------+--------------------+---------------+-----+------------+--------------------+\n",
      "|bk101|Gambardella, Matthew|An in-depth look ...|       Computer|44.95|  2000-10-01|XML Developer's G...|\n",
      "|bk102|          Ralls, Kim|A former architec...|        Fantasy| 5.95|  2000-12-16|       Midnight Rain|\n",
      "|bk103|         Corets, Eva|After the collaps...|        Fantasy| 5.95|  2000-11-17|     Maeve Ascendant|\n",
      "|bk104|         Corets, Eva|In post-apocalyps...|        Fantasy| 5.95|  2001-03-10|     Oberon's Legacy|\n",
      "|bk105|         Corets, Eva|The two daughters...|        Fantasy| 5.95|  2001-09-10|  The Sundered Grail|\n",
      "|bk106|    Randall, Cynthia|When Carla meets ...|        Romance| 4.95|  2000-09-02|         Lover Birds|\n",
      "|bk107|      Thurman, Paula|A deep sea diver ...|        Romance| 4.95|  2000-11-02|       Splish Splash|\n",
      "|bk108|       Knorr, Stefan|An anthology of h...|         Horror| 4.95|  2000-12-06|     Creepy Crawlies|\n",
      "|bk109|        Kress, Peter|After an inadvert...|Science Fiction| 6.95|  2000-11-02|        Paradox Lost|\n",
      "|bk110|        O'Brien, Tim|Microsoft's .NET ...|       Computer|36.95|  2000-12-09|Microsoft .NET: T...|\n",
      "|bk111|        O'Brien, Tim|The Microsoft MSX...|       Computer|36.95|  2000-12-01|MSXML3: A Compreh...|\n",
      "|bk112|         Galos, Mike|Microsoft Visual ...|       Computer|49.95|  2001-04-16|Visual Studio 7: ...|\n",
      "+-----+--------------------+--------------------+---------------+-----+------------+--------------------+\n",
      "\n"
     ]
    }
   ],
   "source": [
    "xmlDF.show()"
   ]
  },
  {
   "cell_type": "code",
   "execution_count": null,
   "metadata": {},
   "outputs": [],
   "source": []
  }
 ],
 "metadata": {
  "kernelspec": {
   "display_name": "Python 3",
   "language": "python",
   "name": "python3"
  },
  "language_info": {
   "codemirror_mode": {
    "name": "ipython",
    "version": 3
   },
   "file_extension": ".py",
   "mimetype": "text/x-python",
   "name": "python",
   "nbconvert_exporter": "python",
   "pygments_lexer": "ipython3",
   "version": "3.7.1"
  }
 },
 "nbformat": 4,
 "nbformat_minor": 2
}
